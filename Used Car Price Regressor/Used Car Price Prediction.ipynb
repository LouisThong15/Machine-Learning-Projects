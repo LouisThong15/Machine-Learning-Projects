{
 "cells": [
  {
   "cell_type": "markdown",
   "id": "c6cd4e1a-4019-4ccc-a094-1f5181162dd4",
   "metadata": {},
   "source": [
    "# Prediction of Used Car Prices - ML/AI Career Path Portfolio Project"
   ]
  },
  {
   "cell_type": "markdown",
   "id": "d234c86e-7ba3-4715-a05c-684799a5d320",
   "metadata": {},
   "source": [
    "This project focuses on a dataset that contains information of used cars from the year 1974 to 2024 such as its brand, type and model. The purpose of this project is to use machine learning algorithms and machine learning pipelines to predict used car prices. \n",
    "\n",
    "The original dataset was provided by Kaggle to provide its users with interesting and approachable datasets to practice their machine learning skills. (https://www.kaggle.com/competitions/playground-series-s4e9/overview) "
   ]
  },
  {
   "cell_type": "markdown",
   "id": "d23ff641-bad2-4e0c-a9aa-c5c9aa278530",
   "metadata": {},
   "source": [
    "## Goal of project"
   ]
  },
  {
   "cell_type": "markdown",
   "id": "be442e77-f94c-4d3c-b05d-ebfe5f34b0e8",
   "metadata": {},
   "source": [
    "1. Apply machine learning algorithms to a dataset and perform predictive analysis \n",
    "2. Create a ML pipeline to automate ML workflow"
   ]
  },
  {
   "cell_type": "markdown",
   "id": "23f9ab9e-9e93-45b8-a57d-aace5effc108",
   "metadata": {},
   "source": [
    "## Import Libraries"
   ]
  },
  {
   "cell_type": "code",
   "execution_count": 2,
   "id": "ecce5b92-6a72-4117-ae7d-6fafc1207d61",
   "metadata": {},
   "outputs": [],
   "source": [
    "import warnings\n",
    "warnings.simplefilter(action='ignore', category=FutureWarning)\n",
    "import numpy as np\n",
    "from matplotlib import pyplot as plt \n",
    "import seaborn as sns\n",
    "import pandas as pd\n",
    "from sklearn.model_selection import GridSearchCV, train_test_split, RandomizedSearchCV, cross_val_score\n",
    "from sklearn.linear_model import LinearRegression, Lasso, Ridge\n",
    "from sklearn.pipeline import Pipeline\n",
    "from sklearn.preprocessing import LabelEncoder, StandardScaler, OneHotEncoder\n",
    "from sklearn.metrics import mean_squared_error, r2_score \n",
    "from sklearn.compose import ColumnTransformer\n",
    "from sklearn.ensemble import RandomForestRegressor, GradientBoostingRegressor"
   ]
  },
  {
   "cell_type": "markdown",
   "id": "d4e371a8-c370-4645-b601-527b627ae5b3",
   "metadata": {},
   "source": [
    "## Load and Inspect Data"
   ]
  },
  {
   "cell_type": "code",
   "execution_count": 3,
   "id": "6f027446-7d5b-436e-a418-e301037909de",
   "metadata": {},
   "outputs": [],
   "source": [
    "test_set = pd.read_csv('test.csv')\n",
    "train_set = pd.read_csv('train.csv')"
   ]
  },
  {
   "cell_type": "code",
   "execution_count": 4,
   "id": "513758c9-c29c-4c1e-b7cd-2a383a266ccd",
   "metadata": {},
   "outputs": [
    {
     "name": "stdout",
     "output_type": "stream",
     "text": [
      "<class 'pandas.core.frame.DataFrame'>\n",
      "RangeIndex: 188533 entries, 0 to 188532\n",
      "Data columns (total 13 columns):\n",
      " #   Column        Non-Null Count   Dtype \n",
      "---  ------        --------------   ----- \n",
      " 0   id            188533 non-null  int64 \n",
      " 1   brand         188533 non-null  object\n",
      " 2   model         188533 non-null  object\n",
      " 3   model_year    188533 non-null  int64 \n",
      " 4   milage        188533 non-null  int64 \n",
      " 5   fuel_type     183450 non-null  object\n",
      " 6   engine        188533 non-null  object\n",
      " 7   transmission  188533 non-null  object\n",
      " 8   ext_col       188533 non-null  object\n",
      " 9   int_col       188533 non-null  object\n",
      " 10  accident      186081 non-null  object\n",
      " 11  clean_title   167114 non-null  object\n",
      " 12  price         188533 non-null  int64 \n",
      "dtypes: int64(4), object(9)\n",
      "memory usage: 18.7+ MB\n"
     ]
    },
    {
     "data": {
      "text/html": [
       "<div>\n",
       "<style scoped>\n",
       "    .dataframe tbody tr th:only-of-type {\n",
       "        vertical-align: middle;\n",
       "    }\n",
       "\n",
       "    .dataframe tbody tr th {\n",
       "        vertical-align: top;\n",
       "    }\n",
       "\n",
       "    .dataframe thead th {\n",
       "        text-align: right;\n",
       "    }\n",
       "</style>\n",
       "<table border=\"1\" class=\"dataframe\">\n",
       "  <thead>\n",
       "    <tr style=\"text-align: right;\">\n",
       "      <th></th>\n",
       "      <th>id</th>\n",
       "      <th>brand</th>\n",
       "      <th>model</th>\n",
       "      <th>model_year</th>\n",
       "      <th>milage</th>\n",
       "      <th>fuel_type</th>\n",
       "      <th>engine</th>\n",
       "      <th>transmission</th>\n",
       "      <th>ext_col</th>\n",
       "      <th>int_col</th>\n",
       "      <th>accident</th>\n",
       "      <th>clean_title</th>\n",
       "      <th>price</th>\n",
       "    </tr>\n",
       "  </thead>\n",
       "  <tbody>\n",
       "    <tr>\n",
       "      <th>0</th>\n",
       "      <td>0</td>\n",
       "      <td>MINI</td>\n",
       "      <td>Cooper S Base</td>\n",
       "      <td>2007</td>\n",
       "      <td>213000</td>\n",
       "      <td>Gasoline</td>\n",
       "      <td>172.0HP 1.6L 4 Cylinder Engine Gasoline Fuel</td>\n",
       "      <td>A/T</td>\n",
       "      <td>Yellow</td>\n",
       "      <td>Gray</td>\n",
       "      <td>None reported</td>\n",
       "      <td>Yes</td>\n",
       "      <td>4200</td>\n",
       "    </tr>\n",
       "    <tr>\n",
       "      <th>1</th>\n",
       "      <td>1</td>\n",
       "      <td>Lincoln</td>\n",
       "      <td>LS V8</td>\n",
       "      <td>2002</td>\n",
       "      <td>143250</td>\n",
       "      <td>Gasoline</td>\n",
       "      <td>252.0HP 3.9L 8 Cylinder Engine Gasoline Fuel</td>\n",
       "      <td>A/T</td>\n",
       "      <td>Silver</td>\n",
       "      <td>Beige</td>\n",
       "      <td>At least 1 accident or damage reported</td>\n",
       "      <td>Yes</td>\n",
       "      <td>4999</td>\n",
       "    </tr>\n",
       "    <tr>\n",
       "      <th>2</th>\n",
       "      <td>2</td>\n",
       "      <td>Chevrolet</td>\n",
       "      <td>Silverado 2500 LT</td>\n",
       "      <td>2002</td>\n",
       "      <td>136731</td>\n",
       "      <td>E85 Flex Fuel</td>\n",
       "      <td>320.0HP 5.3L 8 Cylinder Engine Flex Fuel Capab...</td>\n",
       "      <td>A/T</td>\n",
       "      <td>Blue</td>\n",
       "      <td>Gray</td>\n",
       "      <td>None reported</td>\n",
       "      <td>Yes</td>\n",
       "      <td>13900</td>\n",
       "    </tr>\n",
       "    <tr>\n",
       "      <th>3</th>\n",
       "      <td>3</td>\n",
       "      <td>Genesis</td>\n",
       "      <td>G90 5.0 Ultimate</td>\n",
       "      <td>2017</td>\n",
       "      <td>19500</td>\n",
       "      <td>Gasoline</td>\n",
       "      <td>420.0HP 5.0L 8 Cylinder Engine Gasoline Fuel</td>\n",
       "      <td>Transmission w/Dual Shift Mode</td>\n",
       "      <td>Black</td>\n",
       "      <td>Black</td>\n",
       "      <td>None reported</td>\n",
       "      <td>Yes</td>\n",
       "      <td>45000</td>\n",
       "    </tr>\n",
       "    <tr>\n",
       "      <th>4</th>\n",
       "      <td>4</td>\n",
       "      <td>Mercedes-Benz</td>\n",
       "      <td>Metris Base</td>\n",
       "      <td>2021</td>\n",
       "      <td>7388</td>\n",
       "      <td>Gasoline</td>\n",
       "      <td>208.0HP 2.0L 4 Cylinder Engine Gasoline Fuel</td>\n",
       "      <td>7-Speed A/T</td>\n",
       "      <td>Black</td>\n",
       "      <td>Beige</td>\n",
       "      <td>None reported</td>\n",
       "      <td>Yes</td>\n",
       "      <td>97500</td>\n",
       "    </tr>\n",
       "  </tbody>\n",
       "</table>\n",
       "</div>"
      ],
      "text/plain": [
       "   id          brand              model  model_year  milage      fuel_type  \\\n",
       "0   0           MINI      Cooper S Base        2007  213000       Gasoline   \n",
       "1   1        Lincoln              LS V8        2002  143250       Gasoline   \n",
       "2   2      Chevrolet  Silverado 2500 LT        2002  136731  E85 Flex Fuel   \n",
       "3   3        Genesis   G90 5.0 Ultimate        2017   19500       Gasoline   \n",
       "4   4  Mercedes-Benz        Metris Base        2021    7388       Gasoline   \n",
       "\n",
       "                                              engine  \\\n",
       "0       172.0HP 1.6L 4 Cylinder Engine Gasoline Fuel   \n",
       "1       252.0HP 3.9L 8 Cylinder Engine Gasoline Fuel   \n",
       "2  320.0HP 5.3L 8 Cylinder Engine Flex Fuel Capab...   \n",
       "3       420.0HP 5.0L 8 Cylinder Engine Gasoline Fuel   \n",
       "4       208.0HP 2.0L 4 Cylinder Engine Gasoline Fuel   \n",
       "\n",
       "                     transmission ext_col int_col  \\\n",
       "0                             A/T  Yellow    Gray   \n",
       "1                             A/T  Silver   Beige   \n",
       "2                             A/T    Blue    Gray   \n",
       "3  Transmission w/Dual Shift Mode   Black   Black   \n",
       "4                     7-Speed A/T   Black   Beige   \n",
       "\n",
       "                                 accident clean_title  price  \n",
       "0                           None reported         Yes   4200  \n",
       "1  At least 1 accident or damage reported         Yes   4999  \n",
       "2                           None reported         Yes  13900  \n",
       "3                           None reported         Yes  45000  \n",
       "4                           None reported         Yes  97500  "
      ]
     },
     "execution_count": 4,
     "metadata": {},
     "output_type": "execute_result"
    }
   ],
   "source": [
    "train_set.info()\n",
    "train_set.head()"
   ]
  },
  {
   "cell_type": "code",
   "execution_count": 5,
   "id": "865597ae-ae1f-46ff-a6b9-3c30a8462918",
   "metadata": {},
   "outputs": [
    {
     "name": "stdout",
     "output_type": "stream",
     "text": [
      "<class 'pandas.core.frame.DataFrame'>\n",
      "RangeIndex: 125690 entries, 0 to 125689\n",
      "Data columns (total 12 columns):\n",
      " #   Column        Non-Null Count   Dtype \n",
      "---  ------        --------------   ----- \n",
      " 0   id            125690 non-null  int64 \n",
      " 1   brand         125690 non-null  object\n",
      " 2   model         125690 non-null  object\n",
      " 3   model_year    125690 non-null  int64 \n",
      " 4   milage        125690 non-null  int64 \n",
      " 5   fuel_type     122307 non-null  object\n",
      " 6   engine        125690 non-null  object\n",
      " 7   transmission  125690 non-null  object\n",
      " 8   ext_col       125690 non-null  object\n",
      " 9   int_col       125690 non-null  object\n",
      " 10  accident      124058 non-null  object\n",
      " 11  clean_title   111451 non-null  object\n",
      "dtypes: int64(3), object(9)\n",
      "memory usage: 11.5+ MB\n"
     ]
    },
    {
     "data": {
      "text/html": [
       "<div>\n",
       "<style scoped>\n",
       "    .dataframe tbody tr th:only-of-type {\n",
       "        vertical-align: middle;\n",
       "    }\n",
       "\n",
       "    .dataframe tbody tr th {\n",
       "        vertical-align: top;\n",
       "    }\n",
       "\n",
       "    .dataframe thead th {\n",
       "        text-align: right;\n",
       "    }\n",
       "</style>\n",
       "<table border=\"1\" class=\"dataframe\">\n",
       "  <thead>\n",
       "    <tr style=\"text-align: right;\">\n",
       "      <th></th>\n",
       "      <th>id</th>\n",
       "      <th>brand</th>\n",
       "      <th>model</th>\n",
       "      <th>model_year</th>\n",
       "      <th>milage</th>\n",
       "      <th>fuel_type</th>\n",
       "      <th>engine</th>\n",
       "      <th>transmission</th>\n",
       "      <th>ext_col</th>\n",
       "      <th>int_col</th>\n",
       "      <th>accident</th>\n",
       "      <th>clean_title</th>\n",
       "    </tr>\n",
       "  </thead>\n",
       "  <tbody>\n",
       "    <tr>\n",
       "      <th>0</th>\n",
       "      <td>188533</td>\n",
       "      <td>Land</td>\n",
       "      <td>Rover LR2 Base</td>\n",
       "      <td>2015</td>\n",
       "      <td>98000</td>\n",
       "      <td>Gasoline</td>\n",
       "      <td>240.0HP 2.0L 4 Cylinder Engine Gasoline Fuel</td>\n",
       "      <td>6-Speed A/T</td>\n",
       "      <td>White</td>\n",
       "      <td>Beige</td>\n",
       "      <td>None reported</td>\n",
       "      <td>Yes</td>\n",
       "    </tr>\n",
       "    <tr>\n",
       "      <th>1</th>\n",
       "      <td>188534</td>\n",
       "      <td>Land</td>\n",
       "      <td>Rover Defender SE</td>\n",
       "      <td>2020</td>\n",
       "      <td>9142</td>\n",
       "      <td>Hybrid</td>\n",
       "      <td>395.0HP 3.0L Straight 6 Cylinder Engine Gasoli...</td>\n",
       "      <td>8-Speed A/T</td>\n",
       "      <td>Silver</td>\n",
       "      <td>Black</td>\n",
       "      <td>None reported</td>\n",
       "      <td>Yes</td>\n",
       "    </tr>\n",
       "    <tr>\n",
       "      <th>2</th>\n",
       "      <td>188535</td>\n",
       "      <td>Ford</td>\n",
       "      <td>Expedition Limited</td>\n",
       "      <td>2022</td>\n",
       "      <td>28121</td>\n",
       "      <td>Gasoline</td>\n",
       "      <td>3.5L V6 24V PDI DOHC Twin Turbo</td>\n",
       "      <td>10-Speed Automatic</td>\n",
       "      <td>White</td>\n",
       "      <td>Ebony</td>\n",
       "      <td>None reported</td>\n",
       "      <td>NaN</td>\n",
       "    </tr>\n",
       "    <tr>\n",
       "      <th>3</th>\n",
       "      <td>188536</td>\n",
       "      <td>Audi</td>\n",
       "      <td>A6 2.0T Sport</td>\n",
       "      <td>2016</td>\n",
       "      <td>61258</td>\n",
       "      <td>Gasoline</td>\n",
       "      <td>2.0 Liter TFSI</td>\n",
       "      <td>Automatic</td>\n",
       "      <td>Silician Yellow</td>\n",
       "      <td>Black</td>\n",
       "      <td>None reported</td>\n",
       "      <td>NaN</td>\n",
       "    </tr>\n",
       "    <tr>\n",
       "      <th>4</th>\n",
       "      <td>188537</td>\n",
       "      <td>Audi</td>\n",
       "      <td>A6 2.0T Premium Plus</td>\n",
       "      <td>2018</td>\n",
       "      <td>59000</td>\n",
       "      <td>Gasoline</td>\n",
       "      <td>252.0HP 2.0L 4 Cylinder Engine Gasoline Fuel</td>\n",
       "      <td>A/T</td>\n",
       "      <td>Gray</td>\n",
       "      <td>Black</td>\n",
       "      <td>None reported</td>\n",
       "      <td>Yes</td>\n",
       "    </tr>\n",
       "  </tbody>\n",
       "</table>\n",
       "</div>"
      ],
      "text/plain": [
       "       id brand                 model  model_year  milage fuel_type  \\\n",
       "0  188533  Land        Rover LR2 Base        2015   98000  Gasoline   \n",
       "1  188534  Land     Rover Defender SE        2020    9142    Hybrid   \n",
       "2  188535  Ford    Expedition Limited        2022   28121  Gasoline   \n",
       "3  188536  Audi         A6 2.0T Sport        2016   61258  Gasoline   \n",
       "4  188537  Audi  A6 2.0T Premium Plus        2018   59000  Gasoline   \n",
       "\n",
       "                                              engine        transmission  \\\n",
       "0       240.0HP 2.0L 4 Cylinder Engine Gasoline Fuel         6-Speed A/T   \n",
       "1  395.0HP 3.0L Straight 6 Cylinder Engine Gasoli...         8-Speed A/T   \n",
       "2                    3.5L V6 24V PDI DOHC Twin Turbo  10-Speed Automatic   \n",
       "3                                     2.0 Liter TFSI           Automatic   \n",
       "4       252.0HP 2.0L 4 Cylinder Engine Gasoline Fuel                 A/T   \n",
       "\n",
       "           ext_col int_col       accident clean_title  \n",
       "0            White   Beige  None reported         Yes  \n",
       "1           Silver   Black  None reported         Yes  \n",
       "2            White   Ebony  None reported         NaN  \n",
       "3  Silician Yellow   Black  None reported         NaN  \n",
       "4             Gray   Black  None reported         Yes  "
      ]
     },
     "execution_count": 5,
     "metadata": {},
     "output_type": "execute_result"
    }
   ],
   "source": [
    "test_set.info()\n",
    "test_set.head()"
   ]
  },
  {
   "cell_type": "markdown",
   "id": "a42aaffd-bc43-4bde-a7ac-7a88a120ebdf",
   "metadata": {},
   "source": [
    "The training and testing dataset contains 188533 rows and 125690 rows respectively, with 13 columns containing information on used cars. It seems that all of the columns except 'fuel_type', 'clean_title' and 'accident' do not have null values.\n",
    "\n",
    "Here's a quick summary of the columns:\n",
    "\n",
    "- **id**: The identification number of the vehicle.\n",
    "- **brand**: The manufacturer of the vehicle.\n",
    "- **model**: The specific model of the vehicle produced by the brand. \n",
    "- **milage**: The milage of the vehicle. \n",
    "- **fuel_type**: The type of fuel the vehicles run on, whether it's gasoline, diesel, electric, or hybrid.\n",
    "- **engine**: The engine specifications of the vehicle.\n",
    "- **transmission**: The transmission type, whether automatic, manual, or another variant.\n",
    "- **ext_col**: The exterior color of the vehicle.\n",
    "- **int_col**: The interior color of the vehicle.\n",
    "- **accident**: The vehicle's history of accidents or damages.\n",
    "- **clean_title**: The availability of a clean title.\n",
    "- **price**: The listed prices for the vehicle."
   ]
  },
  {
   "cell_type": "markdown",
   "id": "8b45e686-1433-4328-9c1f-db037becc071",
   "metadata": {},
   "source": [
    "## Data Cleaning and Preparation"
   ]
  },
  {
   "cell_type": "markdown",
   "id": "f5ce97e9-1ade-4498-a308-96e79362f99a",
   "metadata": {},
   "source": [
    "### Fuel Type"
   ]
  },
  {
   "cell_type": "markdown",
   "id": "9f4809eb-3d17-4997-8280-001e1615300b",
   "metadata": {},
   "source": [
    "Firstly, we will deal with the 'fuel_type' column."
   ]
  },
  {
   "cell_type": "code",
   "execution_count": 6,
   "id": "5c5b08b1-4bb9-454f-a336-2a51c80048a6",
   "metadata": {},
   "outputs": [
    {
     "data": {
      "text/plain": [
       "fuel_type\n",
       "Gasoline          165940\n",
       "Hybrid              6832\n",
       "E85 Flex Fuel       5406\n",
       "Diesel              3955\n",
       "–                    781\n",
       "Plug-In Hybrid       521\n",
       "not supported         15\n",
       "Name: count, dtype: int64"
      ]
     },
     "execution_count": 6,
     "metadata": {},
     "output_type": "execute_result"
    }
   ],
   "source": [
    "train_set.fuel_type.value_counts()"
   ]
  },
  {
   "cell_type": "code",
   "execution_count": 7,
   "id": "378e3a72-ea49-4d2b-a562-7c77a473df29",
   "metadata": {},
   "outputs": [
    {
     "data": {
      "text/plain": [
       "fuel_type\n",
       "Gasoline          110533\n",
       "Hybrid              4676\n",
       "E85 Flex Fuel       3523\n",
       "Diesel              2686\n",
       "–                    538\n",
       "Plug-In Hybrid       337\n",
       "not supported         14\n",
       "Name: count, dtype: int64"
      ]
     },
     "execution_count": 7,
     "metadata": {},
     "output_type": "execute_result"
    }
   ],
   "source": [
    "test_set.fuel_type.value_counts()"
   ]
  },
  {
   "cell_type": "markdown",
   "id": "ddc2e7be-cc8f-4b71-8f79-a5adbb381eec",
   "metadata": {},
   "source": [
    "Since gasoline vehicles are the most common, we will replace the '-', 'not supported' and null values with 'Gasoline'."
   ]
  },
  {
   "cell_type": "code",
   "execution_count": 8,
   "id": "a7b86a89-edc4-4a7b-9dc0-81c14695326f",
   "metadata": {},
   "outputs": [],
   "source": [
    "# Training set\n",
    "train_set['fuel_type'].replace(['–','not supported'], 'Gasoline', inplace = True)\n",
    "train_set['fuel_type'].fillna('Gasoline', inplace = True)\n",
    "train_set['fuel_type'].replace('Plug-In Hybrid', 'Hybrid', inplace = True)\n",
    "\n",
    "# Testing set\n",
    "test_set['fuel_type'].replace(['–','not supported'], 'Gasoline', inplace = True)\n",
    "test_set['fuel_type'].fillna('Gasoline', inplace = True)\n",
    "test_set['fuel_type'].replace('Plug-In Hybrid', 'Hybrid', inplace = True)"
   ]
  },
  {
   "cell_type": "markdown",
   "id": "95a38c86-9e21-46a0-a3a1-0ea6ecc349a1",
   "metadata": {},
   "source": [
    "### Clean Title"
   ]
  },
  {
   "cell_type": "markdown",
   "id": "15ae6656-b666-42e3-9d7a-14a2809fd29c",
   "metadata": {},
   "source": [
    "Next, we will make the 'clean_title' into a binary field by replacing 'Yes' with 1 and the null values with 0."
   ]
  },
  {
   "cell_type": "code",
   "execution_count": 9,
   "id": "6aa3cfc7-7e0f-4b3d-8bd7-24e5856a0e24",
   "metadata": {},
   "outputs": [
    {
     "data": {
      "text/plain": [
       "array(['Yes', nan], dtype=object)"
      ]
     },
     "execution_count": 9,
     "metadata": {},
     "output_type": "execute_result"
    }
   ],
   "source": [
    "train_set.clean_title.unique()"
   ]
  },
  {
   "cell_type": "code",
   "execution_count": 10,
   "id": "20a79485-97e1-4ff2-84ff-d58ddf51731f",
   "metadata": {},
   "outputs": [],
   "source": [
    "# Filling null values in training set\n",
    "train_set.clean_title.replace('Yes', 1, inplace = True)\n",
    "train_set.clean_title.fillna(0, inplace = True)\n",
    "\n",
    "# Filling null values in testing set\n",
    "test_set.clean_title.replace('Yes', 1, inplace = True)\n",
    "test_set.clean_title.fillna(0, inplace = True)\n",
    "\n",
    "# Changing 'clean_title' data type to bool\n",
    "train_set.clean_title = train_set.clean_title.astype('bool')\n",
    "test_set.clean_title = test_set.clean_title.astype('bool')"
   ]
  },
  {
   "cell_type": "markdown",
   "id": "83f77da0-d715-4c44-af6b-3c334ec45587",
   "metadata": {},
   "source": [
    "### Accidents"
   ]
  },
  {
   "cell_type": "markdown",
   "id": "4aed7a80-de50-4679-9a71-89cb16664efa",
   "metadata": {},
   "source": [
    "Lastly, we will do the same with the 'accident' column."
   ]
  },
  {
   "cell_type": "code",
   "execution_count": 11,
   "id": "9383c3e5-0870-4b82-909b-31927b400960",
   "metadata": {},
   "outputs": [
    {
     "data": {
      "text/plain": [
       "array(['None reported', 'At least 1 accident or damage reported', nan],\n",
       "      dtype=object)"
      ]
     },
     "execution_count": 11,
     "metadata": {},
     "output_type": "execute_result"
    }
   ],
   "source": [
    "train_set.accident.unique()"
   ]
  },
  {
   "cell_type": "code",
   "execution_count": 12,
   "id": "b664d36e-1114-4b9e-93e2-8bed3a3460be",
   "metadata": {},
   "outputs": [],
   "source": [
    "# Replacing values in training set\n",
    "train_set.accident.replace(['No', 'None reported'], 0, inplace=True)\n",
    "train_set.accident.replace('At least 1 accident or damage reported', 1, inplace=True)\n",
    "train_set.accident.fillna(0, inplace=True)\n",
    "\n",
    "# Replacing values in testing set\n",
    "test_set.accident.replace(['No', 'None reported'], 0, inplace=True)\n",
    "test_set.accident.replace('At least 1 accident or damage reported', 1, inplace=True)\n",
    "test_set.accident.fillna(0, inplace=True)\n",
    "\n",
    "# Changing 'accident' data type to bool\n",
    "train_set.accident = train_set.accident.astype('bool')\n",
    "test_set.accident = test_set.accident.astype('bool')"
   ]
  },
  {
   "cell_type": "markdown",
   "id": "2b35c660-243c-42e8-8b71-f4c46b5554b5",
   "metadata": {},
   "source": [
    "## Feature Engineering "
   ]
  },
  {
   "cell_type": "markdown",
   "id": "cb091090-1300-42f7-8f03-686e8fa78945",
   "metadata": {},
   "source": [
    "### Transmission Type"
   ]
  },
  {
   "cell_type": "markdown",
   "id": "10c2afb6-7df0-45c5-9376-65ea82e326a4",
   "metadata": {},
   "source": [
    "There are a lot of transmission types in the training and testing dataset. We will categorise them into 4 different types; Automatic, Manual, CVT, Dual Shift and Others."
   ]
  },
  {
   "cell_type": "code",
   "execution_count": 13,
   "id": "42a356e2-38d6-44ba-b555-1b665e99da49",
   "metadata": {},
   "outputs": [
    {
     "data": {
      "text/plain": [
       "transmission\n",
       "A/T                               33132\n",
       "8-Speed A/T                       13941\n",
       "Transmission w/Dual Shift Mode    12824\n",
       "6-Speed A/T                       12061\n",
       "6-Speed M/T                        7865\n",
       "7-Speed A/T                        7374\n",
       "Automatic                          7175\n",
       "8-Speed Automatic                  5546\n",
       "10-Speed A/T                       5303\n",
       "9-Speed A/T                        2584\n",
       "Name: count, dtype: int64"
      ]
     },
     "execution_count": 13,
     "metadata": {},
     "output_type": "execute_result"
    }
   ],
   "source": [
    "test_set.transmission.value_counts().head(10)"
   ]
  },
  {
   "cell_type": "code",
   "execution_count": 14,
   "id": "2316da5a-e744-4bb8-97cb-b25c327939a1",
   "metadata": {},
   "outputs": [],
   "source": [
    "auto = ['Auto', 'A/T', 'SCHEDULED', '–', 'F', 'AT', '2', '7-Speed', '6-Speed']\n",
    "manual = ['Manual', 'M/T', 'MT', 'Mt']\n",
    "\n",
    "# function for transmission \n",
    "def transmission(type):\n",
    "    if any(x in type for x in auto):\n",
    "        return 'Automatic'\n",
    "    elif any(x in type for x in manual):\n",
    "        return 'Manual'\n",
    "    elif 'CVT' in type or 'Variable' in type:\n",
    "        return 'CVT' \n",
    "    elif 'Dual Shift' in type:\n",
    "        return 'Dual Shift Mode'\n",
    "    elif 'Overdrive' in type:\n",
    "        return 'Overdrive Switch'\n",
    "    else:\n",
    "        return 'Others'\n",
    "    \n",
    "train_set['transmission_type'] = train_set.transmission.apply(transmission)\n",
    "test_set['transmission_type'] = test_set.transmission.apply(transmission)"
   ]
  },
  {
   "cell_type": "code",
   "execution_count": 15,
   "id": "248c70bf-9313-4350-a212-f5b1d5672ced",
   "metadata": {},
   "outputs": [
    {
     "data": {
      "text/plain": [
       "transmission_type\n",
       "Automatic           163366\n",
       "Dual Shift Mode      19255\n",
       "Manual                3700\n",
       "CVT                   2056\n",
       "Overdrive Switch       156\n",
       "Name: count, dtype: int64"
      ]
     },
     "execution_count": 15,
     "metadata": {},
     "output_type": "execute_result"
    }
   ],
   "source": [
    "train_set.transmission_type.value_counts()"
   ]
  },
  {
   "cell_type": "markdown",
   "id": "4c5981e1-8519-473a-9386-315e918f5428",
   "metadata": {},
   "source": [
    "### Brand"
   ]
  },
  {
   "cell_type": "markdown",
   "id": "9e7d468a-9e8b-4d71-90ad-d3c969c3c1f7",
   "metadata": {},
   "source": [
    "We will perform frequency encoding on the 'brand' column since there are a lot of brands."
   ]
  },
  {
   "cell_type": "code",
   "execution_count": 16,
   "id": "f7c31771-a384-4d58-9d3c-95f83d294972",
   "metadata": {},
   "outputs": [],
   "source": [
    "freq_encoding_brand_train = train_set['brand'].value_counts().to_dict()\n",
    "train_set['encoded_brand'] = train_set['brand'].map(freq_encoding_brand_train)\n",
    "\n",
    "freq_encoding_brand_test = test_set['brand'].value_counts().to_dict()\n",
    "test_set['encoded_brand'] = test_set['brand'].map(freq_encoding_brand_test)"
   ]
  },
  {
   "cell_type": "markdown",
   "id": "c6d3a446-9c76-42fc-89cc-da026507f368",
   "metadata": {},
   "source": [
    "### Horsepower"
   ]
  },
  {
   "cell_type": "markdown",
   "id": "f3b529e5-bc67-40a3-a8b5-b17f4fff51d4",
   "metadata": {},
   "source": [
    "We can also extract the horsepower of the engine from the 'engine' column. We will replace rows that do not have horsepower values with the mode horspower."
   ]
  },
  {
   "cell_type": "code",
   "execution_count": 17,
   "id": "f6a9a630-cc76-437d-b253-5d70bafb391f",
   "metadata": {},
   "outputs": [],
   "source": [
    "# Extracting horsepower from 'engine' column\n",
    "train_set['horsepower'] = train_set['engine'].str.extract(r'(\\d+\\.?\\d*)HP').astype(float)\n",
    "test_set['horsepower'] = test_set['engine'].str.extract(r'(\\d+\\.?\\d*)HP').astype(float)\n",
    "\n",
    "# Filling null values with mode value\n",
    "train_set['horsepower'].fillna(train_set['horsepower'].mode()[0], inplace=True)\n",
    "test_set['horsepower'].fillna(test_set['horsepower'].mode()[0], inplace=True)\n",
    "\n",
    "# Converting 'horsepower' column to int\n",
    "train_set['horsepower'] = train_set['horsepower'].astype('int')\n",
    "test_set['horsepower'] = test_set['horsepower'].astype('int')"
   ]
  },
  {
   "cell_type": "markdown",
   "id": "d8b86619-78fc-4731-b62d-baef11755064",
   "metadata": {},
   "source": [
    "### Exterior and Interior Colors"
   ]
  },
  {
   "cell_type": "markdown",
   "id": "8753bd52-d189-40d2-91b2-9241f236c5d3",
   "metadata": {},
   "source": [
    "Similarly to brands, we will perform frequency encoding on the exterior and interior color columns."
   ]
  },
  {
   "cell_type": "code",
   "execution_count": 18,
   "id": "582576f1-a8bb-4f87-8a50-59e1c210d3b9",
   "metadata": {},
   "outputs": [],
   "source": [
    "# Frequency encoding exteriol colors in training dataset\n",
    "frequency_encoding_ext_col = train_set['ext_col'].value_counts().to_dict()\n",
    "train_set['encoded_ext_color'] = train_set['ext_col'].map(frequency_encoding_ext_col)\n",
    "\n",
    "frequency_encoding_int_col = train_set['int_col'].value_counts().to_dict()\n",
    "train_set['encoded_int_color'] = train_set['int_col'].map(frequency_encoding_int_col)\n",
    "\n",
    "# Frequency encoding exteriol colors in testing dataset\n",
    "frequency_encoding_ext_col = test_set['ext_col'].value_counts().to_dict()\n",
    "test_set['encoded_ext_color'] = test_set['ext_col'].map(frequency_encoding_ext_col)\n",
    "\n",
    "frequency_encoding_int_col = test_set['int_col'].value_counts().to_dict()\n",
    "test_set['encoded_int_color'] = test_set['int_col'].map(frequency_encoding_int_col)"
   ]
  },
  {
   "cell_type": "markdown",
   "id": "4bdd1c1d-1694-468d-9c25-698e73e88bcc",
   "metadata": {},
   "source": [
    "### Speed"
   ]
  },
  {
   "cell_type": "markdown",
   "id": "a000cd55-c454-43a0-ac3e-5f69db9b6b6b",
   "metadata": {},
   "source": [
    "We can extract the number of gears from the 'transmission' column and create a new column called 'Speed'."
   ]
  },
  {
   "cell_type": "code",
   "execution_count": 19,
   "id": "e2983483-5eca-4c20-a82b-7bb474c9bbbe",
   "metadata": {},
   "outputs": [
    {
     "data": {
      "text/plain": [
       "transmission\n",
       "A/T                               49904\n",
       "8-Speed A/T                       20645\n",
       "Transmission w/Dual Shift Mode    19255\n",
       "6-Speed A/T                       18044\n",
       "6-Speed M/T                       11998\n",
       "7-Speed A/T                       11124\n",
       "Automatic                         10691\n",
       "8-Speed Automatic                  8431\n",
       "10-Speed A/T                       8044\n",
       "9-Speed A/T                        3866\n",
       "Name: count, dtype: int64"
      ]
     },
     "execution_count": 19,
     "metadata": {},
     "output_type": "execute_result"
    }
   ],
   "source": [
    "train_set.transmission.value_counts().head(10)"
   ]
  },
  {
   "cell_type": "code",
   "execution_count": 20,
   "id": "75134827-316f-4299-8850-7f9af9af314a",
   "metadata": {},
   "outputs": [],
   "source": [
    "# Extracting speed from training set and creating new column\n",
    "train_set['speed'] = train_set['transmission'].str.extract(r'(\\d+)-Speed').astype(float)\n",
    "train_set['speed'].fillna(train_set.speed.mode()[0], inplace = True)\n",
    "\n",
    "# Extracting speed from testing set and creating new column\n",
    "test_set['speed'] = test_set['transmission'].str.extract(r'(\\d+)-Speed').astype(float)\n",
    "test_set['speed'].fillna(test_set.speed.mode()[0], inplace = True)\n",
    "\n",
    "# Converting 'speed' column to int\n",
    "train_set['speed'] = train_set['speed'].astype('int')\n",
    "test_set['speed'] = test_set['speed'].astype('int')"
   ]
  },
  {
   "cell_type": "markdown",
   "id": "1752ae78-44ca-456e-afac-acc534b2f5c0",
   "metadata": {},
   "source": [
    "### Litre"
   ]
  },
  {
   "cell_type": "markdown",
   "id": "ddc9bdfc-667e-42b6-a8bd-96717998513e",
   "metadata": {},
   "source": [
    "The volume of the cylinders in the engine can be extracted from the 'engine' column as well."
   ]
  },
  {
   "cell_type": "code",
   "execution_count": 21,
   "id": "d473fea9-a75c-4509-a1a9-e18cc17ea5de",
   "metadata": {},
   "outputs": [],
   "source": [
    "# Extracting litre from training set and creating new column\n",
    "train_set['litres'] = train_set['engine'].str.extract(r'(\\d+\\.?\\d*)L').astype(float)\n",
    "train_set['litres'].fillna(train_set['litres'].mode()[0], inplace=True)\n",
    "\n",
    "# Extracting litre from testing set and creating new column\n",
    "test_set['litres'] = test_set['engine'].str.extract(r'(\\d+\\.?\\d*)L').astype(float)\n",
    "test_set['litres'].fillna(test_set['litres'].mode()[0], inplace=True)"
   ]
  },
  {
   "cell_type": "markdown",
   "id": "ccd90119-3d38-49ad-a287-0ce1ae0c3fce",
   "metadata": {},
   "source": [
    "### Model"
   ]
  },
  {
   "cell_type": "code",
   "execution_count": 22,
   "id": "e20840b5-1828-47e5-bccd-3bf5f1c491f3",
   "metadata": {},
   "outputs": [],
   "source": [
    "freq_encoded_model = train_set['model'].value_counts().to_dict()\n",
    "train_set['encoded_model'] = train_set['model'].map(freq_encoded_model)\n",
    "\n",
    "test_set['encoded_model'] = test_set['model'].map(freq_encoded_model)\n",
    "test_set['encoded_model'].fillna(test_set['encoded_model'].mode()[0], inplace=True)"
   ]
  },
  {
   "cell_type": "markdown",
   "id": "caf9736b-21c6-43a1-86a7-2e788402f64a",
   "metadata": {},
   "source": [
    "## Feature Importances"
   ]
  },
  {
   "cell_type": "markdown",
   "id": "7a6abf2c-bc47-46f6-bf11-1c1dc0d79163",
   "metadata": {},
   "source": [
    "After feature engineering, we will determine the importance of each feature to optimize our model."
   ]
  },
  {
   "cell_type": "code",
   "execution_count": 23,
   "id": "ab4e448c-674f-4f34-ac45-0cca8c4daf18",
   "metadata": {},
   "outputs": [],
   "source": [
    "# Separate column types\n",
    "feature_cols = ['encoded_brand', 'model_year', 'milage', 'horsepower', 'fuel_type', 'encoded_ext_color', 'encoded_int_color', 'transmission_type', \n",
    "                'speed', 'accident', 'clean_title', 'litres', 'encoded_model']\n",
    "X = train_set[feature_cols]\n",
    "y = train_set.price\n",
    "\n",
    "num_cols = ['model_year', 'milage', 'horsepower', 'speed', 'litres']\n",
    "cat_cols = ['transmission_type', 'fuel_type']\n",
    "freq_cols = ['encoded_brand', 'encoded_ext_color', 'encoded_int_color', 'encoded_model']\n",
    "bin_cols = X.select_dtypes(include='bool').columns  # Columns with boolean values \n",
    "\n",
    "preprocessor = ColumnTransformer(\n",
    "    transformers=[\n",
    "        ('num', StandardScaler(), num_cols),  # Scale numerical columns\n",
    "        ('cat', OneHotEncoder(sparse = False, drop='first'), cat_cols),  # One-Hot Encode categorical columns\n",
    "        ('freq', 'passthrough', freq_cols),\n",
    "        ('bin', 'passthrough', bin_cols)    # Keep binary columns as they are\n",
    "    ])"
   ]
  },
  {
   "cell_type": "code",
   "execution_count": 24,
   "id": "3a428e3f-190f-4830-b184-e840fde064d1",
   "metadata": {},
   "outputs": [],
   "source": [
    "# Apply the transformations to the training data\n",
    "X_preprocessed = preprocessor.fit_transform(X)\n",
    "X_preprocessed = pd.DataFrame(X_preprocessed, columns=preprocessor.get_feature_names_out())\n",
    "\n",
    "# Split the data into train and test sets\n",
    "x_train_processed, x_test_processed, y_train_processed, y_test_processed = train_test_split(X_preprocessed, y, test_size=0.2, random_state=42)"
   ]
  },
  {
   "cell_type": "code",
   "execution_count": 25,
   "id": "43e07071-d926-4ea9-9a6e-48ea32e151fc",
   "metadata": {},
   "outputs": [
    {
     "data": {
      "text/html": [
       "<style>#sk-container-id-1 {color: black;}#sk-container-id-1 pre{padding: 0;}#sk-container-id-1 div.sk-toggleable {background-color: white;}#sk-container-id-1 label.sk-toggleable__label {cursor: pointer;display: block;width: 100%;margin-bottom: 0;padding: 0.3em;box-sizing: border-box;text-align: center;}#sk-container-id-1 label.sk-toggleable__label-arrow:before {content: \"▸\";float: left;margin-right: 0.25em;color: #696969;}#sk-container-id-1 label.sk-toggleable__label-arrow:hover:before {color: black;}#sk-container-id-1 div.sk-estimator:hover label.sk-toggleable__label-arrow:before {color: black;}#sk-container-id-1 div.sk-toggleable__content {max-height: 0;max-width: 0;overflow: hidden;text-align: left;background-color: #f0f8ff;}#sk-container-id-1 div.sk-toggleable__content pre {margin: 0.2em;color: black;border-radius: 0.25em;background-color: #f0f8ff;}#sk-container-id-1 input.sk-toggleable__control:checked~div.sk-toggleable__content {max-height: 200px;max-width: 100%;overflow: auto;}#sk-container-id-1 input.sk-toggleable__control:checked~label.sk-toggleable__label-arrow:before {content: \"▾\";}#sk-container-id-1 div.sk-estimator input.sk-toggleable__control:checked~label.sk-toggleable__label {background-color: #d4ebff;}#sk-container-id-1 div.sk-label input.sk-toggleable__control:checked~label.sk-toggleable__label {background-color: #d4ebff;}#sk-container-id-1 input.sk-hidden--visually {border: 0;clip: rect(1px 1px 1px 1px);clip: rect(1px, 1px, 1px, 1px);height: 1px;margin: -1px;overflow: hidden;padding: 0;position: absolute;width: 1px;}#sk-container-id-1 div.sk-estimator {font-family: monospace;background-color: #f0f8ff;border: 1px dotted black;border-radius: 0.25em;box-sizing: border-box;margin-bottom: 0.5em;}#sk-container-id-1 div.sk-estimator:hover {background-color: #d4ebff;}#sk-container-id-1 div.sk-parallel-item::after {content: \"\";width: 100%;border-bottom: 1px solid gray;flex-grow: 1;}#sk-container-id-1 div.sk-label:hover label.sk-toggleable__label {background-color: #d4ebff;}#sk-container-id-1 div.sk-serial::before {content: \"\";position: absolute;border-left: 1px solid gray;box-sizing: border-box;top: 0;bottom: 0;left: 50%;z-index: 0;}#sk-container-id-1 div.sk-serial {display: flex;flex-direction: column;align-items: center;background-color: white;padding-right: 0.2em;padding-left: 0.2em;position: relative;}#sk-container-id-1 div.sk-item {position: relative;z-index: 1;}#sk-container-id-1 div.sk-parallel {display: flex;align-items: stretch;justify-content: center;background-color: white;position: relative;}#sk-container-id-1 div.sk-item::before, #sk-container-id-1 div.sk-parallel-item::before {content: \"\";position: absolute;border-left: 1px solid gray;box-sizing: border-box;top: 0;bottom: 0;left: 50%;z-index: -1;}#sk-container-id-1 div.sk-parallel-item {display: flex;flex-direction: column;z-index: 1;position: relative;background-color: white;}#sk-container-id-1 div.sk-parallel-item:first-child::after {align-self: flex-end;width: 50%;}#sk-container-id-1 div.sk-parallel-item:last-child::after {align-self: flex-start;width: 50%;}#sk-container-id-1 div.sk-parallel-item:only-child::after {width: 0;}#sk-container-id-1 div.sk-dashed-wrapped {border: 1px dashed gray;margin: 0 0.4em 0.5em 0.4em;box-sizing: border-box;padding-bottom: 0.4em;background-color: white;}#sk-container-id-1 div.sk-label label {font-family: monospace;font-weight: bold;display: inline-block;line-height: 1.2em;}#sk-container-id-1 div.sk-label-container {text-align: center;}#sk-container-id-1 div.sk-container {/* jupyter's `normalize.less` sets `[hidden] { display: none; }` but bootstrap.min.css set `[hidden] { display: none !important; }` so we also need the `!important` here to be able to override the default hidden behavior on the sphinx rendered scikit-learn.org. See: https://github.com/scikit-learn/scikit-learn/issues/21755 */display: inline-block !important;position: relative;}#sk-container-id-1 div.sk-text-repr-fallback {display: none;}</style><div id=\"sk-container-id-1\" class=\"sk-top-container\"><div class=\"sk-text-repr-fallback\"><pre>RandomForestRegressor(random_state=0)</pre><b>In a Jupyter environment, please rerun this cell to show the HTML representation or trust the notebook. <br />On GitHub, the HTML representation is unable to render, please try loading this page with nbviewer.org.</b></div><div class=\"sk-container\" hidden><div class=\"sk-item\"><div class=\"sk-estimator sk-toggleable\"><input class=\"sk-toggleable__control sk-hidden--visually\" id=\"sk-estimator-id-1\" type=\"checkbox\" checked><label for=\"sk-estimator-id-1\" class=\"sk-toggleable__label sk-toggleable__label-arrow\">RandomForestRegressor</label><div class=\"sk-toggleable__content\"><pre>RandomForestRegressor(random_state=0)</pre></div></div></div></div></div>"
      ],
      "text/plain": [
       "RandomForestRegressor(random_state=0)"
      ]
     },
     "execution_count": 25,
     "metadata": {},
     "output_type": "execute_result"
    }
   ],
   "source": [
    "# Initialize the GradientBoostingRegressor\n",
    "rf = RandomForestRegressor(random_state = 0)\n",
    "\n",
    "# Fit the model to the training data\n",
    "rf.fit(x_train_processed, y_train_processed)"
   ]
  },
  {
   "cell_type": "code",
   "execution_count": 26,
   "id": "63e65b3c-2d42-4e7b-be54-e0b908fca570",
   "metadata": {},
   "outputs": [
    {
     "name": "stdout",
     "output_type": "stream",
     "text": [
      "                                    feature  importance\n",
      "1                               num__milage    0.345615\n",
      "13                  freq__encoded_ext_color    0.118246\n",
      "15                      freq__encoded_model    0.101033\n",
      "0                           num__model_year    0.100105\n",
      "4                               num__litres    0.063847\n",
      "14                  freq__encoded_int_color    0.062970\n",
      "2                           num__horsepower    0.061840\n",
      "12                      freq__encoded_brand    0.049789\n",
      "3                                num__speed    0.037900\n",
      "17                         bin__clean_title    0.019566\n",
      "6    cat__transmission_type_Dual Shift Mode    0.013978\n",
      "16                            bin__accident    0.012306\n",
      "10                  cat__fuel_type_Gasoline    0.005632\n",
      "7             cat__transmission_type_Manual    0.002677\n",
      "9              cat__fuel_type_E85 Flex Fuel    0.002505\n",
      "11                    cat__fuel_type_Hybrid    0.001865\n",
      "5                cat__transmission_type_CVT    0.000107\n",
      "8   cat__transmission_type_Overdrive Switch    0.000019\n"
     ]
    }
   ],
   "source": [
    "# Get feature importances\n",
    "importances = rf.feature_importances_\n",
    "\n",
    "# Create a DataFrame to view feature importances\n",
    "feature_importances = pd.DataFrame({'feature': x_train_processed.columns, 'importance': importances})\n",
    "\n",
    "# Sort by importance\n",
    "feature_importances = feature_importances.sort_values(by='importance', ascending=False)\n",
    "\n",
    "# Print the top 10 most important features\n",
    "print(feature_importances)"
   ]
  },
  {
   "cell_type": "code",
   "execution_count": 27,
   "id": "f47abc41-3164-45ba-9d5a-9bbf152cbb69",
   "metadata": {},
   "outputs": [
    {
     "data": {
      "image/png": "[encoded data removed]",
      "text/plain": [
       "<Figure size 600x400 with 1 Axes>"
      ]
     },
     "metadata": {},
     "output_type": "display_data"
    }
   ],
   "source": [
    "plt.figure(figsize=(6, 4))\n",
    "sns.barplot(x='importance', y='feature', data=feature_importances.head(10))\n",
    "plt.title('Feature Importances from GradientBoostingRegressor')\n",
    "plt.show()"
   ]
  },
  {
   "cell_type": "code",
   "execution_count": 28,
   "id": "722016eb-3066-4a94-acd5-e48e64883030",
   "metadata": {},
   "outputs": [],
   "source": [
    "# Select the top 10 most important features\n",
    "top_features = feature_importances['feature'].head(10)\n",
    "x_train_top = x_train_processed[top_features]\n",
    "x_test_top = x_train_processed[top_features]"
   ]
  },
  {
   "cell_type": "markdown",
   "id": "f325f7c5-2a2c-4dc4-9b99-18b0d7685be7",
   "metadata": {},
   "source": [
    "## Model Selection and Evaluation"
   ]
  },
  {
   "cell_type": "markdown",
   "id": "4f32934d-3793-4ee2-b022-f2624e0a382e",
   "metadata": {},
   "source": [
    "After performing feature engineering, we can create a data pipeline to automate the machine learning workflow and streamline the code. We will first separate feature columns by categorical, numerical and binary."
   ]
  },
  {
   "cell_type": "code",
   "execution_count": 29,
   "id": "25b64da9-f49b-4bf6-a45a-633a05c11768",
   "metadata": {},
   "outputs": [],
   "source": [
    "# Split the data into train and test sets\n",
    "x_train, x_test, y_train, y_test = train_test_split(X, y, test_size=0.25, random_state=42)\n",
    "\n",
    "pipeline_gbr = Pipeline([('preprocess', preprocessor), ('regressor', GradientBoostingRegressor(random_state = 0, \n",
    "                                                                                       n_estimators = 600, subsample = 0.8,\n",
    "                                                                                       max_depth=8, min_samples_leaf=90,  # Increase min samples per leaf\n",
    "                                                                                       learning_rate=0.01, min_samples_split= 8,  # Increase min samples per split\n",
    "                                                                                        ))])"
   ]
  },
  {
   "cell_type": "code",
   "execution_count": 30,
   "id": "28c5419b-f1ef-432e-9ecd-eec735df56f3",
   "metadata": {},
   "outputs": [
    {
     "name": "stdout",
     "output_type": "stream",
     "text": [
      "RMSE for each fold:  [73063.53521562 76937.70082194 71372.87598086 73143.39449896\n",
      " 80823.07876743]\n",
      "Average RMSE:  75068.11705696295\n"
     ]
    }
   ],
   "source": [
    "# Perform 5-fold cross-validation\n",
    "cv_scores = cross_val_score(pipeline_gbr, x_train, y_train, cv=5, scoring='neg_mean_squared_error')\n",
    "\n",
    "# Convert the negative MSE to positive and take the square root to get RMSE\n",
    "rmse_scores = (-cv_scores) ** 0.5\n",
    "\n",
    "# Display the RMSE for each fold and the average RMSE\n",
    "print(\"RMSE for each fold: \", rmse_scores)\n",
    "print(\"Average RMSE: \", rmse_scores.mean())"
   ]
  },
  {
   "cell_type": "code",
   "execution_count": 31,
   "id": "5291fe88-c35e-4962-b14b-9b543b93487e",
   "metadata": {},
   "outputs": [
    {
     "name": "stdout",
     "output_type": "stream",
     "text": [
      "Train Score: 0.19487637379018274\n",
      "Test Score: 0.17410853182679853\n",
      "Root Mean Squared Error: 65421.88445126652\n"
     ]
    }
   ],
   "source": [
    "# Fit the pipeline on the training data and predict on test set\n",
    "pipeline_gbr.fit(x_train, y_train)\n",
    "y_pred = pipeline_gbr.predict(x_test)\n",
    "\n",
    "#Pipeline score\n",
    "train_score = pipeline_gbr.score(x_train, y_train)\n",
    "test_score = pipeline_gbr.score(x_test, y_test)\n",
    "print(f'Train Score: {train_score}')\n",
    "print(f'Test Score: {test_score}')\n",
    "\n",
    "# Mean squared error score\n",
    "mse = mean_squared_error(y_test, y_pred)\n",
    "rmse = mse**(1/2)\n",
    "print(f'Root Mean Squared Error: {rmse}')"
   ]
  },
  {
   "cell_type": "markdown",
   "id": "2d0253ad-ad08-4a25-ac07-ed51807e237c",
   "metadata": {
    "jp-MarkdownHeadingCollapsed": true
   },
   "source": [
    "### XGBoost"
   ]
  },
  {
   "cell_type": "code",
   "execution_count": 32,
   "id": "356b2058-6b80-4821-bb2f-feaa93fdc3a8",
   "metadata": {},
   "outputs": [],
   "source": [
    "import xgboost as xgb\n",
    "pipeline_xg = Pipeline([('preprocess', preprocessor), ('regressor', xgb.XGBRegressor(n_estimators=500,        # Number of boosting rounds (trees)\n",
    "                                                                                              max_depth=2,             # Maximum depth of a tree\n",
    "                                                                                              learning_rate=0.1,       # Shrinks the contribution of each tree\n",
    "                                                                                              subsample=0.8,           # Subsample ratio of the training instances\n",
    "                                                                                              colsample_bytree=0.8,    # Subsample ratio of columns when constructing each tree\n",
    "                                                                                              random_state=0  # Ensures reproducibility\n",
    "                                                                                              ))])"
   ]
  },
  {
   "cell_type": "code",
   "execution_count": 33,
   "id": "53747a6e-e1ed-4d4d-85ee-379e344da834",
   "metadata": {},
   "outputs": [
    {
     "name": "stdout",
     "output_type": "stream",
     "text": [
      "Train Score: 0.15056390355652782\n",
      "Test Score: 0.16310323192470544\n",
      "Root Mean Squared Error: 65856.32699739609\n"
     ]
    }
   ],
   "source": [
    "# Fit the pipeline on the training data and predict on the test data\n",
    "pipeline_xg.fit(x_train, y_train)\n",
    "y_pred = pipeline_xg.predict(x_test)\n",
    "\n",
    "#XGBoost score\n",
    "train_score = pipeline_xg.score(x_train, y_train)\n",
    "test_score = pipeline_xg.score(x_test, y_test)\n",
    "print(f'Train Score: {train_score}')\n",
    "print(f'Test Score: {test_score}')\n",
    "\n",
    "# Mean squared error score\n",
    "mse = mean_squared_error(y_test, y_pred)\n",
    "rmse = mse**(1/2)\n",
    "print(f'Root Mean Squared Error: {rmse}')"
   ]
  },
  {
   "cell_type": "markdown",
   "id": "4374fa8b-bd31-4cdc-aab3-51f312384c4d",
   "metadata": {},
   "source": [
    "## Hyperparameter Tuning"
   ]
  },
  {
   "cell_type": "markdown",
   "id": "6466636b-d521-459d-ab11-b78632a64255",
   "metadata": {},
   "source": [
    "Once we have selected a model, it can be tuned for better performance. Hyperparameter tuning is essential in making sure that the model does not overfit or underfit the data. We will use RandomizedSearchCV (RSV), instead of GridSearchCV as the processing time for RSV is much shorter than GridSearchCV."
   ]
  },
  {
   "cell_type": "markdown",
   "id": "03d079c1-fe8e-4618-a954-07ffa391acfb",
   "metadata": {},
   "source": [
    "### RandomizedSearchCV"
   ]
  },
  {
   "cell_type": "code",
   "execution_count": 36,
   "id": "557746a8-588f-4128-aa09-510cebe153a3",
   "metadata": {},
   "outputs": [],
   "source": [
    "param_grid = {\n",
    "    'regressor__n_estimators': [400, 500, 600],\n",
    "    'regressor__max_depth': [8],\n",
    "    'regressor__min_samples_split': [8],\n",
    "    'regressor__min_samples_leaf': [90, 100],\n",
    "    'regressor__subsample': [0.5, 0.7, 1.0]\n",
    "}\n",
    "\n",
    "# Grid search using previous pipeline\n",
    "rsv = RandomizedSearchCV(estimator=pipeline_gbr, param_distributions = param_grid, cv=2, scoring='neg_mean_squared_error', \n",
    "                         verbose = 1, n_iter =10, n_jobs = -1)"
   ]
  },
  {
   "cell_type": "code",
   "execution_count": 37,
   "id": "19eb3d43-daa8-438b-82a7-b615c90ec5dc",
   "metadata": {},
   "outputs": [
    {
     "name": "stdout",
     "output_type": "stream",
     "text": [
      "Fitting 2 folds for each of 10 candidates, totalling 20 fits\n"
     ]
    },
    {
     "ename": "KeyboardInterrupt",
     "evalue": "",
     "output_type": "error",
     "traceback": [
      "\u001b[1;31m---------------------------------------------------------------------------\u001b[0m",
      "\u001b[1;31mKeyboardInterrupt\u001b[0m                         Traceback (most recent call last)",
      "Cell \u001b[1;32mIn[37], line 2\u001b[0m\n\u001b[0;32m      1\u001b[0m \u001b[38;5;66;03m# Fit rsv using training data and print best score\u001b[39;00m\n\u001b[1;32m----> 2\u001b[0m \u001b[43mrsv\u001b[49m\u001b[38;5;241;43m.\u001b[39;49m\u001b[43mfit\u001b[49m\u001b[43m(\u001b[49m\u001b[43mx_train\u001b[49m\u001b[43m,\u001b[49m\u001b[43m \u001b[49m\u001b[43my_train\u001b[49m\u001b[43m)\u001b[49m\n\u001b[0;32m      3\u001b[0m best_rf \u001b[38;5;241m=\u001b[39m rsv\u001b[38;5;241m.\u001b[39mbest_estimator_\n\u001b[0;32m      5\u001b[0m \u001b[38;5;66;03m# Evaluate the model on the test set\u001b[39;00m\n",
      "File \u001b[1;32m~\\miniconda3\\lib\\site-packages\\sklearn\\base.py:1151\u001b[0m, in \u001b[0;36m_fit_context.<locals>.decorator.<locals>.wrapper\u001b[1;34m(estimator, *args, **kwargs)\u001b[0m\n\u001b[0;32m   1144\u001b[0m     estimator\u001b[38;5;241m.\u001b[39m_validate_params()\n\u001b[0;32m   1146\u001b[0m \u001b[38;5;28;01mwith\u001b[39;00m config_context(\n\u001b[0;32m   1147\u001b[0m     skip_parameter_validation\u001b[38;5;241m=\u001b[39m(\n\u001b[0;32m   1148\u001b[0m         prefer_skip_nested_validation \u001b[38;5;129;01mor\u001b[39;00m global_skip_validation\n\u001b[0;32m   1149\u001b[0m     )\n\u001b[0;32m   1150\u001b[0m ):\n\u001b[1;32m-> 1151\u001b[0m     \u001b[38;5;28;01mreturn\u001b[39;00m fit_method(estimator, \u001b[38;5;241m*\u001b[39margs, \u001b[38;5;241m*\u001b[39m\u001b[38;5;241m*\u001b[39mkwargs)\n",
      "File \u001b[1;32m~\\miniconda3\\lib\\site-packages\\sklearn\\model_selection\\_search.py:933\u001b[0m, in \u001b[0;36mBaseSearchCV.fit\u001b[1;34m(self, X, y, groups, **fit_params)\u001b[0m\n\u001b[0;32m    931\u001b[0m refit_start_time \u001b[38;5;241m=\u001b[39m time\u001b[38;5;241m.\u001b[39mtime()\n\u001b[0;32m    932\u001b[0m \u001b[38;5;28;01mif\u001b[39;00m y \u001b[38;5;129;01mis\u001b[39;00m \u001b[38;5;129;01mnot\u001b[39;00m \u001b[38;5;28;01mNone\u001b[39;00m:\n\u001b[1;32m--> 933\u001b[0m     \u001b[38;5;28mself\u001b[39m\u001b[38;5;241m.\u001b[39mbest_estimator_\u001b[38;5;241m.\u001b[39mfit(X, y, \u001b[38;5;241m*\u001b[39m\u001b[38;5;241m*\u001b[39mfit_params)\n\u001b[0;32m    934\u001b[0m \u001b[38;5;28;01melse\u001b[39;00m:\n\u001b[0;32m    935\u001b[0m     \u001b[38;5;28mself\u001b[39m\u001b[38;5;241m.\u001b[39mbest_estimator_\u001b[38;5;241m.\u001b[39mfit(X, \u001b[38;5;241m*\u001b[39m\u001b[38;5;241m*\u001b[39mfit_params)\n",
      "File \u001b[1;32m~\\miniconda3\\lib\\site-packages\\sklearn\\base.py:1151\u001b[0m, in \u001b[0;36m_fit_context.<locals>.decorator.<locals>.wrapper\u001b[1;34m(estimator, *args, **kwargs)\u001b[0m\n\u001b[0;32m   1144\u001b[0m     estimator\u001b[38;5;241m.\u001b[39m_validate_params()\n\u001b[0;32m   1146\u001b[0m \u001b[38;5;28;01mwith\u001b[39;00m config_context(\n\u001b[0;32m   1147\u001b[0m     skip_parameter_validation\u001b[38;5;241m=\u001b[39m(\n\u001b[0;32m   1148\u001b[0m         prefer_skip_nested_validation \u001b[38;5;129;01mor\u001b[39;00m global_skip_validation\n\u001b[0;32m   1149\u001b[0m     )\n\u001b[0;32m   1150\u001b[0m ):\n\u001b[1;32m-> 1151\u001b[0m     \u001b[38;5;28;01mreturn\u001b[39;00m fit_method(estimator, \u001b[38;5;241m*\u001b[39margs, \u001b[38;5;241m*\u001b[39m\u001b[38;5;241m*\u001b[39mkwargs)\n",
      "File \u001b[1;32m~\\miniconda3\\lib\\site-packages\\sklearn\\pipeline.py:420\u001b[0m, in \u001b[0;36mPipeline.fit\u001b[1;34m(self, X, y, **fit_params)\u001b[0m\n\u001b[0;32m    418\u001b[0m     \u001b[38;5;28;01mif\u001b[39;00m \u001b[38;5;28mself\u001b[39m\u001b[38;5;241m.\u001b[39m_final_estimator \u001b[38;5;241m!=\u001b[39m \u001b[38;5;124m\"\u001b[39m\u001b[38;5;124mpassthrough\u001b[39m\u001b[38;5;124m\"\u001b[39m:\n\u001b[0;32m    419\u001b[0m         fit_params_last_step \u001b[38;5;241m=\u001b[39m fit_params_steps[\u001b[38;5;28mself\u001b[39m\u001b[38;5;241m.\u001b[39msteps[\u001b[38;5;241m-\u001b[39m\u001b[38;5;241m1\u001b[39m][\u001b[38;5;241m0\u001b[39m]]\n\u001b[1;32m--> 420\u001b[0m         \u001b[38;5;28mself\u001b[39m\u001b[38;5;241m.\u001b[39m_final_estimator\u001b[38;5;241m.\u001b[39mfit(Xt, y, \u001b[38;5;241m*\u001b[39m\u001b[38;5;241m*\u001b[39mfit_params_last_step)\n\u001b[0;32m    422\u001b[0m \u001b[38;5;28;01mreturn\u001b[39;00m \u001b[38;5;28mself\u001b[39m\n",
      "File \u001b[1;32m~\\miniconda3\\lib\\site-packages\\sklearn\\base.py:1151\u001b[0m, in \u001b[0;36m_fit_context.<locals>.decorator.<locals>.wrapper\u001b[1;34m(estimator, *args, **kwargs)\u001b[0m\n\u001b[0;32m   1144\u001b[0m     estimator\u001b[38;5;241m.\u001b[39m_validate_params()\n\u001b[0;32m   1146\u001b[0m \u001b[38;5;28;01mwith\u001b[39;00m config_context(\n\u001b[0;32m   1147\u001b[0m     skip_parameter_validation\u001b[38;5;241m=\u001b[39m(\n\u001b[0;32m   1148\u001b[0m         prefer_skip_nested_validation \u001b[38;5;129;01mor\u001b[39;00m global_skip_validation\n\u001b[0;32m   1149\u001b[0m     )\n\u001b[0;32m   1150\u001b[0m ):\n\u001b[1;32m-> 1151\u001b[0m     \u001b[38;5;28;01mreturn\u001b[39;00m fit_method(estimator, \u001b[38;5;241m*\u001b[39margs, \u001b[38;5;241m*\u001b[39m\u001b[38;5;241m*\u001b[39mkwargs)\n",
      "File \u001b[1;32m~\\miniconda3\\lib\\site-packages\\sklearn\\ensemble\\_gb.py:525\u001b[0m, in \u001b[0;36mBaseGradientBoosting.fit\u001b[1;34m(self, X, y, sample_weight, monitor)\u001b[0m\n\u001b[0;32m    522\u001b[0m     \u001b[38;5;28mself\u001b[39m\u001b[38;5;241m.\u001b[39m_resize_state()\n\u001b[0;32m    524\u001b[0m \u001b[38;5;66;03m# fit the boosting stages\u001b[39;00m\n\u001b[1;32m--> 525\u001b[0m n_stages \u001b[38;5;241m=\u001b[39m \u001b[38;5;28;43mself\u001b[39;49m\u001b[38;5;241;43m.\u001b[39;49m\u001b[43m_fit_stages\u001b[49m\u001b[43m(\u001b[49m\n\u001b[0;32m    526\u001b[0m \u001b[43m    \u001b[49m\u001b[43mX\u001b[49m\u001b[43m,\u001b[49m\n\u001b[0;32m    527\u001b[0m \u001b[43m    \u001b[49m\u001b[43my\u001b[49m\u001b[43m,\u001b[49m\n\u001b[0;32m    528\u001b[0m \u001b[43m    \u001b[49m\u001b[43mraw_predictions\u001b[49m\u001b[43m,\u001b[49m\n\u001b[0;32m    529\u001b[0m \u001b[43m    \u001b[49m\u001b[43msample_weight\u001b[49m\u001b[43m,\u001b[49m\n\u001b[0;32m    530\u001b[0m \u001b[43m    \u001b[49m\u001b[38;5;28;43mself\u001b[39;49m\u001b[38;5;241;43m.\u001b[39;49m\u001b[43m_rng\u001b[49m\u001b[43m,\u001b[49m\n\u001b[0;32m    531\u001b[0m \u001b[43m    \u001b[49m\u001b[43mX_val\u001b[49m\u001b[43m,\u001b[49m\n\u001b[0;32m    532\u001b[0m \u001b[43m    \u001b[49m\u001b[43my_val\u001b[49m\u001b[43m,\u001b[49m\n\u001b[0;32m    533\u001b[0m \u001b[43m    \u001b[49m\u001b[43msample_weight_val\u001b[49m\u001b[43m,\u001b[49m\n\u001b[0;32m    534\u001b[0m \u001b[43m    \u001b[49m\u001b[43mbegin_at_stage\u001b[49m\u001b[43m,\u001b[49m\n\u001b[0;32m    535\u001b[0m \u001b[43m    \u001b[49m\u001b[43mmonitor\u001b[49m\u001b[43m,\u001b[49m\n\u001b[0;32m    536\u001b[0m \u001b[43m\u001b[49m\u001b[43m)\u001b[49m\n\u001b[0;32m    538\u001b[0m \u001b[38;5;66;03m# change shape of arrays after fit (early-stopping or additional ests)\u001b[39;00m\n\u001b[0;32m    539\u001b[0m \u001b[38;5;28;01mif\u001b[39;00m n_stages \u001b[38;5;241m!=\u001b[39m \u001b[38;5;28mself\u001b[39m\u001b[38;5;241m.\u001b[39mestimators_\u001b[38;5;241m.\u001b[39mshape[\u001b[38;5;241m0\u001b[39m]:\n",
      "File \u001b[1;32m~\\miniconda3\\lib\\site-packages\\sklearn\\ensemble\\_gb.py:603\u001b[0m, in \u001b[0;36mBaseGradientBoosting._fit_stages\u001b[1;34m(self, X, y, raw_predictions, sample_weight, random_state, X_val, y_val, sample_weight_val, begin_at_stage, monitor)\u001b[0m\n\u001b[0;32m    596\u001b[0m         initial_loss \u001b[38;5;241m=\u001b[39m loss_(\n\u001b[0;32m    597\u001b[0m             y[\u001b[38;5;241m~\u001b[39msample_mask],\n\u001b[0;32m    598\u001b[0m             raw_predictions[\u001b[38;5;241m~\u001b[39msample_mask],\n\u001b[0;32m    599\u001b[0m             sample_weight[\u001b[38;5;241m~\u001b[39msample_mask],\n\u001b[0;32m    600\u001b[0m         )\n\u001b[0;32m    602\u001b[0m \u001b[38;5;66;03m# fit next stage of trees\u001b[39;00m\n\u001b[1;32m--> 603\u001b[0m raw_predictions \u001b[38;5;241m=\u001b[39m \u001b[38;5;28;43mself\u001b[39;49m\u001b[38;5;241;43m.\u001b[39;49m\u001b[43m_fit_stage\u001b[49m\u001b[43m(\u001b[49m\n\u001b[0;32m    604\u001b[0m \u001b[43m    \u001b[49m\u001b[43mi\u001b[49m\u001b[43m,\u001b[49m\n\u001b[0;32m    605\u001b[0m \u001b[43m    \u001b[49m\u001b[43mX\u001b[49m\u001b[43m,\u001b[49m\n\u001b[0;32m    606\u001b[0m \u001b[43m    \u001b[49m\u001b[43my\u001b[49m\u001b[43m,\u001b[49m\n\u001b[0;32m    607\u001b[0m \u001b[43m    \u001b[49m\u001b[43mraw_predictions\u001b[49m\u001b[43m,\u001b[49m\n\u001b[0;32m    608\u001b[0m \u001b[43m    \u001b[49m\u001b[43msample_weight\u001b[49m\u001b[43m,\u001b[49m\n\u001b[0;32m    609\u001b[0m \u001b[43m    \u001b[49m\u001b[43msample_mask\u001b[49m\u001b[43m,\u001b[49m\n\u001b[0;32m    610\u001b[0m \u001b[43m    \u001b[49m\u001b[43mrandom_state\u001b[49m\u001b[43m,\u001b[49m\n\u001b[0;32m    611\u001b[0m \u001b[43m    \u001b[49m\u001b[43mX_csc\u001b[49m\u001b[43m,\u001b[49m\n\u001b[0;32m    612\u001b[0m \u001b[43m    \u001b[49m\u001b[43mX_csr\u001b[49m\u001b[43m,\u001b[49m\n\u001b[0;32m    613\u001b[0m \u001b[43m\u001b[49m\u001b[43m)\u001b[49m\n\u001b[0;32m    615\u001b[0m \u001b[38;5;66;03m# track loss\u001b[39;00m\n\u001b[0;32m    616\u001b[0m \u001b[38;5;28;01mif\u001b[39;00m do_oob:\n",
      "File \u001b[1;32m~\\miniconda3\\lib\\site-packages\\sklearn\\ensemble\\_gb.py:245\u001b[0m, in \u001b[0;36mBaseGradientBoosting._fit_stage\u001b[1;34m(self, i, X, y, raw_predictions, sample_weight, sample_mask, random_state, X_csc, X_csr)\u001b[0m\n\u001b[0;32m    242\u001b[0m     sample_weight \u001b[38;5;241m=\u001b[39m sample_weight \u001b[38;5;241m*\u001b[39m sample_mask\u001b[38;5;241m.\u001b[39mastype(np\u001b[38;5;241m.\u001b[39mfloat64)\n\u001b[0;32m    244\u001b[0m X \u001b[38;5;241m=\u001b[39m X_csr \u001b[38;5;28;01mif\u001b[39;00m X_csr \u001b[38;5;129;01mis\u001b[39;00m \u001b[38;5;129;01mnot\u001b[39;00m \u001b[38;5;28;01mNone\u001b[39;00m \u001b[38;5;28;01melse\u001b[39;00m X\n\u001b[1;32m--> 245\u001b[0m \u001b[43mtree\u001b[49m\u001b[38;5;241;43m.\u001b[39;49m\u001b[43mfit\u001b[49m\u001b[43m(\u001b[49m\u001b[43mX\u001b[49m\u001b[43m,\u001b[49m\u001b[43m \u001b[49m\u001b[43mresidual\u001b[49m\u001b[43m,\u001b[49m\u001b[43m \u001b[49m\u001b[43msample_weight\u001b[49m\u001b[38;5;241;43m=\u001b[39;49m\u001b[43msample_weight\u001b[49m\u001b[43m,\u001b[49m\u001b[43m \u001b[49m\u001b[43mcheck_input\u001b[49m\u001b[38;5;241;43m=\u001b[39;49m\u001b[38;5;28;43;01mFalse\u001b[39;49;00m\u001b[43m)\u001b[49m\n\u001b[0;32m    247\u001b[0m \u001b[38;5;66;03m# update tree leaves\u001b[39;00m\n\u001b[0;32m    248\u001b[0m loss\u001b[38;5;241m.\u001b[39mupdate_terminal_regions(\n\u001b[0;32m    249\u001b[0m     tree\u001b[38;5;241m.\u001b[39mtree_,\n\u001b[0;32m    250\u001b[0m     X,\n\u001b[1;32m   (...)\u001b[0m\n\u001b[0;32m    257\u001b[0m     k\u001b[38;5;241m=\u001b[39mk,\n\u001b[0;32m    258\u001b[0m )\n",
      "File \u001b[1;32m~\\miniconda3\\lib\\site-packages\\sklearn\\base.py:1151\u001b[0m, in \u001b[0;36m_fit_context.<locals>.decorator.<locals>.wrapper\u001b[1;34m(estimator, *args, **kwargs)\u001b[0m\n\u001b[0;32m   1144\u001b[0m     estimator\u001b[38;5;241m.\u001b[39m_validate_params()\n\u001b[0;32m   1146\u001b[0m \u001b[38;5;28;01mwith\u001b[39;00m config_context(\n\u001b[0;32m   1147\u001b[0m     skip_parameter_validation\u001b[38;5;241m=\u001b[39m(\n\u001b[0;32m   1148\u001b[0m         prefer_skip_nested_validation \u001b[38;5;129;01mor\u001b[39;00m global_skip_validation\n\u001b[0;32m   1149\u001b[0m     )\n\u001b[0;32m   1150\u001b[0m ):\n\u001b[1;32m-> 1151\u001b[0m     \u001b[38;5;28;01mreturn\u001b[39;00m fit_method(estimator, \u001b[38;5;241m*\u001b[39margs, \u001b[38;5;241m*\u001b[39m\u001b[38;5;241m*\u001b[39mkwargs)\n",
      "File \u001b[1;32m~\\miniconda3\\lib\\site-packages\\sklearn\\tree\\_classes.py:1320\u001b[0m, in \u001b[0;36mDecisionTreeRegressor.fit\u001b[1;34m(self, X, y, sample_weight, check_input)\u001b[0m\n\u001b[0;32m   1290\u001b[0m \u001b[38;5;129m@_fit_context\u001b[39m(prefer_skip_nested_validation\u001b[38;5;241m=\u001b[39m\u001b[38;5;28;01mTrue\u001b[39;00m)\n\u001b[0;32m   1291\u001b[0m \u001b[38;5;28;01mdef\u001b[39;00m \u001b[38;5;21mfit\u001b[39m(\u001b[38;5;28mself\u001b[39m, X, y, sample_weight\u001b[38;5;241m=\u001b[39m\u001b[38;5;28;01mNone\u001b[39;00m, check_input\u001b[38;5;241m=\u001b[39m\u001b[38;5;28;01mTrue\u001b[39;00m):\n\u001b[0;32m   1292\u001b[0m \u001b[38;5;250m    \u001b[39m\u001b[38;5;124;03m\"\"\"Build a decision tree regressor from the training set (X, y).\u001b[39;00m\n\u001b[0;32m   1293\u001b[0m \n\u001b[0;32m   1294\u001b[0m \u001b[38;5;124;03m    Parameters\u001b[39;00m\n\u001b[1;32m   (...)\u001b[0m\n\u001b[0;32m   1317\u001b[0m \u001b[38;5;124;03m        Fitted estimator.\u001b[39;00m\n\u001b[0;32m   1318\u001b[0m \u001b[38;5;124;03m    \"\"\"\u001b[39;00m\n\u001b[1;32m-> 1320\u001b[0m     \u001b[38;5;28;43msuper\u001b[39;49m\u001b[43m(\u001b[49m\u001b[43m)\u001b[49m\u001b[38;5;241;43m.\u001b[39;49m\u001b[43m_fit\u001b[49m\u001b[43m(\u001b[49m\n\u001b[0;32m   1321\u001b[0m \u001b[43m        \u001b[49m\u001b[43mX\u001b[49m\u001b[43m,\u001b[49m\n\u001b[0;32m   1322\u001b[0m \u001b[43m        \u001b[49m\u001b[43my\u001b[49m\u001b[43m,\u001b[49m\n\u001b[0;32m   1323\u001b[0m \u001b[43m        \u001b[49m\u001b[43msample_weight\u001b[49m\u001b[38;5;241;43m=\u001b[39;49m\u001b[43msample_weight\u001b[49m\u001b[43m,\u001b[49m\n\u001b[0;32m   1324\u001b[0m \u001b[43m        \u001b[49m\u001b[43mcheck_input\u001b[49m\u001b[38;5;241;43m=\u001b[39;49m\u001b[43mcheck_input\u001b[49m\u001b[43m,\u001b[49m\n\u001b[0;32m   1325\u001b[0m \u001b[43m    \u001b[49m\u001b[43m)\u001b[49m\n\u001b[0;32m   1326\u001b[0m     \u001b[38;5;28;01mreturn\u001b[39;00m \u001b[38;5;28mself\u001b[39m\n",
      "File \u001b[1;32m~\\miniconda3\\lib\\site-packages\\sklearn\\tree\\_classes.py:443\u001b[0m, in \u001b[0;36mBaseDecisionTree._fit\u001b[1;34m(self, X, y, sample_weight, check_input, missing_values_in_feature_mask)\u001b[0m\n\u001b[0;32m    432\u001b[0m \u001b[38;5;28;01melse\u001b[39;00m:\n\u001b[0;32m    433\u001b[0m     builder \u001b[38;5;241m=\u001b[39m BestFirstTreeBuilder(\n\u001b[0;32m    434\u001b[0m         splitter,\n\u001b[0;32m    435\u001b[0m         min_samples_split,\n\u001b[1;32m   (...)\u001b[0m\n\u001b[0;32m    440\u001b[0m         \u001b[38;5;28mself\u001b[39m\u001b[38;5;241m.\u001b[39mmin_impurity_decrease,\n\u001b[0;32m    441\u001b[0m     )\n\u001b[1;32m--> 443\u001b[0m \u001b[43mbuilder\u001b[49m\u001b[38;5;241;43m.\u001b[39;49m\u001b[43mbuild\u001b[49m\u001b[43m(\u001b[49m\u001b[38;5;28;43mself\u001b[39;49m\u001b[38;5;241;43m.\u001b[39;49m\u001b[43mtree_\u001b[49m\u001b[43m,\u001b[49m\u001b[43m \u001b[49m\u001b[43mX\u001b[49m\u001b[43m,\u001b[49m\u001b[43m \u001b[49m\u001b[43my\u001b[49m\u001b[43m,\u001b[49m\u001b[43m \u001b[49m\u001b[43msample_weight\u001b[49m\u001b[43m,\u001b[49m\u001b[43m \u001b[49m\u001b[43mmissing_values_in_feature_mask\u001b[49m\u001b[43m)\u001b[49m\n\u001b[0;32m    445\u001b[0m \u001b[38;5;28;01mif\u001b[39;00m \u001b[38;5;28mself\u001b[39m\u001b[38;5;241m.\u001b[39mn_outputs_ \u001b[38;5;241m==\u001b[39m \u001b[38;5;241m1\u001b[39m \u001b[38;5;129;01mand\u001b[39;00m is_classifier(\u001b[38;5;28mself\u001b[39m):\n\u001b[0;32m    446\u001b[0m     \u001b[38;5;28mself\u001b[39m\u001b[38;5;241m.\u001b[39mn_classes_ \u001b[38;5;241m=\u001b[39m \u001b[38;5;28mself\u001b[39m\u001b[38;5;241m.\u001b[39mn_classes_[\u001b[38;5;241m0\u001b[39m]\n",
      "\u001b[1;31mKeyboardInterrupt\u001b[0m: "
     ]
    }
   ],
   "source": [
    "# Fit rsv using training data and print best score\n",
    "rsv.fit(x_train, y_train)\n",
    "best_rf = rsv.best_estimator_\n",
    "\n",
    "# Evaluate the model on the test set\n",
    "y_pred = best_rf.predict(x_test)\n",
    "print(rsv.best_params_)"
   ]
  },
  {
   "cell_type": "code",
   "execution_count": null,
   "id": "09c5c825-e8a7-4212-881b-03af1b0406dd",
   "metadata": {},
   "outputs": [],
   "source": [
    "train_score = best_rf.score(x_train, y_train)\n",
    "test_score = best_rf.score(x_test, y_test)\n",
    "print(f'Train Score: {train_score}')\n",
    "print(f'Test Score: {test_score}')\n",
    "\n",
    "# Calculate performance metrics\n",
    "mse = mean_squared_error(y_test, y_pred)\n",
    "rmse = mse**(1/2)\n",
    "print(f'Mean Squared Error: {rmse}')"
   ]
  },
  {
   "cell_type": "markdown",
   "id": "17947bf3-c803-4a38-a0cd-c3bbc8e02c8b",
   "metadata": {},
   "source": [
    "### GridSearchCV"
   ]
  },
  {
   "cell_type": "code",
   "execution_count": null,
   "id": "bb03e420-aecd-4737-b1c5-32781a01b338",
   "metadata": {},
   "outputs": [],
   "source": [
    "# param_grid = {\n",
    "#     'regressor__n_estimators': [400, 500],\n",
    "#     'regressor__max_depth': [8],\n",
    "#     'regressor__min_samples_split': [8],\n",
    "#     'regressor__min_samples_leaf': [80,90,100]\n",
    "# }\n",
    "\n",
    "# gs = GridSearchCV(estimator=pipeline, param_grid = param_grid, cv=2, scoring='neg_mean_squared_error', \n",
    "#                          verbose = 1, n_jobs = -1)"
   ]
  },
  {
   "cell_type": "code",
   "execution_count": null,
   "id": "acbdb253-7bdf-4069-be72-0f4a9bb99a5d",
   "metadata": {},
   "outputs": [],
   "source": [
    "# # Fit rsv using training data and print best score\n",
    "# gs.fit(x_train, y_train)\n",
    "# best_gs = gs.best_estimator_\n",
    "\n",
    "# # Evaluate the model on the test set\n",
    "# y_pred = best_gs.predict(x_test)\n",
    "# print(gs.best_params_)"
   ]
  },
  {
   "cell_type": "code",
   "execution_count": null,
   "id": "e739608e-614a-4276-b82f-fdfd24dd894d",
   "metadata": {},
   "outputs": [],
   "source": [
    "# train_score = best_gs.score(x_train, y_train)\n",
    "# test_score = best_gs.score(x_test, y_test)\n",
    "# print(f'Train Score: {train_score}')\n",
    "# print(f'Test Score: {test_score}')\n",
    "\n",
    "# # Calculate performance metrics\n",
    "# mse = mean_squared_error(y_test, y_pred)\n",
    "# rmse = mse**(1/2)\n",
    "# print(f'Mean Squared Error: {rmse}')"
   ]
  },
  {
   "cell_type": "markdown",
   "id": "cbbca91a-1b6f-404b-9fdd-500f8313fb5c",
   "metadata": {},
   "source": [
    "## Model Validation"
   ]
  },
  {
   "cell_type": "markdown",
   "id": "bc3c20aa-fccf-4686-8638-c61a7e8c2db6",
   "metadata": {},
   "source": [
    "We will now use our model on unseen data to try to predict the used car prices."
   ]
  },
  {
   "cell_type": "code",
   "execution_count": null,
   "id": "61cfcc8e-7188-497e-809c-5d737532585c",
   "metadata": {},
   "outputs": [],
   "source": [
    "# Predicting car price\n",
    "test = test_set[feature_cols]\n",
    "y_pred_test = pipeline_gbr.predict(test)\n",
    "price_test = pd.Series(y_pred_test)"
   ]
  },
  {
   "cell_type": "code",
   "execution_count": null,
   "id": "cbef8b5a-a281-4dec-a933-ad0915058697",
   "metadata": {},
   "outputs": [],
   "source": [
    "# Combining car id and predicted price \n",
    "car_id = test_set.id\n",
    "final_df = pd.concat([car_id, price_test], axis = 1)\n",
    "\n",
    "# Renaming columns\n",
    "final_df.rename(columns = {0:'price'}, inplace = True)\n",
    "final_df.head()"
   ]
  },
  {
   "cell_type": "markdown",
   "id": "e652b422-21ea-47d6-8d83-ab8ff8e75b6d",
   "metadata": {},
   "source": [
    "## Exporting price values to file"
   ]
  },
  {
   "cell_type": "code",
   "execution_count": null,
   "id": "72c4e984-ef84-45de-a935-fbf3ad3ba4de",
   "metadata": {},
   "outputs": [],
   "source": [
    "import os\n",
    "path = r'C:\\Users\\user\\Downloads'\n",
    "final_df.to_csv(os.path.join(path,r'predicted_car_prices.csv'))"
   ]
  }
 ],
 "metadata": {
  "kernelspec": {
   "display_name": "Python 3 (ipykernel)",
   "language": "python",
   "name": "python3"
  },
  "language_info": {
   "codemirror_mode": {
    "name": "ipython",
    "version": 3
   },
   "file_extension": ".py",
   "mimetype": "text/x-python",
   "name": "python",
   "nbconvert_exporter": "python",
   "pygments_lexer": "ipython3",
   "version": "3.10.14"
  }
 },
 "nbformat": 4,
 "nbformat_minor": 5
}
