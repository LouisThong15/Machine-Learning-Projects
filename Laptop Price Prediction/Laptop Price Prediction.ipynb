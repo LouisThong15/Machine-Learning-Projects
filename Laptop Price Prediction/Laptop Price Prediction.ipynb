{
 "cells": [
  {
   "cell_type": "markdown",
   "id": "41c3b450-ccd2-45c8-9c5b-791eb40b0844",
   "metadata": {},
   "source": [
    "# Laptop Price Prediction\n",
    "\n",
    "This project focuses on a dataset that provides a detailed overview of various laptops such as their models, brand and hardware components. This purpose of this project is to develop a predictive model that can accurately predict the prices of different laptops based on their features. \n",
    "\n",
    "The dataset is provided by a user from Kaggle  (https://www.kaggle.com/datasets/owm4096/laptop-prices). We will be using Python and various tools such as machine learning algorithms, preprocessing and pipelines to create our model. "
   ]
  },
  {
   "cell_type": "markdown",
   "id": "0b029184-70ef-4ead-8199-3277e79baefc",
   "metadata": {},
   "source": [
    "## Import Libraries"
   ]
  },
  {
   "cell_type": "code",
   "execution_count": 100,
   "id": "4d254407-d7e9-4671-9a17-26bb49eb2735",
   "metadata": {},
   "outputs": [],
   "source": [
    "import warnings\n",
    "warnings.simplefilter(action='ignore', category=FutureWarning)\n",
    "import numpy as np\n",
    "from matplotlib import pyplot as plt \n",
    "import seaborn as sns\n",
    "import pandas as pd\n",
    "from sklearn.model_selection import GridSearchCV, train_test_split, RandomizedSearchCV, cross_val_score\n",
    "from sklearn.linear_model import LinearRegression, Lasso, Ridge\n",
    "from sklearn.pipeline import Pipeline\n",
    "from sklearn.preprocessing import LabelEncoder, StandardScaler, OneHotEncoder\n",
    "from sklearn.metrics import mean_squared_error, r2_score \n",
    "from sklearn.compose import ColumnTransformer\n",
    "from sklearn.ensemble import RandomForestRegressor, GradientBoostingRegressor"
   ]
  },
  {
   "cell_type": "markdown",
   "id": "ec0b0d1a-78d2-4d50-997f-26a9675aeba6",
   "metadata": {},
   "source": [
    "## Load and Inspect Data "
   ]
  },
  {
   "cell_type": "code",
   "execution_count": 101,
   "id": "70699a41-2523-4d36-ac68-bfc776633f0f",
   "metadata": {},
   "outputs": [
    {
     "name": "stdout",
     "output_type": "stream",
     "text": [
      "<class 'pandas.core.frame.DataFrame'>\n",
      "RangeIndex: 1275 entries, 0 to 1274\n",
      "Data columns (total 23 columns):\n",
      " #   Column                Non-Null Count  Dtype  \n",
      "---  ------                --------------  -----  \n",
      " 0   Company               1275 non-null   object \n",
      " 1   Product               1275 non-null   object \n",
      " 2   TypeName              1275 non-null   object \n",
      " 3   Inches                1275 non-null   float64\n",
      " 4   Ram                   1275 non-null   int64  \n",
      " 5   OS                    1275 non-null   object \n",
      " 6   Weight                1275 non-null   float64\n",
      " 7   Price_euros           1275 non-null   float64\n",
      " 8   Screen                1275 non-null   object \n",
      " 9   ScreenW               1275 non-null   int64  \n",
      " 10  ScreenH               1275 non-null   int64  \n",
      " 11  Touchscreen           1275 non-null   object \n",
      " 12  IPSpanel              1275 non-null   object \n",
      " 13  RetinaDisplay         1275 non-null   object \n",
      " 14  CPU_company           1275 non-null   object \n",
      " 15  CPU_freq              1275 non-null   float64\n",
      " 16  CPU_model             1275 non-null   object \n",
      " 17  PrimaryStorage        1275 non-null   int64  \n",
      " 18  SecondaryStorage      1275 non-null   int64  \n",
      " 19  PrimaryStorageType    1275 non-null   object \n",
      " 20  SecondaryStorageType  1275 non-null   object \n",
      " 21  GPU_company           1275 non-null   object \n",
      " 22  GPU_model             1275 non-null   object \n",
      "dtypes: float64(4), int64(5), object(14)\n",
      "memory usage: 229.2+ KB\n"
     ]
    },
    {
     "data": {
      "text/html": [
       "<div>\n",
       "<style scoped>\n",
       "    .dataframe tbody tr th:only-of-type {\n",
       "        vertical-align: middle;\n",
       "    }\n",
       "\n",
       "    .dataframe tbody tr th {\n",
       "        vertical-align: top;\n",
       "    }\n",
       "\n",
       "    .dataframe thead th {\n",
       "        text-align: right;\n",
       "    }\n",
       "</style>\n",
       "<table border=\"1\" class=\"dataframe\">\n",
       "  <thead>\n",
       "    <tr style=\"text-align: right;\">\n",
       "      <th></th>\n",
       "      <th>Company</th>\n",
       "      <th>Product</th>\n",
       "      <th>TypeName</th>\n",
       "      <th>Inches</th>\n",
       "      <th>Ram</th>\n",
       "      <th>OS</th>\n",
       "      <th>Weight</th>\n",
       "      <th>Price_euros</th>\n",
       "      <th>Screen</th>\n",
       "      <th>ScreenW</th>\n",
       "      <th>...</th>\n",
       "      <th>RetinaDisplay</th>\n",
       "      <th>CPU_company</th>\n",
       "      <th>CPU_freq</th>\n",
       "      <th>CPU_model</th>\n",
       "      <th>PrimaryStorage</th>\n",
       "      <th>SecondaryStorage</th>\n",
       "      <th>PrimaryStorageType</th>\n",
       "      <th>SecondaryStorageType</th>\n",
       "      <th>GPU_company</th>\n",
       "      <th>GPU_model</th>\n",
       "    </tr>\n",
       "  </thead>\n",
       "  <tbody>\n",
       "    <tr>\n",
       "      <th>0</th>\n",
       "      <td>Apple</td>\n",
       "      <td>MacBook Pro</td>\n",
       "      <td>Ultrabook</td>\n",
       "      <td>13.3</td>\n",
       "      <td>8</td>\n",
       "      <td>macOS</td>\n",
       "      <td>1.37</td>\n",
       "      <td>1339.69</td>\n",
       "      <td>Standard</td>\n",
       "      <td>2560</td>\n",
       "      <td>...</td>\n",
       "      <td>Yes</td>\n",
       "      <td>Intel</td>\n",
       "      <td>2.3</td>\n",
       "      <td>Core i5</td>\n",
       "      <td>128</td>\n",
       "      <td>0</td>\n",
       "      <td>SSD</td>\n",
       "      <td>No</td>\n",
       "      <td>Intel</td>\n",
       "      <td>Iris Plus Graphics 640</td>\n",
       "    </tr>\n",
       "    <tr>\n",
       "      <th>1</th>\n",
       "      <td>Apple</td>\n",
       "      <td>Macbook Air</td>\n",
       "      <td>Ultrabook</td>\n",
       "      <td>13.3</td>\n",
       "      <td>8</td>\n",
       "      <td>macOS</td>\n",
       "      <td>1.34</td>\n",
       "      <td>898.94</td>\n",
       "      <td>Standard</td>\n",
       "      <td>1440</td>\n",
       "      <td>...</td>\n",
       "      <td>No</td>\n",
       "      <td>Intel</td>\n",
       "      <td>1.8</td>\n",
       "      <td>Core i5</td>\n",
       "      <td>128</td>\n",
       "      <td>0</td>\n",
       "      <td>Flash Storage</td>\n",
       "      <td>No</td>\n",
       "      <td>Intel</td>\n",
       "      <td>HD Graphics 6000</td>\n",
       "    </tr>\n",
       "    <tr>\n",
       "      <th>2</th>\n",
       "      <td>HP</td>\n",
       "      <td>250 G6</td>\n",
       "      <td>Notebook</td>\n",
       "      <td>15.6</td>\n",
       "      <td>8</td>\n",
       "      <td>No OS</td>\n",
       "      <td>1.86</td>\n",
       "      <td>575.00</td>\n",
       "      <td>Full HD</td>\n",
       "      <td>1920</td>\n",
       "      <td>...</td>\n",
       "      <td>No</td>\n",
       "      <td>Intel</td>\n",
       "      <td>2.5</td>\n",
       "      <td>Core i5 7200U</td>\n",
       "      <td>256</td>\n",
       "      <td>0</td>\n",
       "      <td>SSD</td>\n",
       "      <td>No</td>\n",
       "      <td>Intel</td>\n",
       "      <td>HD Graphics 620</td>\n",
       "    </tr>\n",
       "    <tr>\n",
       "      <th>3</th>\n",
       "      <td>Apple</td>\n",
       "      <td>MacBook Pro</td>\n",
       "      <td>Ultrabook</td>\n",
       "      <td>15.4</td>\n",
       "      <td>16</td>\n",
       "      <td>macOS</td>\n",
       "      <td>1.83</td>\n",
       "      <td>2537.45</td>\n",
       "      <td>Standard</td>\n",
       "      <td>2880</td>\n",
       "      <td>...</td>\n",
       "      <td>Yes</td>\n",
       "      <td>Intel</td>\n",
       "      <td>2.7</td>\n",
       "      <td>Core i7</td>\n",
       "      <td>512</td>\n",
       "      <td>0</td>\n",
       "      <td>SSD</td>\n",
       "      <td>No</td>\n",
       "      <td>AMD</td>\n",
       "      <td>Radeon Pro 455</td>\n",
       "    </tr>\n",
       "    <tr>\n",
       "      <th>4</th>\n",
       "      <td>Apple</td>\n",
       "      <td>MacBook Pro</td>\n",
       "      <td>Ultrabook</td>\n",
       "      <td>13.3</td>\n",
       "      <td>8</td>\n",
       "      <td>macOS</td>\n",
       "      <td>1.37</td>\n",
       "      <td>1803.60</td>\n",
       "      <td>Standard</td>\n",
       "      <td>2560</td>\n",
       "      <td>...</td>\n",
       "      <td>Yes</td>\n",
       "      <td>Intel</td>\n",
       "      <td>3.1</td>\n",
       "      <td>Core i5</td>\n",
       "      <td>256</td>\n",
       "      <td>0</td>\n",
       "      <td>SSD</td>\n",
       "      <td>No</td>\n",
       "      <td>Intel</td>\n",
       "      <td>Iris Plus Graphics 650</td>\n",
       "    </tr>\n",
       "  </tbody>\n",
       "</table>\n",
       "<p>5 rows × 23 columns</p>\n",
       "</div>"
      ],
      "text/plain": [
       "  Company      Product   TypeName  Inches  Ram     OS  Weight  Price_euros  \\\n",
       "0   Apple  MacBook Pro  Ultrabook    13.3    8  macOS    1.37      1339.69   \n",
       "1   Apple  Macbook Air  Ultrabook    13.3    8  macOS    1.34       898.94   \n",
       "2      HP       250 G6   Notebook    15.6    8  No OS    1.86       575.00   \n",
       "3   Apple  MacBook Pro  Ultrabook    15.4   16  macOS    1.83      2537.45   \n",
       "4   Apple  MacBook Pro  Ultrabook    13.3    8  macOS    1.37      1803.60   \n",
       "\n",
       "     Screen  ScreenW  ...  RetinaDisplay CPU_company CPU_freq      CPU_model  \\\n",
       "0  Standard     2560  ...            Yes       Intel      2.3        Core i5   \n",
       "1  Standard     1440  ...             No       Intel      1.8        Core i5   \n",
       "2   Full HD     1920  ...             No       Intel      2.5  Core i5 7200U   \n",
       "3  Standard     2880  ...            Yes       Intel      2.7        Core i7   \n",
       "4  Standard     2560  ...            Yes       Intel      3.1        Core i5   \n",
       "\n",
       "  PrimaryStorage  SecondaryStorage PrimaryStorageType  SecondaryStorageType  \\\n",
       "0            128                 0                SSD                    No   \n",
       "1            128                 0      Flash Storage                    No   \n",
       "2            256                 0                SSD                    No   \n",
       "3            512                 0                SSD                    No   \n",
       "4            256                 0                SSD                    No   \n",
       "\n",
       "   GPU_company               GPU_model  \n",
       "0        Intel  Iris Plus Graphics 640  \n",
       "1        Intel        HD Graphics 6000  \n",
       "2        Intel         HD Graphics 620  \n",
       "3          AMD          Radeon Pro 455  \n",
       "4        Intel  Iris Plus Graphics 650  \n",
       "\n",
       "[5 rows x 23 columns]"
      ]
     },
     "execution_count": 101,
     "metadata": {},
     "output_type": "execute_result"
    }
   ],
   "source": [
    "laptops = pd.read_csv('laptop_prices.csv')\n",
    "laptops.info()\n",
    "laptops.head()"
   ]
  },
  {
   "cell_type": "markdown",
   "id": "0447906a-0005-4bae-a3c4-1595f539dbe5",
   "metadata": {},
   "source": [
    "The dataset contains 1275 rows and 23 columns containing information on used cars. There does not seem to be any values present in any of the columns. \n",
    "\n",
    "Here's a summary of all the columns:\n",
    "\n",
    "- **Company**: Laptop Manufacturer.\n",
    "- **Product**: Brand and Model.\n",
    "- **TypeName**: Laptop Type (Notebook, Ultrabook, Gaming, …etc).\n",
    "- **Inches**: Screen Size.\n",
    "- **Ram**: Total amount of RAM in laptop (GBs).\n",
    "- **OS**: Operating System installed.\n",
    "- **Weight**: Laptop Weight in kilograms.\n",
    "- **Price_euros**: Price of Laptop in Euros. (Target)\n",
    "- **Screen**: Screen definition (Standard, Full HD, 4K Ultra HD, Quad HD+).\n",
    "- **ScreenW**: Screen width (pixels).\n",
    "- **ScreenH**: Screen height (pixels).\n",
    "- **Touchscreen**: Whether or not the laptop has a touchscreen.\n",
    "- **IPSpanel**: Whether or not the laptop has an IPSpanel.\n",
    "- **RetinaDisplay**: Whether or not the laptop has retina display.\n",
    "- **CPU_company**: Company that manufactured the CPU\n",
    "- **CPU_freq**: frequency of laptop CPU (Hz).\n",
    "- **CPU_model**: Model of the CPU\n",
    "- **PrimaryStorage**: Primary storage space (GB).\n",
    "- **PrimaryStorageType**: Primary storage type (HDD, SSD, Flash Storage, Hybrid).\n",
    "- **SecondaryStorage**: Secondary storage space if any (GB).\n",
    "- **SecondaryStorageType**: Secondary storage type (HDD, SSD, Hybrid, None).\n",
    "- **GPU_company**: Company that manufactured the GPU\n",
    "- **GPU_model**: Model of the GPU "
   ]
  },
  {
   "cell_type": "markdown",
   "id": "34be198d-8437-4fb7-8af8-616302057788",
   "metadata": {},
   "source": [
    "## Data Cleaning and Preparation "
   ]
  },
  {
   "cell_type": "markdown",
   "id": "4680161d-6219-4c6d-a921-d2007447d7a8",
   "metadata": {},
   "source": [
    "We will be converting the data type of the 'RetinaDisplay' column from an object into a boolean column."
   ]
  },
  {
   "cell_type": "code",
   "execution_count": 102,
   "id": "591ce138-7b85-43d9-8fa6-621b1a93db69",
   "metadata": {},
   "outputs": [
    {
     "data": {
      "text/plain": [
       "RetinaDisplay\n",
       "No     1258\n",
       "Yes      17\n",
       "Name: count, dtype: int64"
      ]
     },
     "execution_count": 102,
     "metadata": {},
     "output_type": "execute_result"
    }
   ],
   "source": [
    "# Value count for RetinaDisplay\n",
    "laptops.RetinaDisplay.value_counts()"
   ]
  },
  {
   "cell_type": "code",
   "execution_count": 103,
   "id": "80274543-9f42-4913-bba6-9213230fb095",
   "metadata": {},
   "outputs": [],
   "source": [
    "# Converting RetinaDisplay column to boolean \n",
    "laptops.RetinaDisplay.replace({'Yes':1, 'No':0}, inplace = True)\n",
    "laptops.RetinaDisplay = laptops.RetinaDisplay.astype('bool')"
   ]
  },
  {
   "cell_type": "markdown",
   "id": "b8896e16-5943-4565-84fe-51722711a867",
   "metadata": {},
   "source": [
    "We are also going to check for duplicate rows in this dataset."
   ]
  },
  {
   "cell_type": "code",
   "execution_count": 104,
   "id": "067b2df6-d663-4664-95b5-0090a7fe36aa",
   "metadata": {},
   "outputs": [
    {
     "data": {
      "text/html": [
       "<div>\n",
       "<style scoped>\n",
       "    .dataframe tbody tr th:only-of-type {\n",
       "        vertical-align: middle;\n",
       "    }\n",
       "\n",
       "    .dataframe tbody tr th {\n",
       "        vertical-align: top;\n",
       "    }\n",
       "\n",
       "    .dataframe thead th {\n",
       "        text-align: right;\n",
       "    }\n",
       "</style>\n",
       "<table border=\"1\" class=\"dataframe\">\n",
       "  <thead>\n",
       "    <tr style=\"text-align: right;\">\n",
       "      <th></th>\n",
       "      <th>Company</th>\n",
       "      <th>Product</th>\n",
       "      <th>TypeName</th>\n",
       "      <th>Inches</th>\n",
       "      <th>Ram</th>\n",
       "      <th>OS</th>\n",
       "      <th>Weight</th>\n",
       "      <th>Price_euros</th>\n",
       "      <th>Screen</th>\n",
       "      <th>ScreenW</th>\n",
       "      <th>...</th>\n",
       "      <th>RetinaDisplay</th>\n",
       "      <th>CPU_company</th>\n",
       "      <th>CPU_freq</th>\n",
       "      <th>CPU_model</th>\n",
       "      <th>PrimaryStorage</th>\n",
       "      <th>SecondaryStorage</th>\n",
       "      <th>PrimaryStorageType</th>\n",
       "      <th>SecondaryStorageType</th>\n",
       "      <th>GPU_company</th>\n",
       "      <th>GPU_model</th>\n",
       "    </tr>\n",
       "  </thead>\n",
       "  <tbody>\n",
       "  </tbody>\n",
       "</table>\n",
       "<p>0 rows × 23 columns</p>\n",
       "</div>"
      ],
      "text/plain": [
       "Empty DataFrame\n",
       "Columns: [Company, Product, TypeName, Inches, Ram, OS, Weight, Price_euros, Screen, ScreenW, ScreenH, Touchscreen, IPSpanel, RetinaDisplay, CPU_company, CPU_freq, CPU_model, PrimaryStorage, SecondaryStorage, PrimaryStorageType, SecondaryStorageType, GPU_company, GPU_model]\n",
       "Index: []\n",
       "\n",
       "[0 rows x 23 columns]"
      ]
     },
     "execution_count": 104,
     "metadata": {},
     "output_type": "execute_result"
    }
   ],
   "source": [
    "# Checking for duplicate rows\n",
    "laptops[laptops.duplicated() == True]"
   ]
  },
  {
   "cell_type": "markdown",
   "id": "11ab8d60-2980-4fd6-9fe7-1242e8fd2670",
   "metadata": {},
   "source": [
    "Fortunately, there are no duplicate rows to remove."
   ]
  },
  {
   "cell_type": "markdown",
   "id": "e15e76b2-d91b-45fd-bd4d-c613ef5a5d47",
   "metadata": {},
   "source": [
    "## Feature Engineering "
   ]
  },
  {
   "cell_type": "markdown",
   "id": "bc76edc0-ebb3-4845-9e65-450048b49956",
   "metadata": {},
   "source": [
    "### Frequency Encoding"
   ]
  },
  {
   "cell_type": "code",
   "execution_count": 105,
   "id": "c7db0504-7cef-4829-84b1-75fc812ffd29",
   "metadata": {},
   "outputs": [],
   "source": [
    "# Frequency encoding \n",
    "freq_cols = ['Product', 'GPU_model', 'CPU_model']\n",
    "\n",
    "for feature in freq_cols:\n",
    "    freq_encoding = laptops[feature].value_counts().to_dict()\n",
    "    col_name = f'encoded_{feature}'\n",
    "    laptops[col_name] = laptops[feature].map(freq_encoding)"
   ]
  },
  {
   "cell_type": "code",
   "execution_count": 106,
   "id": "ff5c82b3-1389-4c9d-809a-3f03f2541e5d",
   "metadata": {},
   "outputs": [
    {
     "data": {
      "text/html": [
       "<div>\n",
       "<style scoped>\n",
       "    .dataframe tbody tr th:only-of-type {\n",
       "        vertical-align: middle;\n",
       "    }\n",
       "\n",
       "    .dataframe tbody tr th {\n",
       "        vertical-align: top;\n",
       "    }\n",
       "\n",
       "    .dataframe thead th {\n",
       "        text-align: right;\n",
       "    }\n",
       "</style>\n",
       "<table border=\"1\" class=\"dataframe\">\n",
       "  <thead>\n",
       "    <tr style=\"text-align: right;\">\n",
       "      <th></th>\n",
       "      <th>Company</th>\n",
       "      <th>Product</th>\n",
       "      <th>TypeName</th>\n",
       "      <th>Inches</th>\n",
       "      <th>Ram</th>\n",
       "      <th>OS</th>\n",
       "      <th>Weight</th>\n",
       "      <th>Price_euros</th>\n",
       "      <th>Screen</th>\n",
       "      <th>ScreenW</th>\n",
       "      <th>...</th>\n",
       "      <th>CPU_model</th>\n",
       "      <th>PrimaryStorage</th>\n",
       "      <th>SecondaryStorage</th>\n",
       "      <th>PrimaryStorageType</th>\n",
       "      <th>SecondaryStorageType</th>\n",
       "      <th>GPU_company</th>\n",
       "      <th>GPU_model</th>\n",
       "      <th>encoded_Product</th>\n",
       "      <th>encoded_GPU_model</th>\n",
       "      <th>encoded_CPU_model</th>\n",
       "    </tr>\n",
       "  </thead>\n",
       "  <tbody>\n",
       "    <tr>\n",
       "      <th>0</th>\n",
       "      <td>Apple</td>\n",
       "      <td>MacBook Pro</td>\n",
       "      <td>Ultrabook</td>\n",
       "      <td>13.3</td>\n",
       "      <td>8</td>\n",
       "      <td>macOS</td>\n",
       "      <td>1.37</td>\n",
       "      <td>1339.69</td>\n",
       "      <td>Standard</td>\n",
       "      <td>2560</td>\n",
       "      <td>...</td>\n",
       "      <td>Core i5</td>\n",
       "      <td>128</td>\n",
       "      <td>0</td>\n",
       "      <td>SSD</td>\n",
       "      <td>No</td>\n",
       "      <td>Intel</td>\n",
       "      <td>Iris Plus Graphics 640</td>\n",
       "      <td>10</td>\n",
       "      <td>8</td>\n",
       "      <td>12</td>\n",
       "    </tr>\n",
       "    <tr>\n",
       "      <th>1</th>\n",
       "      <td>Apple</td>\n",
       "      <td>Macbook Air</td>\n",
       "      <td>Ultrabook</td>\n",
       "      <td>13.3</td>\n",
       "      <td>8</td>\n",
       "      <td>macOS</td>\n",
       "      <td>1.34</td>\n",
       "      <td>898.94</td>\n",
       "      <td>Standard</td>\n",
       "      <td>1440</td>\n",
       "      <td>...</td>\n",
       "      <td>Core i5</td>\n",
       "      <td>128</td>\n",
       "      <td>0</td>\n",
       "      <td>Flash Storage</td>\n",
       "      <td>No</td>\n",
       "      <td>Intel</td>\n",
       "      <td>HD Graphics 6000</td>\n",
       "      <td>2</td>\n",
       "      <td>5</td>\n",
       "      <td>12</td>\n",
       "    </tr>\n",
       "    <tr>\n",
       "      <th>2</th>\n",
       "      <td>HP</td>\n",
       "      <td>250 G6</td>\n",
       "      <td>Notebook</td>\n",
       "      <td>15.6</td>\n",
       "      <td>8</td>\n",
       "      <td>No OS</td>\n",
       "      <td>1.86</td>\n",
       "      <td>575.00</td>\n",
       "      <td>Full HD</td>\n",
       "      <td>1920</td>\n",
       "      <td>...</td>\n",
       "      <td>Core i5 7200U</td>\n",
       "      <td>256</td>\n",
       "      <td>0</td>\n",
       "      <td>SSD</td>\n",
       "      <td>No</td>\n",
       "      <td>Intel</td>\n",
       "      <td>HD Graphics 620</td>\n",
       "      <td>21</td>\n",
       "      <td>279</td>\n",
       "      <td>193</td>\n",
       "    </tr>\n",
       "    <tr>\n",
       "      <th>3</th>\n",
       "      <td>Apple</td>\n",
       "      <td>MacBook Pro</td>\n",
       "      <td>Ultrabook</td>\n",
       "      <td>15.4</td>\n",
       "      <td>16</td>\n",
       "      <td>macOS</td>\n",
       "      <td>1.83</td>\n",
       "      <td>2537.45</td>\n",
       "      <td>Standard</td>\n",
       "      <td>2880</td>\n",
       "      <td>...</td>\n",
       "      <td>Core i7</td>\n",
       "      <td>512</td>\n",
       "      <td>0</td>\n",
       "      <td>SSD</td>\n",
       "      <td>No</td>\n",
       "      <td>AMD</td>\n",
       "      <td>Radeon Pro 455</td>\n",
       "      <td>10</td>\n",
       "      <td>1</td>\n",
       "      <td>4</td>\n",
       "    </tr>\n",
       "    <tr>\n",
       "      <th>4</th>\n",
       "      <td>Apple</td>\n",
       "      <td>MacBook Pro</td>\n",
       "      <td>Ultrabook</td>\n",
       "      <td>13.3</td>\n",
       "      <td>8</td>\n",
       "      <td>macOS</td>\n",
       "      <td>1.37</td>\n",
       "      <td>1803.60</td>\n",
       "      <td>Standard</td>\n",
       "      <td>2560</td>\n",
       "      <td>...</td>\n",
       "      <td>Core i5</td>\n",
       "      <td>256</td>\n",
       "      <td>0</td>\n",
       "      <td>SSD</td>\n",
       "      <td>No</td>\n",
       "      <td>Intel</td>\n",
       "      <td>Iris Plus Graphics 650</td>\n",
       "      <td>10</td>\n",
       "      <td>2</td>\n",
       "      <td>12</td>\n",
       "    </tr>\n",
       "  </tbody>\n",
       "</table>\n",
       "<p>5 rows × 26 columns</p>\n",
       "</div>"
      ],
      "text/plain": [
       "  Company      Product   TypeName  Inches  Ram     OS  Weight  Price_euros  \\\n",
       "0   Apple  MacBook Pro  Ultrabook    13.3    8  macOS    1.37      1339.69   \n",
       "1   Apple  Macbook Air  Ultrabook    13.3    8  macOS    1.34       898.94   \n",
       "2      HP       250 G6   Notebook    15.6    8  No OS    1.86       575.00   \n",
       "3   Apple  MacBook Pro  Ultrabook    15.4   16  macOS    1.83      2537.45   \n",
       "4   Apple  MacBook Pro  Ultrabook    13.3    8  macOS    1.37      1803.60   \n",
       "\n",
       "     Screen  ScreenW  ...      CPU_model PrimaryStorage SecondaryStorage  \\\n",
       "0  Standard     2560  ...        Core i5            128                0   \n",
       "1  Standard     1440  ...        Core i5            128                0   \n",
       "2   Full HD     1920  ...  Core i5 7200U            256                0   \n",
       "3  Standard     2880  ...        Core i7            512                0   \n",
       "4  Standard     2560  ...        Core i5            256                0   \n",
       "\n",
       "   PrimaryStorageType SecondaryStorageType  GPU_company  \\\n",
       "0                 SSD                   No        Intel   \n",
       "1       Flash Storage                   No        Intel   \n",
       "2                 SSD                   No        Intel   \n",
       "3                 SSD                   No          AMD   \n",
       "4                 SSD                   No        Intel   \n",
       "\n",
       "                GPU_model  encoded_Product  encoded_GPU_model  \\\n",
       "0  Iris Plus Graphics 640               10                  8   \n",
       "1        HD Graphics 6000                2                  5   \n",
       "2         HD Graphics 620               21                279   \n",
       "3          Radeon Pro 455               10                  1   \n",
       "4  Iris Plus Graphics 650               10                  2   \n",
       "\n",
       "  encoded_CPU_model  \n",
       "0                12  \n",
       "1                12  \n",
       "2               193  \n",
       "3                 4  \n",
       "4                12  \n",
       "\n",
       "[5 rows x 26 columns]"
      ]
     },
     "execution_count": 106,
     "metadata": {},
     "output_type": "execute_result"
    }
   ],
   "source": [
    "laptops.head()"
   ]
  },
  {
   "cell_type": "markdown",
   "id": "c4ef02d8-451c-4fdb-ade9-5da04da0f3d2",
   "metadata": {},
   "source": [
    "## Feature Importances"
   ]
  },
  {
   "cell_type": "code",
   "execution_count": 107,
   "id": "714b9b04-c7b2-470d-b52b-15f1d3eb1f3f",
   "metadata": {},
   "outputs": [],
   "source": [
    "# Separating feature and target columns\n",
    "features = laptops.drop(columns = ['Price_euros', 'Product', 'GPU_model', 'CPU_model', 'Company',\n",
    "                                  'GPU_company', 'PrimaryStorageType', 'CPU_company', 'SecondaryStorageType', 'IPSpanel', 'OS']).columns\n",
    "target = ['Price_euros']\n",
    "\n",
    "X = laptops[features]\n",
    "y = laptops[target]\n",
    "\n",
    "# Variables for different data type columns\n",
    "num_cols = X.select_dtypes(include = {'int64', 'float64'}).columns\n",
    "cat_cols = X.select_dtypes(include = 'object').columns\n",
    "bool_cols = X.select_dtypes(include = 'bool').columns\n",
    "\n",
    "# Initialising ColumnTransformer for preprocessing\n",
    "preprocessor = ColumnTransformer(\n",
    "    transformers = [\n",
    "        ('num_vals', StandardScaler(), num_cols),\n",
    "        ('cat_vals', OneHotEncoder(sparse = False, drop = 'first'), cat_cols),\n",
    "        ('bool_vals', 'passthrough', bool_cols)\n",
    "    ]\n",
    ")"
   ]
  },
  {
   "cell_type": "code",
   "execution_count": 108,
   "id": "0da2a2ff-4f0e-4c86-9f0d-21d59e80e6e5",
   "metadata": {},
   "outputs": [],
   "source": [
    "# Apply the transformations to the training data\n",
    "X_preprocessed = preprocessor.fit_transform(X)\n",
    "X_preprocessed = pd.DataFrame(X_preprocessed, columns=preprocessor.get_feature_names_out())\n",
    "\n",
    "# Split the data into train and test sets\n",
    "x_train_processed, x_test_processed, y_train_processed, y_test_processed = train_test_split(X_preprocessed, y, test_size=0.2, random_state=42)"
   ]
  },
  {
   "cell_type": "code",
   "execution_count": 109,
   "id": "8a9df81b-bf18-4bdc-94fd-1eb7a507a59c",
   "metadata": {},
   "outputs": [
    {
     "data": {
      "text/html": [
       "<style>#sk-container-id-5 {color: black;}#sk-container-id-5 pre{padding: 0;}#sk-container-id-5 div.sk-toggleable {background-color: white;}#sk-container-id-5 label.sk-toggleable__label {cursor: pointer;display: block;width: 100%;margin-bottom: 0;padding: 0.3em;box-sizing: border-box;text-align: center;}#sk-container-id-5 label.sk-toggleable__label-arrow:before {content: \"▸\";float: left;margin-right: 0.25em;color: #696969;}#sk-container-id-5 label.sk-toggleable__label-arrow:hover:before {color: black;}#sk-container-id-5 div.sk-estimator:hover label.sk-toggleable__label-arrow:before {color: black;}#sk-container-id-5 div.sk-toggleable__content {max-height: 0;max-width: 0;overflow: hidden;text-align: left;background-color: #f0f8ff;}#sk-container-id-5 div.sk-toggleable__content pre {margin: 0.2em;color: black;border-radius: 0.25em;background-color: #f0f8ff;}#sk-container-id-5 input.sk-toggleable__control:checked~div.sk-toggleable__content {max-height: 200px;max-width: 100%;overflow: auto;}#sk-container-id-5 input.sk-toggleable__control:checked~label.sk-toggleable__label-arrow:before {content: \"▾\";}#sk-container-id-5 div.sk-estimator input.sk-toggleable__control:checked~label.sk-toggleable__label {background-color: #d4ebff;}#sk-container-id-5 div.sk-label input.sk-toggleable__control:checked~label.sk-toggleable__label {background-color: #d4ebff;}#sk-container-id-5 input.sk-hidden--visually {border: 0;clip: rect(1px 1px 1px 1px);clip: rect(1px, 1px, 1px, 1px);height: 1px;margin: -1px;overflow: hidden;padding: 0;position: absolute;width: 1px;}#sk-container-id-5 div.sk-estimator {font-family: monospace;background-color: #f0f8ff;border: 1px dotted black;border-radius: 0.25em;box-sizing: border-box;margin-bottom: 0.5em;}#sk-container-id-5 div.sk-estimator:hover {background-color: #d4ebff;}#sk-container-id-5 div.sk-parallel-item::after {content: \"\";width: 100%;border-bottom: 1px solid gray;flex-grow: 1;}#sk-container-id-5 div.sk-label:hover label.sk-toggleable__label {background-color: #d4ebff;}#sk-container-id-5 div.sk-serial::before {content: \"\";position: absolute;border-left: 1px solid gray;box-sizing: border-box;top: 0;bottom: 0;left: 50%;z-index: 0;}#sk-container-id-5 div.sk-serial {display: flex;flex-direction: column;align-items: center;background-color: white;padding-right: 0.2em;padding-left: 0.2em;position: relative;}#sk-container-id-5 div.sk-item {position: relative;z-index: 1;}#sk-container-id-5 div.sk-parallel {display: flex;align-items: stretch;justify-content: center;background-color: white;position: relative;}#sk-container-id-5 div.sk-item::before, #sk-container-id-5 div.sk-parallel-item::before {content: \"\";position: absolute;border-left: 1px solid gray;box-sizing: border-box;top: 0;bottom: 0;left: 50%;z-index: -1;}#sk-container-id-5 div.sk-parallel-item {display: flex;flex-direction: column;z-index: 1;position: relative;background-color: white;}#sk-container-id-5 div.sk-parallel-item:first-child::after {align-self: flex-end;width: 50%;}#sk-container-id-5 div.sk-parallel-item:last-child::after {align-self: flex-start;width: 50%;}#sk-container-id-5 div.sk-parallel-item:only-child::after {width: 0;}#sk-container-id-5 div.sk-dashed-wrapped {border: 1px dashed gray;margin: 0 0.4em 0.5em 0.4em;box-sizing: border-box;padding-bottom: 0.4em;background-color: white;}#sk-container-id-5 div.sk-label label {font-family: monospace;font-weight: bold;display: inline-block;line-height: 1.2em;}#sk-container-id-5 div.sk-label-container {text-align: center;}#sk-container-id-5 div.sk-container {/* jupyter's `normalize.less` sets `[hidden] { display: none; }` but bootstrap.min.css set `[hidden] { display: none !important; }` so we also need the `!important` here to be able to override the default hidden behavior on the sphinx rendered scikit-learn.org. See: https://github.com/scikit-learn/scikit-learn/issues/21755 */display: inline-block !important;position: relative;}#sk-container-id-5 div.sk-text-repr-fallback {display: none;}</style><div id=\"sk-container-id-5\" class=\"sk-top-container\"><div class=\"sk-text-repr-fallback\"><pre>GradientBoostingRegressor(random_state=0)</pre><b>In a Jupyter environment, please rerun this cell to show the HTML representation or trust the notebook. <br />On GitHub, the HTML representation is unable to render, please try loading this page with nbviewer.org.</b></div><div class=\"sk-container\" hidden><div class=\"sk-item\"><div class=\"sk-estimator sk-toggleable\"><input class=\"sk-toggleable__control sk-hidden--visually\" id=\"sk-estimator-id-5\" type=\"checkbox\" checked><label for=\"sk-estimator-id-5\" class=\"sk-toggleable__label sk-toggleable__label-arrow\">GradientBoostingRegressor</label><div class=\"sk-toggleable__content\"><pre>GradientBoostingRegressor(random_state=0)</pre></div></div></div></div></div>"
      ],
      "text/plain": [
       "GradientBoostingRegressor(random_state=0)"
      ]
     },
     "execution_count": 109,
     "metadata": {},
     "output_type": "execute_result"
    }
   ],
   "source": [
    "# Initialize the GradientBoostingRegressor\n",
    "dtr = GradientBoostingRegressor(random_state = 0)\n",
    "\n",
    "# Fit the model to the training data\n",
    "dtr.fit(x_train_processed, y_train_processed.values.ravel())"
   ]
  },
  {
   "cell_type": "code",
   "execution_count": 110,
   "id": "6e57059b-a7c9-4664-b0b5-92db7f8f6033",
   "metadata": {},
   "outputs": [
    {
     "name": "stdout",
     "output_type": "stream",
     "text": [
      "                           feature  importance\n",
      "1                    num_vals__Ram    0.514293\n",
      "13     cat_vals__TypeName_Notebook    0.100380\n",
      "2                 num_vals__Weight    0.083947\n",
      "5               num_vals__CPU_freq    0.078700\n",
      "3                num_vals__ScreenW    0.040085\n",
      "0                 num_vals__Inches    0.029175\n",
      "6         num_vals__PrimaryStorage    0.028524\n",
      "15  cat_vals__TypeName_Workstation    0.027135\n",
      "9      num_vals__encoded_GPU_model    0.026714\n",
      "4                num_vals__ScreenH    0.018061\n",
      "8        num_vals__encoded_Product    0.014517\n",
      "10     num_vals__encoded_CPU_model    0.010914\n",
      "16        cat_vals__Screen_Full HD    0.009090\n",
      "7       num_vals__SecondaryStorage    0.004782\n",
      "18       cat_vals__Screen_Standard    0.003508\n",
      "11       cat_vals__TypeName_Gaming    0.002987\n",
      "17       cat_vals__Screen_Quad HD+    0.002912\n",
      "19       cat_vals__Touchscreen_Yes    0.002364\n",
      "14    cat_vals__TypeName_Ultrabook    0.001682\n",
      "20        bool_vals__RetinaDisplay    0.000229\n",
      "12      cat_vals__TypeName_Netbook    0.000000\n"
     ]
    }
   ],
   "source": [
    "# Get feature importances\n",
    "importances = dtr.feature_importances_\n",
    "\n",
    "# Create a DataFrame to view feature importances\n",
    "feature_importances = pd.DataFrame({'feature': x_train_processed.columns, 'importance': importances})\n",
    "\n",
    "# Sort by importance\n",
    "feature_importances = feature_importances.sort_values(by='importance', ascending=False)\n",
    "\n",
    "# Print the top 15 most important features\n",
    "print(feature_importances)"
   ]
  },
  {
   "cell_type": "markdown",
   "id": "da3dcc8e-7833-4d39-b139-6f69133c07ef",
   "metadata": {},
   "source": [
    "It seems that the number of RAMs is the most important feature with an importance value of nearly 50%, followed by the weight of the laptop and CPU frequency. We will remove some columns as such as 'GPU_company', 'PrimaryStorageType' and 'CPU_company'."
   ]
  },
  {
   "cell_type": "markdown",
   "id": "5cd10960-038a-48ad-a728-5c5b982a5358",
   "metadata": {},
   "source": [
    "## Model Selection and Evaluation"
   ]
  },
  {
   "cell_type": "markdown",
   "id": "7e23468b-6160-4b52-a8f5-ead842b22ed6",
   "metadata": {},
   "source": [
    "For this project, we will be using GradientBoostingRegressor as our predictive model. We were first test its performance without tuning any parameters using accuracy score, cross-validation and RMSE (Root Mean Squared Error)."
   ]
  },
  {
   "cell_type": "code",
   "execution_count": 111,
   "id": "5dfc5d26-072f-4707-a878-dbc7defa7fe4",
   "metadata": {},
   "outputs": [],
   "source": [
    "# Split the data into train and test sets\n",
    "x_train, x_test, y_train, y_test = train_test_split(X, y, test_size = 0.3, random_state = 0)\n",
    "\n",
    "# Initialising Gradient Boosting Regressor\n",
    "gbr = GradientBoostingRegressor(random_state = 0)\n",
    "pipeline_gbr = Pipeline([('preprocessing', preprocessor), ('regressor', gbr)])\n",
    "\n",
    "# Fitting pipeline to training data\n",
    "pipeline_gbr.fit(x_train, y_train.values.ravel())\n",
    "y_pred = pipeline_gbr.predict(x_test)"
   ]
  },
  {
   "cell_type": "code",
   "execution_count": 112,
   "id": "16cd876e-2871-44c1-944f-33599705f330",
   "metadata": {},
   "outputs": [
    {
     "name": "stdout",
     "output_type": "stream",
     "text": [
      "Gradient Boosting Regressor Train Score: 0.9045556095542848\n",
      "Gradient Boosting Regressor Test Score: 0.782755017216914\n",
      "RMSE for each fold:  [314.03113244 254.5806023  250.06493636 341.64101535 327.88276715]\n",
      "Average RMSE:  297.6400907199877\n"
     ]
    }
   ],
   "source": [
    "# Perform 5-fold cross-validation\n",
    "cv_scores = cross_val_score(pipeline_gbr, x_train, y_train.values.ravel(), cv=5, scoring='neg_mean_squared_error')\n",
    "\n",
    "# Converting the negative MSE to positive and take the square root\n",
    "rmse_scores = (-cv_scores) ** 0.5\n",
    "\n",
    "#Pipeline score\n",
    "train_score = pipeline_gbr.score(x_train, y_train)\n",
    "test_score = pipeline_gbr.score(x_test, y_test)\n",
    "print(f'Gradient Boosting Regressor Train Score: {train_score}')\n",
    "print(f'Gradient Boosting Regressor Test Score: {test_score}')\n",
    "\n",
    "# Display the RMSE for each fold and the average RMSE\n",
    "print(\"RMSE for each fold: \", rmse_scores)\n",
    "print(\"Average RMSE: \", rmse_scores.mean())"
   ]
  },
  {
   "cell_type": "code",
   "execution_count": 113,
   "id": "46a19bfb-7a21-4dfb-9f71-aba340b66681",
   "metadata": {},
   "outputs": [
    {
     "name": "stdout",
     "output_type": "stream",
     "text": [
      "RMSE: 357.89341156454367\n",
      "Baseline RMSE: 767.8543092584338\n",
      "Improvement over baseline: 53.39%\n"
     ]
    }
   ],
   "source": [
    "# Calculate RMSE\n",
    "rmse = np.sqrt(mean_squared_error(y_test, y_pred))\n",
    "print(f\"RMSE: {rmse}\")\n",
    "\n",
    "# Baseline RMSE: Predicting the mean of y_true for all observations\n",
    "baseline_pred = [np.mean(y_test)] * len(y_test)\n",
    "baseline_rmse = np.sqrt(mean_squared_error(y_test, baseline_pred))\n",
    "print(f\"Baseline RMSE: {baseline_rmse}\")\n",
    "\n",
    "# Improvement over baseline\n",
    "improvement = (baseline_rmse - rmse) / baseline_rmse * 100\n",
    "print(f\"Improvement over baseline: {improvement:.2f}%\")"
   ]
  },
  {
   "cell_type": "markdown",
   "id": "f2feac87-0cb4-4515-a269-91463a4c50aa",
   "metadata": {},
   "source": [
    "### Hyperparameter Tuning"
   ]
  },
  {
   "cell_type": "markdown",
   "id": "909fc4bc-6662-4b52-a297-e7c5dbf1374c",
   "metadata": {},
   "source": [
    "Next, we will be tuning some parameters such as n_estimators and max_depth to optimise the predictive model and attempt to achieve a better evaluation score. "
   ]
  },
  {
   "cell_type": "code",
   "execution_count": 114,
   "id": "abc6484b-3062-4f91-86fc-3dfc39578476",
   "metadata": {},
   "outputs": [],
   "source": [
    "# Initialising RandomizedSearchCV and creating parameters for tuning\n",
    "param_grid = {\n",
    "    'regressor__n_estimators': [200, 300, 400],\n",
    "    'regressor__max_depth': [5, 8, 10],\n",
    "    'regressor__min_samples_split': [3, 5, 8],\n",
    "    'regressor__subsample': [0.5, 0.7, 1.0]\n",
    "}\n",
    "\n",
    "rsv = RandomizedSearchCV(estimator = pipeline_gbr, param_distributions = param_grid, cv=2, scoring='neg_mean_squared_error', \n",
    "                         verbose = 1, n_iter =10, n_jobs = -1)"
   ]
  },
  {
   "cell_type": "code",
   "execution_count": 115,
   "id": "ac614056-a121-482f-9f29-da43fc775dec",
   "metadata": {},
   "outputs": [
    {
     "name": "stdout",
     "output_type": "stream",
     "text": [
      "Fitting 2 folds for each of 10 candidates, totalling 20 fits\n",
      "{'regressor__subsample': 0.7, 'regressor__n_estimators': 300, 'regressor__min_samples_split': 5, 'regressor__max_depth': 5}\n"
     ]
    }
   ],
   "source": [
    "# Fit rsv using training data \n",
    "rsv.fit(x_train, y_train.values.ravel())\n",
    "best_rf = rsv.best_estimator_\n",
    "\n",
    "# Evaluate the best estimator model \n",
    "y_pred = best_rf.predict(x_test)\n",
    "print(rsv.best_params_)"
   ]
  },
  {
   "cell_type": "code",
   "execution_count": 116,
   "id": "ea40aba0-a181-4379-bdec-a9ed219d0c93",
   "metadata": {},
   "outputs": [],
   "source": [
    "# Calculating accuracy score for the model\n",
    "train_score = best_rf.score(x_train, y_train)\n",
    "test_score = best_rf.score(x_test, y_test)\n",
    "\n",
    "# Perform 5-fold cross-validation\n",
    "cv_scores = cross_val_score(best_rf, x_train, y_train.values.ravel(), cv=5, scoring='neg_mean_squared_error')\n",
    "\n",
    "# Converting the negative MSE to positive and take the square root\n",
    "rmse_scores = (-cv_scores) ** 0.5"
   ]
  },
  {
   "cell_type": "code",
   "execution_count": 117,
   "id": "c93af3f0-0ecb-44b5-875a-49ea5a750538",
   "metadata": {},
   "outputs": [
    {
     "name": "stdout",
     "output_type": "stream",
     "text": [
      "Train Score: 0.9908798169629444\n",
      "Test Score: 0.815234550550946\n",
      "RMSE for each fold:  [290.50384583 245.89660135 269.15674172 345.10344202 338.16858158]\n",
      "Average RMSE:  297.7658424985268\n"
     ]
    }
   ],
   "source": [
    "# Displaying evaluation metric scores\n",
    "print(f'Train Score: {train_score}')\n",
    "print(f'Test Score: {test_score}')\n",
    "print(\"RMSE for each fold: \", rmse_scores)\n",
    "print(\"Average RMSE: \", rmse_scores.mean())"
   ]
  },
  {
   "cell_type": "code",
   "execution_count": 119,
   "id": "61b0a1e5-c249-404f-bba6-8cfc101ad080",
   "metadata": {},
   "outputs": [
    {
     "name": "stdout",
     "output_type": "stream",
     "text": [
      "RMSE: 330.05719714082943\n",
      "Baseline RMSE: 767.8543092584338\n",
      "Improvement over baseline: 57.02%\n"
     ]
    }
   ],
   "source": [
    "rmse = np.sqrt(mean_squared_error(y_test, y_pred))\n",
    "print(f\"RMSE: {rmse}\")\n",
    "\n",
    "# Baseline RMSE: Predicting the mean of y_true for all observations\n",
    "baseline_pred = [np.mean(y_test)] * len(y_test)\n",
    "baseline_rmse = np.sqrt(mean_squared_error(y_test, baseline_pred))\n",
    "print(f\"Baseline RMSE: {baseline_rmse}\")\n",
    "\n",
    "# Improvement over baseline\n",
    "improvement = (baseline_rmse - rmse) / baseline_rmse * 100\n",
    "print(f\"Improvement over baseline: {improvement:.2f}%\")"
   ]
  },
  {
   "cell_type": "markdown",
   "id": "57f07fda-35c0-4041-b50b-1c6bbdda34cc",
   "metadata": {},
   "source": [
    "After hyperparameter tuning, we managed to improve the training and testing score from 0.9 to 0.99 and 0.78 to 0.81 respectively. There is also slight increase in the improvement over baseline from 53.4% to 57%. This shows that hyperparameter tuning has improved our model."
   ]
  },
  {
   "cell_type": "markdown",
   "id": "b9e908bc-805f-4c08-ac0d-868fc78a10dc",
   "metadata": {},
   "source": [
    "## Conclusion"
   ]
  },
  {
   "cell_type": "markdown",
   "id": "ad05c20e-ad5e-4869-84a4-bb9ca9493b73",
   "metadata": {},
   "source": [
    "This project explores the development of a predictive model using a dataset that contains information about different laptops and their features. The goal of the model was to accurately predict the price of these laptops. After performing feature engineering, model selection and hyperparameter tuning, we managed to create a model using Gradient Boosting Regressor with an accuracy of nearly 100% and 82% on training and testing data respectively. "
   ]
  }
 ],
 "metadata": {
  "kernelspec": {
   "display_name": "Python 3 (ipykernel)",
   "language": "python",
   "name": "python3"
  },
  "language_info": {
   "codemirror_mode": {
    "name": "ipython",
    "version": 3
   },
   "file_extension": ".py",
   "mimetype": "text/x-python",
   "name": "python",
   "nbconvert_exporter": "python",
   "pygments_lexer": "ipython3",
   "version": "3.10.14"
  }
 },
 "nbformat": 4,
 "nbformat_minor": 5
}
