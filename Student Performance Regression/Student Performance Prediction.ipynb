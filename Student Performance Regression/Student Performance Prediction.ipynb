{
 "cells": [
  {
   "cell_type": "markdown",
   "id": "717ffe99-4abe-41ba-86a0-1d04acdd36cf",
   "metadata": {},
   "source": [
    "# Student Performance Prediction\n",
    "\n",
    "This project focuses on a dataset that contains various information on students, such as their study habits, attendance, parental involvement, and other aspects influencing academic success. This purpose of this project is to develop a predictive model that can accurately predict the final exam scores of these students. \n",
    "\n",
    "The dataset is provided by a user from Kaggle (https://www.kaggle.com/datasets/lainguyn123/student-performance-factors). We will be using Python and various tools such as machine learning algorithms, preprocessing and pipelines to create our model. "
   ]
  },
  {
   "cell_type": "markdown",
   "id": "0bc9a19b-d7d5-4999-9f60-fdd4e1e8e085",
   "metadata": {},
   "source": [
    "## Import Libraries"
   ]
  },
  {
   "cell_type": "code",
   "execution_count": 187,
   "id": "3cd324cd-183f-46e0-95d6-19955bcadf4f",
   "metadata": {},
   "outputs": [],
   "source": [
    "import warnings\n",
    "warnings.simplefilter(action='ignore', category=FutureWarning)\n",
    "import numpy as np\n",
    "from matplotlib import pyplot as plt \n",
    "import seaborn as sns\n",
    "import pandas as pd\n",
    "from sklearn.model_selection import GridSearchCV, train_test_split, RandomizedSearchCV, cross_val_score\n",
    "from sklearn.linear_model import LinearRegression, Lasso, Ridge\n",
    "from sklearn.pipeline import Pipeline\n",
    "from sklearn.preprocessing import StandardScaler, OneHotEncoder, OrdinalEncoder\n",
    "from sklearn.metrics import mean_squared_error, r2_score \n",
    "from sklearn.compose import ColumnTransformer\n",
    "from sklearn.ensemble import RandomForestRegressor, GradientBoostingRegressor, StackingRegressor\n",
    "from sklearn.tree import DecisionTreeRegressor\n",
    "from sklearn.neighbors import KNeighborsRegressor"
   ]
  },
  {
   "cell_type": "markdown",
   "id": "9fda48ac-4618-4c73-91b8-f36a8c79344a",
   "metadata": {},
   "source": [
    "## Load and Inspect Data "
   ]
  },
  {
   "cell_type": "code",
   "execution_count": 188,
   "id": "a0cff2ff-de94-4473-be67-7fa3b7009e87",
   "metadata": {},
   "outputs": [
    {
     "name": "stdout",
     "output_type": "stream",
     "text": [
      "<class 'pandas.core.frame.DataFrame'>\n",
      "RangeIndex: 6607 entries, 0 to 6606\n",
      "Data columns (total 20 columns):\n",
      " #   Column                      Non-Null Count  Dtype \n",
      "---  ------                      --------------  ----- \n",
      " 0   Hours_Studied               6607 non-null   int64 \n",
      " 1   Attendance                  6607 non-null   int64 \n",
      " 2   Parental_Involvement        6607 non-null   object\n",
      " 3   Access_to_Resources         6607 non-null   object\n",
      " 4   Extracurricular_Activities  6607 non-null   object\n",
      " 5   Sleep_Hours                 6607 non-null   int64 \n",
      " 6   Previous_Scores             6607 non-null   int64 \n",
      " 7   Motivation_Level            6607 non-null   object\n",
      " 8   Internet_Access             6607 non-null   object\n",
      " 9   Tutoring_Sessions           6607 non-null   int64 \n",
      " 10  Family_Income               6607 non-null   object\n",
      " 11  Teacher_Quality             6529 non-null   object\n",
      " 12  School_Type                 6607 non-null   object\n",
      " 13  Peer_Influence              6607 non-null   object\n",
      " 14  Physical_Activity           6607 non-null   int64 \n",
      " 15  Learning_Disabilities       6607 non-null   object\n",
      " 16  Parental_Education_Level    6517 non-null   object\n",
      " 17  Distance_from_Home          6540 non-null   object\n",
      " 18  Gender                      6607 non-null   object\n",
      " 19  Exam_Score                  6607 non-null   int64 \n",
      "dtypes: int64(7), object(13)\n",
      "memory usage: 1.0+ MB\n"
     ]
    },
    {
     "data": {
      "text/html": [
       "<div>\n",
       "<style scoped>\n",
       "    .dataframe tbody tr th:only-of-type {\n",
       "        vertical-align: middle;\n",
       "    }\n",
       "\n",
       "    .dataframe tbody tr th {\n",
       "        vertical-align: top;\n",
       "    }\n",
       "\n",
       "    .dataframe thead th {\n",
       "        text-align: right;\n",
       "    }\n",
       "</style>\n",
       "<table border=\"1\" class=\"dataframe\">\n",
       "  <thead>\n",
       "    <tr style=\"text-align: right;\">\n",
       "      <th></th>\n",
       "      <th>Hours_Studied</th>\n",
       "      <th>Attendance</th>\n",
       "      <th>Parental_Involvement</th>\n",
       "      <th>Access_to_Resources</th>\n",
       "      <th>Extracurricular_Activities</th>\n",
       "      <th>Sleep_Hours</th>\n",
       "      <th>Previous_Scores</th>\n",
       "      <th>Motivation_Level</th>\n",
       "      <th>Internet_Access</th>\n",
       "      <th>Tutoring_Sessions</th>\n",
       "      <th>Family_Income</th>\n",
       "      <th>Teacher_Quality</th>\n",
       "      <th>School_Type</th>\n",
       "      <th>Peer_Influence</th>\n",
       "      <th>Physical_Activity</th>\n",
       "      <th>Learning_Disabilities</th>\n",
       "      <th>Parental_Education_Level</th>\n",
       "      <th>Distance_from_Home</th>\n",
       "      <th>Gender</th>\n",
       "      <th>Exam_Score</th>\n",
       "    </tr>\n",
       "  </thead>\n",
       "  <tbody>\n",
       "    <tr>\n",
       "      <th>0</th>\n",
       "      <td>23</td>\n",
       "      <td>84</td>\n",
       "      <td>Low</td>\n",
       "      <td>High</td>\n",
       "      <td>No</td>\n",
       "      <td>7</td>\n",
       "      <td>73</td>\n",
       "      <td>Low</td>\n",
       "      <td>Yes</td>\n",
       "      <td>0</td>\n",
       "      <td>Low</td>\n",
       "      <td>Medium</td>\n",
       "      <td>Public</td>\n",
       "      <td>Positive</td>\n",
       "      <td>3</td>\n",
       "      <td>No</td>\n",
       "      <td>High School</td>\n",
       "      <td>Near</td>\n",
       "      <td>Male</td>\n",
       "      <td>67</td>\n",
       "    </tr>\n",
       "    <tr>\n",
       "      <th>1</th>\n",
       "      <td>19</td>\n",
       "      <td>64</td>\n",
       "      <td>Low</td>\n",
       "      <td>Medium</td>\n",
       "      <td>No</td>\n",
       "      <td>8</td>\n",
       "      <td>59</td>\n",
       "      <td>Low</td>\n",
       "      <td>Yes</td>\n",
       "      <td>2</td>\n",
       "      <td>Medium</td>\n",
       "      <td>Medium</td>\n",
       "      <td>Public</td>\n",
       "      <td>Negative</td>\n",
       "      <td>4</td>\n",
       "      <td>No</td>\n",
       "      <td>College</td>\n",
       "      <td>Moderate</td>\n",
       "      <td>Female</td>\n",
       "      <td>61</td>\n",
       "    </tr>\n",
       "    <tr>\n",
       "      <th>2</th>\n",
       "      <td>24</td>\n",
       "      <td>98</td>\n",
       "      <td>Medium</td>\n",
       "      <td>Medium</td>\n",
       "      <td>Yes</td>\n",
       "      <td>7</td>\n",
       "      <td>91</td>\n",
       "      <td>Medium</td>\n",
       "      <td>Yes</td>\n",
       "      <td>2</td>\n",
       "      <td>Medium</td>\n",
       "      <td>Medium</td>\n",
       "      <td>Public</td>\n",
       "      <td>Neutral</td>\n",
       "      <td>4</td>\n",
       "      <td>No</td>\n",
       "      <td>Postgraduate</td>\n",
       "      <td>Near</td>\n",
       "      <td>Male</td>\n",
       "      <td>74</td>\n",
       "    </tr>\n",
       "    <tr>\n",
       "      <th>3</th>\n",
       "      <td>29</td>\n",
       "      <td>89</td>\n",
       "      <td>Low</td>\n",
       "      <td>Medium</td>\n",
       "      <td>Yes</td>\n",
       "      <td>8</td>\n",
       "      <td>98</td>\n",
       "      <td>Medium</td>\n",
       "      <td>Yes</td>\n",
       "      <td>1</td>\n",
       "      <td>Medium</td>\n",
       "      <td>Medium</td>\n",
       "      <td>Public</td>\n",
       "      <td>Negative</td>\n",
       "      <td>4</td>\n",
       "      <td>No</td>\n",
       "      <td>High School</td>\n",
       "      <td>Moderate</td>\n",
       "      <td>Male</td>\n",
       "      <td>71</td>\n",
       "    </tr>\n",
       "    <tr>\n",
       "      <th>4</th>\n",
       "      <td>19</td>\n",
       "      <td>92</td>\n",
       "      <td>Medium</td>\n",
       "      <td>Medium</td>\n",
       "      <td>Yes</td>\n",
       "      <td>6</td>\n",
       "      <td>65</td>\n",
       "      <td>Medium</td>\n",
       "      <td>Yes</td>\n",
       "      <td>3</td>\n",
       "      <td>Medium</td>\n",
       "      <td>High</td>\n",
       "      <td>Public</td>\n",
       "      <td>Neutral</td>\n",
       "      <td>4</td>\n",
       "      <td>No</td>\n",
       "      <td>College</td>\n",
       "      <td>Near</td>\n",
       "      <td>Female</td>\n",
       "      <td>70</td>\n",
       "    </tr>\n",
       "  </tbody>\n",
       "</table>\n",
       "</div>"
      ],
      "text/plain": [
       "   Hours_Studied  Attendance Parental_Involvement Access_to_Resources  \\\n",
       "0             23          84                  Low                High   \n",
       "1             19          64                  Low              Medium   \n",
       "2             24          98               Medium              Medium   \n",
       "3             29          89                  Low              Medium   \n",
       "4             19          92               Medium              Medium   \n",
       "\n",
       "  Extracurricular_Activities  Sleep_Hours  Previous_Scores Motivation_Level  \\\n",
       "0                         No            7               73              Low   \n",
       "1                         No            8               59              Low   \n",
       "2                        Yes            7               91           Medium   \n",
       "3                        Yes            8               98           Medium   \n",
       "4                        Yes            6               65           Medium   \n",
       "\n",
       "  Internet_Access  Tutoring_Sessions Family_Income Teacher_Quality  \\\n",
       "0             Yes                  0           Low          Medium   \n",
       "1             Yes                  2        Medium          Medium   \n",
       "2             Yes                  2        Medium          Medium   \n",
       "3             Yes                  1        Medium          Medium   \n",
       "4             Yes                  3        Medium            High   \n",
       "\n",
       "  School_Type Peer_Influence  Physical_Activity Learning_Disabilities  \\\n",
       "0      Public       Positive                  3                    No   \n",
       "1      Public       Negative                  4                    No   \n",
       "2      Public        Neutral                  4                    No   \n",
       "3      Public       Negative                  4                    No   \n",
       "4      Public        Neutral                  4                    No   \n",
       "\n",
       "  Parental_Education_Level Distance_from_Home  Gender  Exam_Score  \n",
       "0              High School               Near    Male          67  \n",
       "1                  College           Moderate  Female          61  \n",
       "2             Postgraduate               Near    Male          74  \n",
       "3              High School           Moderate    Male          71  \n",
       "4                  College               Near  Female          70  "
      ]
     },
     "execution_count": 188,
     "metadata": {},
     "output_type": "execute_result"
    }
   ],
   "source": [
    "df = pd.read_csv('StudentPerformanceFactors.csv')\n",
    "df.info()\n",
    "df.head()"
   ]
  },
  {
   "cell_type": "markdown",
   "id": "c511cf0b-27d8-430c-aef1-58883912d61f",
   "metadata": {},
   "source": [
    "The dataset contains 6607 rows and 19 columns containing information on used cars. It seems that the 'Teacher_Quality', 'Distance_from_Home' and 'Parental_Education_Level' columns are the only columns that have null values.\n",
    "\n",
    "Here's a summary of all the columns:\n",
    "\n",
    "- **Hours_Studied**:\tNumber of hours spent studying per week.\n",
    "- **Attendance**:\tPercentage of classes attended.\n",
    "- **Parental_Involvement**:\tLevel of parental involvement in the student's education (Low, Medium, High).\n",
    "- **Access_to_Resources**:\tAvailability of educational resources (Low, Medium, High).\n",
    "- **Extracurricular_Activities**:\tParticipation in extracurricular activities (Yes, No).\n",
    "- **Sleep_Hours**:\tAverage number of hours of sleep per night.\n",
    "- **Previous_Scores**:\tScores from previous exams.\n",
    "- **Motivation_Level**:\tStudent's level of motivation (Low, Medium, High).\n",
    "- **Internet_Access**:\tAvailability of internet access (Yes, No).\n",
    "- **Tutoring_Sessions**:\tNumber of tutoring sessions attended per month.\n",
    "- **Family_Income**:\tFamily income level (Low, Medium, High).\n",
    "- **Teacher_Quality**:\tQuality of the teachers (Low, Medium, High).\n",
    "- **School_Type**:\tType of school attended (Public, Private).\n",
    "- **Peer_Influence**:\tInfluence of peers on academic performance (Positive, Neutral, Negative).\n",
    "- **Physical_Activity**:\tAverage number of hours of physical activity per week.\n",
    "- **Learning_Disabilities**:\tPresence of learning disabilities (Yes, No).\n",
    "- **Parental_Education_Level**:\tHighest education level of parents (High School, College, Postgraduate).\n",
    "- **Distance_from_Home**:\tDistance from home to school (Near, Moderate, Far).\n",
    "- **Gender**:\tGender of the student (Male, Female).\n",
    "- **Exam_Score**:\tFinal exam score."
   ]
  },
  {
   "cell_type": "markdown",
   "id": "7066e5ad-fddb-4e1b-84a3-c2cf352f0f6c",
   "metadata": {},
   "source": [
    "## Data Cleaning and Preparation"
   ]
  },
  {
   "cell_type": "markdown",
   "id": "f90cf0d8-b82e-487b-939a-5337d34dfc98",
   "metadata": {},
   "source": [
    "### Dealing with null values "
   ]
  },
  {
   "cell_type": "markdown",
   "id": "2a1355f5-f98b-45bd-a438-fd7e3c26f4a4",
   "metadata": {},
   "source": [
    "We will use backward fill to replace the null values in the 'Teacher_Quality', 'Distance_from_Home' and 'Parental_Education_Level' columns."
   ]
  },
  {
   "cell_type": "code",
   "execution_count": 189,
   "id": "d2ab80ad-1139-4d8a-a573-ab0d35d75245",
   "metadata": {},
   "outputs": [],
   "source": [
    "# Forward filling null values\n",
    "df['Teacher_Quality'].ffill(inplace = True)\n",
    "df['Distance_from_Home'].ffill(inplace = True)\n",
    "df['Parental_Education_Level'].ffill(inplace = True)"
   ]
  },
  {
   "cell_type": "markdown",
   "id": "cce8e5bb-bfa9-41a0-9581-b40ffb45a8d0",
   "metadata": {},
   "source": [
    "### Dealing with outliers"
   ]
  },
  {
   "cell_type": "markdown",
   "id": "117a5636-7455-4760-8832-046870f65279",
   "metadata": {},
   "source": [
    "We managed to find a student with an exam score of 101 which is impossible since the maximum score is 100 hence, we will replace this value."
   ]
  },
  {
   "cell_type": "code",
   "execution_count": 190,
   "id": "105e18e3-1162-4b19-8959-2b234088aced",
   "metadata": {},
   "outputs": [
    {
     "data": {
      "text/html": [
       "<div>\n",
       "<style scoped>\n",
       "    .dataframe tbody tr th:only-of-type {\n",
       "        vertical-align: middle;\n",
       "    }\n",
       "\n",
       "    .dataframe tbody tr th {\n",
       "        vertical-align: top;\n",
       "    }\n",
       "\n",
       "    .dataframe thead th {\n",
       "        text-align: right;\n",
       "    }\n",
       "</style>\n",
       "<table border=\"1\" class=\"dataframe\">\n",
       "  <thead>\n",
       "    <tr style=\"text-align: right;\">\n",
       "      <th></th>\n",
       "      <th>Hours_Studied</th>\n",
       "      <th>Attendance</th>\n",
       "      <th>Parental_Involvement</th>\n",
       "      <th>Access_to_Resources</th>\n",
       "      <th>Extracurricular_Activities</th>\n",
       "      <th>Sleep_Hours</th>\n",
       "      <th>Previous_Scores</th>\n",
       "      <th>Motivation_Level</th>\n",
       "      <th>Internet_Access</th>\n",
       "      <th>Tutoring_Sessions</th>\n",
       "      <th>Family_Income</th>\n",
       "      <th>Teacher_Quality</th>\n",
       "      <th>School_Type</th>\n",
       "      <th>Peer_Influence</th>\n",
       "      <th>Physical_Activity</th>\n",
       "      <th>Learning_Disabilities</th>\n",
       "      <th>Parental_Education_Level</th>\n",
       "      <th>Distance_from_Home</th>\n",
       "      <th>Gender</th>\n",
       "      <th>Exam_Score</th>\n",
       "    </tr>\n",
       "  </thead>\n",
       "  <tbody>\n",
       "    <tr>\n",
       "      <th>1525</th>\n",
       "      <td>27</td>\n",
       "      <td>98</td>\n",
       "      <td>Low</td>\n",
       "      <td>Medium</td>\n",
       "      <td>Yes</td>\n",
       "      <td>6</td>\n",
       "      <td>93</td>\n",
       "      <td>Low</td>\n",
       "      <td>No</td>\n",
       "      <td>5</td>\n",
       "      <td>High</td>\n",
       "      <td>High</td>\n",
       "      <td>Public</td>\n",
       "      <td>Positive</td>\n",
       "      <td>3</td>\n",
       "      <td>No</td>\n",
       "      <td>High School</td>\n",
       "      <td>Moderate</td>\n",
       "      <td>Female</td>\n",
       "      <td>101</td>\n",
       "    </tr>\n",
       "  </tbody>\n",
       "</table>\n",
       "</div>"
      ],
      "text/plain": [
       "      Hours_Studied  Attendance Parental_Involvement Access_to_Resources  \\\n",
       "1525             27          98                  Low              Medium   \n",
       "\n",
       "     Extracurricular_Activities  Sleep_Hours  Previous_Scores  \\\n",
       "1525                        Yes            6               93   \n",
       "\n",
       "     Motivation_Level Internet_Access  Tutoring_Sessions Family_Income  \\\n",
       "1525              Low              No                  5          High   \n",
       "\n",
       "     Teacher_Quality School_Type Peer_Influence  Physical_Activity  \\\n",
       "1525            High      Public       Positive                  3   \n",
       "\n",
       "     Learning_Disabilities Parental_Education_Level Distance_from_Home  \\\n",
       "1525                    No              High School           Moderate   \n",
       "\n",
       "      Gender  Exam_Score  \n",
       "1525  Female         101  "
      ]
     },
     "execution_count": 190,
     "metadata": {},
     "output_type": "execute_result"
    }
   ],
   "source": [
    "df[df.Exam_Score == 101]"
   ]
  },
  {
   "cell_type": "code",
   "execution_count": 191,
   "id": "4731124a-47dd-48a8-83f3-0118a9eb54f5",
   "metadata": {},
   "outputs": [],
   "source": [
    "# Replacing outlier value\n",
    "df.Exam_Score.replace(101, 100, inplace = True)"
   ]
  },
  {
   "cell_type": "markdown",
   "id": "7ec66231-2157-4d70-96c5-d99f8c0f1413",
   "metadata": {},
   "source": [
    "## Data Transformation"
   ]
  },
  {
   "cell_type": "markdown",
   "id": "5586a3f5-776a-4469-9ba3-dff39a60ff5d",
   "metadata": {},
   "source": [
    "### Converting columns to Boolean Category"
   ]
  },
  {
   "cell_type": "code",
   "execution_count": 192,
   "id": "0a3e7b1d-e22a-46f1-93bc-ecdc76ca5015",
   "metadata": {},
   "outputs": [],
   "source": [
    "bin_cols = ['Extracurricular_Activities', 'Internet_Access', 'Learning_Disabilities', 'Gender']\n",
    "\n",
    "df['Extracurricular_Activities'].replace({'Yes':1, 'No':0}, inplace = True)\n",
    "df['Internet_Access'].replace({'Yes':1, 'No':0}, inplace = True)\n",
    "df['Learning_Disabilities'].replace({'Yes':1, 'No':0}, inplace = True)\n",
    "df['Gender'].replace({'Male':1, 'Female':0}, inplace = True)\n",
    "\n",
    "df[bin_cols] = df[bin_cols].astype('bool')"
   ]
  },
  {
   "cell_type": "markdown",
   "id": "7f12c4d5-2547-48fb-9701-7ce25e25057d",
   "metadata": {},
   "source": [
    "### Ordinal Encoding"
   ]
  },
  {
   "cell_type": "code",
   "execution_count": 193,
   "id": "069173cd-47dd-4fbb-bf89-444b02f6a952",
   "metadata": {},
   "outputs": [],
   "source": [
    "# Define orders for ordinal encoding\n",
    "education_order = ['High School', 'College', 'Postgraduate']\n",
    "quality_order = ['Low', 'Medium', 'High']\n",
    "distance_order = ['Near', 'Moderate', 'Far']\n",
    "\n",
    "ordinal_enc = OrdinalEncoder(categories=[quality_order, quality_order, quality_order, quality_order, quality_order, education_order, \n",
    "                                        distance_order])"
   ]
  },
  {
   "cell_type": "markdown",
   "id": "b437f9ae-c79e-445a-88d0-d7ff47182f04",
   "metadata": {},
   "source": [
    "## Feature Importances"
   ]
  },
  {
   "cell_type": "code",
   "execution_count": 194,
   "id": "2ab0bf73-4c55-4c0c-adbf-0bad440d3f59",
   "metadata": {},
   "outputs": [],
   "source": [
    "features = df.drop(columns = ['Exam_Score']).columns\n",
    "target = ['Exam_Score']\n",
    "\n",
    "X = df[features]\n",
    "y = df[target]\n",
    "a\n",
    "num_cols = ['Hours_Studied', 'Attendance', 'Sleep_Hours', 'Previous_Scores', 'Tutoring_Sessions', 'Physical_Activity']\n",
    "cat_cols = ['School_Type', 'Peer_Influence']\n",
    "ord_cols = ['Parental_Involvement', 'Access_to_Resources', 'Motivation_Level', 'Family_Income', 'Teacher_Quality', 'Parental_Education_Level',\n",
    "             'Distance_from_Home']\n",
    "bin_cols = ['Extracurricular_Activities', 'Internet_Access', 'Learning_Disabilities', 'Gender']\n",
    "\n",
    "preprocessor = ColumnTransformer(\n",
    "    transformers = [\n",
    "        ('num_vals', StandardScaler(), num_cols),\n",
    "        ('cat_vals', OneHotEncoder(sparse = False, drop = 'first'), cat_cols),\n",
    "        ('bin_vals', 'passthrough', bin_cols),\n",
    "        ('ord_vals', ordinal_enc, ord_cols)\n",
    "    ]\n",
    ")"
   ]
  },
  {
   "cell_type": "code",
   "execution_count": 195,
   "id": "4c5458d9-99f3-4bf5-b997-c911219bb5f4",
   "metadata": {},
   "outputs": [],
   "source": [
    "# Apply the transformations to the training data\n",
    "X_preprocessed = preprocessor.fit_transform(X)\n",
    "X_preprocessed = pd.DataFrame(X_preprocessed, columns=preprocessor.get_feature_names_out())\n",
    "\n",
    "# Split the data into train and test sets\n",
    "x_train_processed, x_test_processed, y_train_processed, y_test_processed = train_test_split(X_preprocessed, y, test_size=0.2, random_state=0)"
   ]
  },
  {
   "cell_type": "code",
   "execution_count": 196,
   "id": "9d9f548f-98d1-4ef3-9d31-b71e6274e690",
   "metadata": {},
   "outputs": [
    {
     "data": {
      "text/html": [
       "<style>#sk-container-id-7 {color: black;}#sk-container-id-7 pre{padding: 0;}#sk-container-id-7 div.sk-toggleable {background-color: white;}#sk-container-id-7 label.sk-toggleable__label {cursor: pointer;display: block;width: 100%;margin-bottom: 0;padding: 0.3em;box-sizing: border-box;text-align: center;}#sk-container-id-7 label.sk-toggleable__label-arrow:before {content: \"▸\";float: left;margin-right: 0.25em;color: #696969;}#sk-container-id-7 label.sk-toggleable__label-arrow:hover:before {color: black;}#sk-container-id-7 div.sk-estimator:hover label.sk-toggleable__label-arrow:before {color: black;}#sk-container-id-7 div.sk-toggleable__content {max-height: 0;max-width: 0;overflow: hidden;text-align: left;background-color: #f0f8ff;}#sk-container-id-7 div.sk-toggleable__content pre {margin: 0.2em;color: black;border-radius: 0.25em;background-color: #f0f8ff;}#sk-container-id-7 input.sk-toggleable__control:checked~div.sk-toggleable__content {max-height: 200px;max-width: 100%;overflow: auto;}#sk-container-id-7 input.sk-toggleable__control:checked~label.sk-toggleable__label-arrow:before {content: \"▾\";}#sk-container-id-7 div.sk-estimator input.sk-toggleable__control:checked~label.sk-toggleable__label {background-color: #d4ebff;}#sk-container-id-7 div.sk-label input.sk-toggleable__control:checked~label.sk-toggleable__label {background-color: #d4ebff;}#sk-container-id-7 input.sk-hidden--visually {border: 0;clip: rect(1px 1px 1px 1px);clip: rect(1px, 1px, 1px, 1px);height: 1px;margin: -1px;overflow: hidden;padding: 0;position: absolute;width: 1px;}#sk-container-id-7 div.sk-estimator {font-family: monospace;background-color: #f0f8ff;border: 1px dotted black;border-radius: 0.25em;box-sizing: border-box;margin-bottom: 0.5em;}#sk-container-id-7 div.sk-estimator:hover {background-color: #d4ebff;}#sk-container-id-7 div.sk-parallel-item::after {content: \"\";width: 100%;border-bottom: 1px solid gray;flex-grow: 1;}#sk-container-id-7 div.sk-label:hover label.sk-toggleable__label {background-color: #d4ebff;}#sk-container-id-7 div.sk-serial::before {content: \"\";position: absolute;border-left: 1px solid gray;box-sizing: border-box;top: 0;bottom: 0;left: 50%;z-index: 0;}#sk-container-id-7 div.sk-serial {display: flex;flex-direction: column;align-items: center;background-color: white;padding-right: 0.2em;padding-left: 0.2em;position: relative;}#sk-container-id-7 div.sk-item {position: relative;z-index: 1;}#sk-container-id-7 div.sk-parallel {display: flex;align-items: stretch;justify-content: center;background-color: white;position: relative;}#sk-container-id-7 div.sk-item::before, #sk-container-id-7 div.sk-parallel-item::before {content: \"\";position: absolute;border-left: 1px solid gray;box-sizing: border-box;top: 0;bottom: 0;left: 50%;z-index: -1;}#sk-container-id-7 div.sk-parallel-item {display: flex;flex-direction: column;z-index: 1;position: relative;background-color: white;}#sk-container-id-7 div.sk-parallel-item:first-child::after {align-self: flex-end;width: 50%;}#sk-container-id-7 div.sk-parallel-item:last-child::after {align-self: flex-start;width: 50%;}#sk-container-id-7 div.sk-parallel-item:only-child::after {width: 0;}#sk-container-id-7 div.sk-dashed-wrapped {border: 1px dashed gray;margin: 0 0.4em 0.5em 0.4em;box-sizing: border-box;padding-bottom: 0.4em;background-color: white;}#sk-container-id-7 div.sk-label label {font-family: monospace;font-weight: bold;display: inline-block;line-height: 1.2em;}#sk-container-id-7 div.sk-label-container {text-align: center;}#sk-container-id-7 div.sk-container {/* jupyter's `normalize.less` sets `[hidden] { display: none; }` but bootstrap.min.css set `[hidden] { display: none !important; }` so we also need the `!important` here to be able to override the default hidden behavior on the sphinx rendered scikit-learn.org. See: https://github.com/scikit-learn/scikit-learn/issues/21755 */display: inline-block !important;position: relative;}#sk-container-id-7 div.sk-text-repr-fallback {display: none;}</style><div id=\"sk-container-id-7\" class=\"sk-top-container\"><div class=\"sk-text-repr-fallback\"><pre>DecisionTreeRegressor(random_state=0)</pre><b>In a Jupyter environment, please rerun this cell to show the HTML representation or trust the notebook. <br />On GitHub, the HTML representation is unable to render, please try loading this page with nbviewer.org.</b></div><div class=\"sk-container\" hidden><div class=\"sk-item\"><div class=\"sk-estimator sk-toggleable\"><input class=\"sk-toggleable__control sk-hidden--visually\" id=\"sk-estimator-id-7\" type=\"checkbox\" checked><label for=\"sk-estimator-id-7\" class=\"sk-toggleable__label sk-toggleable__label-arrow\">DecisionTreeRegressor</label><div class=\"sk-toggleable__content\"><pre>DecisionTreeRegressor(random_state=0)</pre></div></div></div></div></div>"
      ],
      "text/plain": [
       "DecisionTreeRegressor(random_state=0)"
      ]
     },
     "execution_count": 196,
     "metadata": {},
     "output_type": "execute_result"
    }
   ],
   "source": [
    "# Initialize the GradientBoostingRegressor\n",
    "rgr = DecisionTreeRegressor(criterion = 'squared_error', random_state = 0)\n",
    "\n",
    "# Fit the model to the training data\n",
    "rgr.fit(x_train_processed, y_train_processed)"
   ]
  },
  {
   "cell_type": "code",
   "execution_count": 197,
   "id": "d6251a33-0b07-4135-b941-d34a1af9c154",
   "metadata": {},
   "outputs": [
    {
     "name": "stdout",
     "output_type": "stream",
     "text": [
      "                                 feature  importance\n",
      "1                   num_vals__Attendance    0.391719\n",
      "0                num_vals__Hours_Studied    0.243539\n",
      "3              num_vals__Previous_Scores    0.078951\n",
      "4            num_vals__Tutoring_Sessions    0.040355\n",
      "13        ord_vals__Parental_Involvement    0.034599\n",
      "5            num_vals__Physical_Activity    0.029081\n",
      "14         ord_vals__Access_to_Resources    0.028099\n",
      "2                  num_vals__Sleep_Hours    0.021799\n",
      "18    ord_vals__Parental_Education_Level    0.019748\n",
      "6           cat_vals__School_Type_Public    0.019296\n",
      "16               ord_vals__Family_Income    0.015540\n",
      "8      cat_vals__Peer_Influence_Positive    0.012990\n",
      "12                      bin_vals__Gender    0.012652\n",
      "17             ord_vals__Teacher_Quality    0.012360\n",
      "15            ord_vals__Motivation_Level    0.011327\n",
      "19          ord_vals__Distance_from_Home    0.010273\n",
      "11       bin_vals__Learning_Disabilities    0.008333\n",
      "10             bin_vals__Internet_Access    0.004302\n",
      "9   bin_vals__Extracurricular_Activities    0.003469\n",
      "7       cat_vals__Peer_Influence_Neutral    0.001569\n"
     ]
    }
   ],
   "source": [
    "# Get feature importances\n",
    "importances = rgr.feature_importances_\n",
    "\n",
    "# Create a DataFrame to view feature importances\n",
    "feature_importances = pd.DataFrame({'feature': x_train_processed.columns, 'importance': importances})\n",
    "\n",
    "# Sort by importance\n",
    "feature_importances = feature_importances.sort_values(by='importance', ascending=False)\n",
    "\n",
    "# Print features and importances\n",
    "print(feature_importances)"
   ]
  },
  {
   "cell_type": "markdown",
   "id": "ea0b7dd0-2a0b-402d-8786-c326c1059a7d",
   "metadata": {},
   "source": [
    "As shown above, the numerical cols have a higher importance compared to the categorical columns. Attendance has the highest impact on the model compared to all the features, followed by hours studied and previous scores. "
   ]
  },
  {
   "cell_type": "markdown",
   "id": "76773b1b-1ce8-439c-87d5-367200bdbe19",
   "metadata": {},
   "source": [
    "## Model Selection and Evaluation"
   ]
  },
  {
   "cell_type": "markdown",
   "id": "a19ed3df-88c2-46ef-b4c4-82bbb9c4efc7",
   "metadata": {},
   "source": [
    "We will be testing on 3 different models (Decision Tree Regressor, Random Forest Regressor and Gradient Boosting Regressor) to determine which ones perform the best. "
   ]
  },
  {
   "cell_type": "code",
   "execution_count": 198,
   "id": "f5f05d85-88e4-43fa-ad9e-c43fd16271f6",
   "metadata": {},
   "outputs": [],
   "source": [
    "new_features = df.drop(columns = ['Exam_Score']).columns\n",
    "\n",
    "X = df[new_features]\n",
    "y = df[target]\n",
    "\n",
    "num_cols = ['Hours_Studied', 'Attendance', 'Sleep_Hours', 'Previous_Scores', 'Tutoring_Sessions', 'Physical_Activity']\n",
    "cat_cols = ['School_Type', 'Peer_Influence']\n",
    "ord_cols = ['Parental_Involvement', 'Access_to_Resources', 'Motivation_Level', 'Family_Income', 'Teacher_Quality', 'Parental_Education_Level',\n",
    "             'Distance_from_Home']\n",
    "bin_cols = ['Extracurricular_Activities', 'Internet_Access', 'Learning_Disabilities', 'Gender']\n",
    "\n",
    "ordinal_enc = OrdinalEncoder(categories=[quality_order, quality_order, quality_order, quality_order, quality_order, education_order, \n",
    "                                        distance_order])\n",
    "\n",
    "preprocessor = ColumnTransformer(\n",
    "    transformers = [\n",
    "        ('num_vals', StandardScaler(), num_cols),\n",
    "        ('cat_vals', OneHotEncoder(sparse = False, drop = 'first'), cat_cols),\n",
    "        ('bin_vals', 'passthrough', bin_cols),\n",
    "        ('ord_vals', ordinal_enc, ord_cols)\n",
    "    ]\n",
    ")\n",
    "\n",
    "# Split the data into train and test sets\n",
    "x_train, x_test, y_train, y_test = train_test_split(X, y, test_size = 0.25, random_state = 0)"
   ]
  },
  {
   "cell_type": "markdown",
   "id": "e499949a-5928-4938-a351-02b6058c56a7",
   "metadata": {},
   "source": [
    "### Decision Tree Regressor "
   ]
  },
  {
   "cell_type": "code",
   "execution_count": 199,
   "id": "c8d9eb79-8664-4425-804a-ffd2c889feae",
   "metadata": {},
   "outputs": [],
   "source": [
    "# Initialising DecisionTreeRegressor\n",
    "dtr = DecisionTreeRegressor(random_state = 0)\n",
    "\n",
    "pipeline_dtr = Pipeline([('preprocessing', preprocessor), ('regressor', dtr)])"
   ]
  },
  {
   "cell_type": "code",
   "execution_count": 200,
   "id": "50e1d8c9-efdb-46d6-b417-47586fff17eb",
   "metadata": {},
   "outputs": [
    {
     "name": "stdout",
     "output_type": "stream",
     "text": [
      "Decision Tree Regressor Train Score: 1.0\n",
      "Decision Tree Regressor Test Score: 0.16773277222514482\n"
     ]
    }
   ],
   "source": [
    "# Fit the pipeline on the training data and predict on test set\n",
    "pipeline_dtr.fit(x_train, y_train)\n",
    "\n",
    "# Predicting y values from test data\n",
    "y_pred = pipeline_dtr.predict(x_test)\n",
    "\n",
    "# Pipeline score\n",
    "train_score = pipeline_dtr.score(x_train, y_train)\n",
    "test_score = pipeline_dtr.score(x_test, y_test)\n",
    "print(f'Decision Tree Regressor Train Score: {train_score}')\n",
    "print(f'Decision Tree Regressor Test Score: {test_score}')"
   ]
  },
  {
   "cell_type": "markdown",
   "id": "5f8a9fdd-47da-422f-ad83-75b9376285ec",
   "metadata": {},
   "source": [
    "### Random Forest Regressor"
   ]
  },
  {
   "cell_type": "code",
   "execution_count": 201,
   "id": "731449ae-ad9d-4dbb-95b2-48edd2c757f1",
   "metadata": {},
   "outputs": [],
   "source": [
    "# Initializing RandomForestRegressor\n",
    "rfr = RandomForestRegressor(random_state = 0)\n",
    "\n",
    "pipeline_rfr = Pipeline([('preprocessing', preprocessor), ('regressor', rfr)])"
   ]
  },
  {
   "cell_type": "code",
   "execution_count": 202,
   "id": "003761da-c2cc-42f7-85c0-a27ec4232154",
   "metadata": {},
   "outputs": [
    {
     "name": "stdout",
     "output_type": "stream",
     "text": [
      "Random Forest Regressor Train Score: 0.9489910246121348\n",
      "Random Forest Regressor Test Score: 0.6050183903208839\n"
     ]
    }
   ],
   "source": [
    "# Fit the pipeline on the training data and predict on test set\n",
    "pipeline_rfr.fit(x_train, y_train.values.ravel())\n",
    "\n",
    "# Predicting y values from test data\n",
    "y_pred = pipeline_rfr.predict(x_test)\n",
    "\n",
    "#Pipeline score\n",
    "train_score = pipeline_rfr.score(x_train, y_train)\n",
    "test_score = pipeline_rfr.score(x_test, y_test)\n",
    "print(f'Random Forest Regressor Train Score: {train_score}')\n",
    "print(f'Random Forest Regressor Test Score: {test_score}')"
   ]
  },
  {
   "cell_type": "markdown",
   "id": "5e415293-137e-4931-a991-cc54adaf1ccd",
   "metadata": {},
   "source": [
    "### Gradient Boosting Regressor"
   ]
  },
  {
   "cell_type": "code",
   "execution_count": 203,
   "id": "c9ac2ac4-d235-4476-bad8-296f05c88a42",
   "metadata": {},
   "outputs": [],
   "source": [
    "# Initializing RandomForestRegressor\n",
    "gbr = GradientBoostingRegressor(random_state = 0)\n",
    "\n",
    "pipeline_gbr = Pipeline([('preprocessing', preprocessor), ('regressor', gbr)])"
   ]
  },
  {
   "cell_type": "code",
   "execution_count": 204,
   "id": "8c4cc428-b5bb-4bb6-8339-11f4552356a0",
   "metadata": {},
   "outputs": [
    {
     "name": "stdout",
     "output_type": "stream",
     "text": [
      "Gradient Boosting Regressor Train Score: 0.7597874323149514\n",
      "Gradient Boosting Regressor Test Score: 0.6501478623055192\n"
     ]
    }
   ],
   "source": [
    "# Fit the pipeline on the training data and predict on test set\n",
    "pipeline_gbr.fit(x_train, y_train.values.ravel())\n",
    "\n",
    "# Predicting y values from test data\n",
    "y_pred = pipeline_gbr.predict(x_test)\n",
    "\n",
    "#Pipeline score\n",
    "train_score = pipeline_gbr.score(x_train, y_train)\n",
    "test_score = pipeline_gbr.score(x_test, y_test)\n",
    "print(f'Gradient Boosting Regressor Train Score: {train_score}')\n",
    "print(f'Gradient Boosting Regressor Test Score: {test_score}')"
   ]
  },
  {
   "cell_type": "markdown",
   "id": "c070f1fa-d6a3-4e7f-abf2-4f166e5fb032",
   "metadata": {},
   "source": [
    "Decision Tree Regression (DTR) seems to be overfitting (high training score, low testing score) a lot more in comparison to Gradient Boosting Regressor (GBR) and and Random Forest Regression (RFR)."
   ]
  },
  {
   "cell_type": "markdown",
   "id": "0a31b4b7-3593-4993-9eaa-ff6d15a93485",
   "metadata": {},
   "source": [
    "## Hyperparameter Tuning"
   ]
  },
  {
   "cell_type": "markdown",
   "id": "4819cb21-32ce-444b-85fd-f86ae2a8df42",
   "metadata": {},
   "source": [
    "We have decided to use Gradient Boosting Regressor to be tuned for better performance since its training and testing scores show a higher prospect. We will use 5-fold cross validation to calculate the average root mean squared error (RMSE) score to evaluate the performance of our model."
   ]
  },
  {
   "cell_type": "code",
   "execution_count": 205,
   "id": "77a2d429-8e66-46f6-bf34-f711192d40b0",
   "metadata": {},
   "outputs": [
    {
     "name": "stdout",
     "output_type": "stream",
     "text": [
      "RMSE for each fold:  [1.52405975 2.34222442 1.88654995 1.47311694 2.87339772]\n",
      "Average RMSE:  2.019869754618342\n"
     ]
    }
   ],
   "source": [
    "# Perform 5-fold cross-validation\n",
    "cv_scores = cross_val_score(pipeline_gbr, x_train, y_train.values.ravel(), cv=5, scoring='neg_mean_squared_error')\n",
    "\n",
    "# Convert the negative MSE to positive and take the square root\n",
    "rmse_scores = (-cv_scores) ** 0.5\n",
    "\n",
    "# Display the RMSE for each fold and the average RMSE\n",
    "print(\"RMSE for each fold: \", rmse_scores)\n",
    "print(\"Average RMSE: \", rmse_scores.mean())"
   ]
  },
  {
   "cell_type": "markdown",
   "id": "790f05b7-2161-40ec-aaba-69f70017c850",
   "metadata": {},
   "source": [
    "With RMSE values ranging from approximately 1.47 to 2.87, the model's performance varies a bit depending on the subset of data it’s trained and tested on. This could mean that the model is sensitive to data splits which could indicate that it is not capturing the underlying patterns or there are outliers/noise in the data. "
   ]
  },
  {
   "cell_type": "code",
   "execution_count": 206,
   "id": "255fff6c-ae4b-4948-b7eb-7ac97508c99b",
   "metadata": {},
   "outputs": [],
   "source": [
    "# Initialising GBR with hyperparameter tuning \n",
    "gbr = GradientBoostingRegressor(random_state = 0, n_estimators = 160, learning_rate = 0.2, max_depth = 2, min_samples_split = 10,\n",
    "                               min_samples_leaf = 40, subsample = 0.8)\n",
    "\n",
    "# Fitting regressor to training data\n",
    "pipeline_gbr_tuned = Pipeline([('preprocessing', preprocessor), ('regressor', gbr)])\n",
    "pipeline_gbr_tuned.fit(x_train, y_train.values.ravel())\n",
    "\n",
    "# Predicting y values from test data\n",
    "y_pred = pipeline_gbr_tuned.predict(x_test)"
   ]
  },
  {
   "cell_type": "code",
   "execution_count": 207,
   "id": "3bba079a-3a29-4723-b13a-f2a8f8f5eeb1",
   "metadata": {},
   "outputs": [
    {
     "name": "stdout",
     "output_type": "stream",
     "text": [
      "Gradient Boosting Regressor Train Score: 0.7610921788906002\n",
      "Gradient Boosting Regressor Test Score: 0.6710664100056156\n",
      "RMSE for each fold:  [1.46197503 2.25354224 1.80597824 1.37240294 2.80707325]\n",
      "Average RMSE:  1.940194341138131\n"
     ]
    }
   ],
   "source": [
    "# Perform 5-fold cross-validation\n",
    "cv_scores = cross_val_score(pipeline_gbr_tuned, x_train, y_train.values.ravel(), cv=5, scoring='neg_mean_squared_error')\n",
    "\n",
    "# Convert the negative MSE to positive and take the square root\n",
    "rmse_scores = (-cv_scores) ** 0.5\n",
    "\n",
    "#Pipeline score\n",
    "train_score = pipeline_gbr_tuned.score(x_train, y_train)\n",
    "test_score = pipeline_gbr_tuned.score(x_test, y_test)\n",
    "print(f'Gradient Boosting Regressor Train Score: {train_score}')\n",
    "print(f'Gradient Boosting Regressor Test Score: {test_score}')\n",
    "\n",
    "# Display the RMSE for each fold and the average RMSE\n",
    "print(\"RMSE for each fold: \", rmse_scores)\n",
    "print(\"Average RMSE: \", rmse_scores.mean())"
   ]
  },
  {
   "cell_type": "markdown",
   "id": "a9bc6562-4f0d-4858-97e8-c828f8c43169",
   "metadata": {},
   "source": [
    "After tuning some of GBR's parameters, we managed to improve to training and testing score of our model by a small percentage. We also managed to improved the RMSE score by reducing it from approximately 2.02 to 1.94."
   ]
  },
  {
   "cell_type": "markdown",
   "id": "71d7d401-84ff-4a9d-84ba-10ec84b1e4a3",
   "metadata": {},
   "source": [
    "## Conclusion"
   ]
  },
  {
   "cell_type": "markdown",
   "id": "c6d996d5-8f88-4395-beba-fc73ab960e76",
   "metadata": {},
   "source": [
    "The purpose of this project was to create a maching learning model that could accurately predict the exam scores of students based on numerous factors such as hours studied, parental involvement, extracurricular activities and many more. After experimenting with different models, we came to the conclusion that a Gradient Boosting Regressor model would perform best. We managed to tune its parameters and create a model that can explain 67% of the variance in unseen data and has a average RMSE score of 1.94."
   ]
  }
 ],
 "metadata": {
  "kernelspec": {
   "display_name": "Python 3 (ipykernel)",
   "language": "python",
   "name": "python3"
  },
  "language_info": {
   "codemirror_mode": {
    "name": "ipython",
    "version": 3
   },
   "file_extension": ".py",
   "mimetype": "text/x-python",
   "name": "python",
   "nbconvert_exporter": "python",
   "pygments_lexer": "ipython3",
   "version": "3.10.14"
  }
 },
 "nbformat": 4,
 "nbformat_minor": 5
}
