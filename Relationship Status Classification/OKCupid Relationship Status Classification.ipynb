{
 "cells": [
  {
   "cell_type": "markdown",
   "id": "231a4cfa-c6a6-4742-8291-f158ccfe4e9d",
   "metadata": {},
   "source": [
    "# Classification of Relationship Status\n",
    "\n",
    "This project focuses on an OKCupid dataset that contains information on users, such as their education, location and height. The purpose of this project is to build, train, and develop a machine learning model that can accurately predict the relationship status of the users based on their personal information. \n",
    "\n",
    "The dataset is provided by Codecademy as the portfolio project for the Data Scientist: Machine Learning Career Path. We will be using Python and various tools such as machine learning algorithms, preprocessing and pipelines to create our model. "
   ]
  },
  {
   "cell_type": "markdown",
   "id": "f0775e0a-5921-4a28-9cb9-cf0501e2e4eb",
   "metadata": {},
   "source": [
    "## Import Libraries "
   ]
  },
  {
   "cell_type": "code",
   "execution_count": 1,
   "id": "9f57cee0-f0bc-4a28-a15c-50a12b704286",
   "metadata": {},
   "outputs": [],
   "source": [
    "import warnings\n",
    "warnings.simplefilter(action='ignore', category=FutureWarning)\n",
    "import numpy as np\n",
    "from matplotlib import pyplot as plt\n",
    "import seaborn as sns\n",
    "import pandas as pd\n",
    "from sklearn.model_selection import train_test_split, cross_val_score\n",
    "from sklearn.pipeline import Pipeline\n",
    "from sklearn.preprocessing import StandardScaler, OneHotEncoder\n",
    "from sklearn.metrics import accuracy_score, recall_score\n",
    "from sklearn.compose import ColumnTransformer\n",
    "from sklearn.ensemble import RandomForestClassifier\n",
    "from sklearn.model_selection import GridSearchCV"
   ]
  },
  {
   "cell_type": "code",
   "execution_count": 2,
   "id": "a3322f67-2dca-43b8-b717-7b181cda6736",
   "metadata": {},
   "outputs": [
    {
     "name": "stdout",
     "output_type": "stream",
     "text": [
      "<class 'pandas.core.frame.DataFrame'>\n",
      "RangeIndex: 59946 entries, 0 to 59945\n",
      "Data columns (total 31 columns):\n",
      " #   Column       Non-Null Count  Dtype  \n",
      "---  ------       --------------  -----  \n",
      " 0   age          59946 non-null  int64  \n",
      " 1   body_type    54650 non-null  object \n",
      " 2   diet         35551 non-null  object \n",
      " 3   drinks       56961 non-null  object \n",
      " 4   drugs        45866 non-null  object \n",
      " 5   education    53318 non-null  object \n",
      " 6   essay0       54458 non-null  object \n",
      " 7   essay1       52374 non-null  object \n",
      " 8   essay2       50308 non-null  object \n",
      " 9   essay3       48470 non-null  object \n",
      " 10  essay4       49409 non-null  object \n",
      " 11  essay5       49096 non-null  object \n",
      " 12  essay6       46175 non-null  object \n",
      " 13  essay7       47495 non-null  object \n",
      " 14  essay8       40721 non-null  object \n",
      " 15  essay9       47343 non-null  object \n",
      " 16  ethnicity    54266 non-null  object \n",
      " 17  height       59943 non-null  float64\n",
      " 18  income       59946 non-null  int64  \n",
      " 19  job          51748 non-null  object \n",
      " 20  last_online  59946 non-null  object \n",
      " 21  location     59946 non-null  object \n",
      " 22  offspring    24385 non-null  object \n",
      " 23  orientation  59946 non-null  object \n",
      " 24  pets         40025 non-null  object \n",
      " 25  religion     39720 non-null  object \n",
      " 26  sex          59946 non-null  object \n",
      " 27  sign         48890 non-null  object \n",
      " 28  smokes       54434 non-null  object \n",
      " 29  speaks       59896 non-null  object \n",
      " 30  status       59946 non-null  object \n",
      "dtypes: float64(1), int64(2), object(28)\n",
      "memory usage: 14.2+ MB\n"
     ]
    },
    {
     "data": {
      "text/html": [
       "<div>\n",
       "<style scoped>\n",
       "    .dataframe tbody tr th:only-of-type {\n",
       "        vertical-align: middle;\n",
       "    }\n",
       "\n",
       "    .dataframe tbody tr th {\n",
       "        vertical-align: top;\n",
       "    }\n",
       "\n",
       "    .dataframe thead th {\n",
       "        text-align: right;\n",
       "    }\n",
       "</style>\n",
       "<table border=\"1\" class=\"dataframe\">\n",
       "  <thead>\n",
       "    <tr style=\"text-align: right;\">\n",
       "      <th></th>\n",
       "      <th>age</th>\n",
       "      <th>body_type</th>\n",
       "      <th>diet</th>\n",
       "      <th>drinks</th>\n",
       "      <th>drugs</th>\n",
       "      <th>education</th>\n",
       "      <th>essay0</th>\n",
       "      <th>essay1</th>\n",
       "      <th>essay2</th>\n",
       "      <th>essay3</th>\n",
       "      <th>...</th>\n",
       "      <th>location</th>\n",
       "      <th>offspring</th>\n",
       "      <th>orientation</th>\n",
       "      <th>pets</th>\n",
       "      <th>religion</th>\n",
       "      <th>sex</th>\n",
       "      <th>sign</th>\n",
       "      <th>smokes</th>\n",
       "      <th>speaks</th>\n",
       "      <th>status</th>\n",
       "    </tr>\n",
       "  </thead>\n",
       "  <tbody>\n",
       "    <tr>\n",
       "      <th>0</th>\n",
       "      <td>22</td>\n",
       "      <td>a little extra</td>\n",
       "      <td>strictly anything</td>\n",
       "      <td>socially</td>\n",
       "      <td>never</td>\n",
       "      <td>working on college/university</td>\n",
       "      <td>about me:&lt;br /&gt;\\r\\n&lt;br /&gt;\\r\\ni would love to t...</td>\n",
       "      <td>currently working as an international agent fo...</td>\n",
       "      <td>making people laugh.&lt;br /&gt;\\r\\nranting about a ...</td>\n",
       "      <td>the way i look. i am a six foot half asian, ha...</td>\n",
       "      <td>...</td>\n",
       "      <td>south san francisco, california</td>\n",
       "      <td>doesn&amp;rsquo;t have kids, but might want them</td>\n",
       "      <td>straight</td>\n",
       "      <td>likes dogs and likes cats</td>\n",
       "      <td>agnosticism and very serious about it</td>\n",
       "      <td>m</td>\n",
       "      <td>gemini</td>\n",
       "      <td>sometimes</td>\n",
       "      <td>english</td>\n",
       "      <td>single</td>\n",
       "    </tr>\n",
       "    <tr>\n",
       "      <th>1</th>\n",
       "      <td>35</td>\n",
       "      <td>average</td>\n",
       "      <td>mostly other</td>\n",
       "      <td>often</td>\n",
       "      <td>sometimes</td>\n",
       "      <td>working on space camp</td>\n",
       "      <td>i am a chef: this is what that means.&lt;br /&gt;\\r\\...</td>\n",
       "      <td>dedicating everyday to being an unbelievable b...</td>\n",
       "      <td>being silly. having ridiculous amonts of fun w...</td>\n",
       "      <td>NaN</td>\n",
       "      <td>...</td>\n",
       "      <td>oakland, california</td>\n",
       "      <td>doesn&amp;rsquo;t have kids, but might want them</td>\n",
       "      <td>straight</td>\n",
       "      <td>likes dogs and likes cats</td>\n",
       "      <td>agnosticism but not too serious about it</td>\n",
       "      <td>m</td>\n",
       "      <td>cancer</td>\n",
       "      <td>no</td>\n",
       "      <td>english (fluently), spanish (poorly), french (...</td>\n",
       "      <td>single</td>\n",
       "    </tr>\n",
       "    <tr>\n",
       "      <th>2</th>\n",
       "      <td>38</td>\n",
       "      <td>thin</td>\n",
       "      <td>anything</td>\n",
       "      <td>socially</td>\n",
       "      <td>NaN</td>\n",
       "      <td>graduated from masters program</td>\n",
       "      <td>i'm not ashamed of much, but writing public te...</td>\n",
       "      <td>i make nerdy software for musicians, artists, ...</td>\n",
       "      <td>improvising in different contexts. alternating...</td>\n",
       "      <td>my large jaw and large glasses are the physica...</td>\n",
       "      <td>...</td>\n",
       "      <td>san francisco, california</td>\n",
       "      <td>NaN</td>\n",
       "      <td>straight</td>\n",
       "      <td>has cats</td>\n",
       "      <td>NaN</td>\n",
       "      <td>m</td>\n",
       "      <td>pisces but it doesn&amp;rsquo;t matter</td>\n",
       "      <td>no</td>\n",
       "      <td>english, french, c++</td>\n",
       "      <td>available</td>\n",
       "    </tr>\n",
       "    <tr>\n",
       "      <th>3</th>\n",
       "      <td>23</td>\n",
       "      <td>thin</td>\n",
       "      <td>vegetarian</td>\n",
       "      <td>socially</td>\n",
       "      <td>NaN</td>\n",
       "      <td>working on college/university</td>\n",
       "      <td>i work in a library and go to school. . .</td>\n",
       "      <td>reading things written by old dead people</td>\n",
       "      <td>playing synthesizers and organizing books acco...</td>\n",
       "      <td>socially awkward but i do my best</td>\n",
       "      <td>...</td>\n",
       "      <td>berkeley, california</td>\n",
       "      <td>doesn&amp;rsquo;t want kids</td>\n",
       "      <td>straight</td>\n",
       "      <td>likes cats</td>\n",
       "      <td>NaN</td>\n",
       "      <td>m</td>\n",
       "      <td>pisces</td>\n",
       "      <td>no</td>\n",
       "      <td>english, german (poorly)</td>\n",
       "      <td>single</td>\n",
       "    </tr>\n",
       "    <tr>\n",
       "      <th>4</th>\n",
       "      <td>29</td>\n",
       "      <td>athletic</td>\n",
       "      <td>NaN</td>\n",
       "      <td>socially</td>\n",
       "      <td>never</td>\n",
       "      <td>graduated from college/university</td>\n",
       "      <td>hey how's it going? currently vague on the pro...</td>\n",
       "      <td>work work work work + play</td>\n",
       "      <td>creating imagery to look at:&lt;br /&gt;\\r\\nhttp://b...</td>\n",
       "      <td>i smile a lot and my inquisitive nature</td>\n",
       "      <td>...</td>\n",
       "      <td>san francisco, california</td>\n",
       "      <td>NaN</td>\n",
       "      <td>straight</td>\n",
       "      <td>likes dogs and likes cats</td>\n",
       "      <td>NaN</td>\n",
       "      <td>m</td>\n",
       "      <td>aquarius</td>\n",
       "      <td>no</td>\n",
       "      <td>english</td>\n",
       "      <td>single</td>\n",
       "    </tr>\n",
       "  </tbody>\n",
       "</table>\n",
       "<p>5 rows × 31 columns</p>\n",
       "</div>"
      ],
      "text/plain": [
       "   age       body_type               diet    drinks      drugs  \\\n",
       "0   22  a little extra  strictly anything  socially      never   \n",
       "1   35         average       mostly other     often  sometimes   \n",
       "2   38            thin           anything  socially        NaN   \n",
       "3   23            thin         vegetarian  socially        NaN   \n",
       "4   29        athletic                NaN  socially      never   \n",
       "\n",
       "                           education  \\\n",
       "0      working on college/university   \n",
       "1              working on space camp   \n",
       "2     graduated from masters program   \n",
       "3      working on college/university   \n",
       "4  graduated from college/university   \n",
       "\n",
       "                                              essay0  \\\n",
       "0  about me:<br />\\r\\n<br />\\r\\ni would love to t...   \n",
       "1  i am a chef: this is what that means.<br />\\r\\...   \n",
       "2  i'm not ashamed of much, but writing public te...   \n",
       "3          i work in a library and go to school. . .   \n",
       "4  hey how's it going? currently vague on the pro...   \n",
       "\n",
       "                                              essay1  \\\n",
       "0  currently working as an international agent fo...   \n",
       "1  dedicating everyday to being an unbelievable b...   \n",
       "2  i make nerdy software for musicians, artists, ...   \n",
       "3          reading things written by old dead people   \n",
       "4                         work work work work + play   \n",
       "\n",
       "                                              essay2  \\\n",
       "0  making people laugh.<br />\\r\\nranting about a ...   \n",
       "1  being silly. having ridiculous amonts of fun w...   \n",
       "2  improvising in different contexts. alternating...   \n",
       "3  playing synthesizers and organizing books acco...   \n",
       "4  creating imagery to look at:<br />\\r\\nhttp://b...   \n",
       "\n",
       "                                              essay3  ...  \\\n",
       "0  the way i look. i am a six foot half asian, ha...  ...   \n",
       "1                                                NaN  ...   \n",
       "2  my large jaw and large glasses are the physica...  ...   \n",
       "3                  socially awkward but i do my best  ...   \n",
       "4            i smile a lot and my inquisitive nature  ...   \n",
       "\n",
       "                          location  \\\n",
       "0  south san francisco, california   \n",
       "1              oakland, california   \n",
       "2        san francisco, california   \n",
       "3             berkeley, california   \n",
       "4        san francisco, california   \n",
       "\n",
       "                                      offspring orientation  \\\n",
       "0  doesn&rsquo;t have kids, but might want them    straight   \n",
       "1  doesn&rsquo;t have kids, but might want them    straight   \n",
       "2                                           NaN    straight   \n",
       "3                       doesn&rsquo;t want kids    straight   \n",
       "4                                           NaN    straight   \n",
       "\n",
       "                        pets                                  religion sex  \\\n",
       "0  likes dogs and likes cats     agnosticism and very serious about it   m   \n",
       "1  likes dogs and likes cats  agnosticism but not too serious about it   m   \n",
       "2                   has cats                                       NaN   m   \n",
       "3                 likes cats                                       NaN   m   \n",
       "4  likes dogs and likes cats                                       NaN   m   \n",
       "\n",
       "                                 sign     smokes  \\\n",
       "0                              gemini  sometimes   \n",
       "1                              cancer         no   \n",
       "2  pisces but it doesn&rsquo;t matter         no   \n",
       "3                              pisces         no   \n",
       "4                            aquarius         no   \n",
       "\n",
       "                                              speaks     status  \n",
       "0                                            english     single  \n",
       "1  english (fluently), spanish (poorly), french (...     single  \n",
       "2                               english, french, c++  available  \n",
       "3                           english, german (poorly)     single  \n",
       "4                                            english     single  \n",
       "\n",
       "[5 rows x 31 columns]"
      ]
     },
     "execution_count": 2,
     "metadata": {},
     "output_type": "execute_result"
    }
   ],
   "source": [
    "df = pd.read_csv('profiles.csv')\n",
    "df.info()\n",
    "df.head()"
   ]
  },
  {
   "cell_type": "markdown",
   "id": "9a65cf75-66d4-4a4e-bfab-0866b40ed0e3",
   "metadata": {},
   "source": [
    "This dataset contains 59946 rows and 31 columns containing information about each individual on the OKCupid website. All of the columns except age, income, last online, location, orientation, sex and status have null values. \n",
    "\n",
    "Here's a quick summary of the columns:\n",
    "\n",
    "- **age**: Age of individual\n",
    "- **body_type**: General shape or figure of individual\n",
    "- **diet**: Diet of individual\n",
    "- **drinks**: Whether the individual consumes alcohol and/or how often\n",
    "- **drugs**: Whether the individual partakes in recreational drugs\n",
    "- **education**: Highest level of education\n",
    "- **essays**: Descriptions of individual\n",
    "- **ethnicity**: Ethnicity of individual\n",
    "- **height**: Height of individual (inches)\n",
    "- **income**: Annual income of individual ($US dollars)\n",
    "- **job**: Current job or industry of work       \n",
    "- **last_online**: When the individual was last seen online on OKCupid\n",
    "- **location**: Current location of residence     \n",
    "- **offspring**: Whether the individual has children and preferences on having offspring   \n",
    "- **orientation**: Sexual orientaiton of individual\n",
    "- **pets**: Pet preferences        \n",
    "- **religion**: Religion of individual    \n",
    "- **sex**: Gender of individual\n",
    "- **sign**: Astrological sign of individual       \n",
    "- **smokes**: Whether the individual smokes       \n",
    "- **speaks**: Languages spoken by individual     \n",
    "- **status**: Current relationship status"
   ]
  },
  {
   "cell_type": "markdown",
   "id": "db8cd644-5b75-4afb-bcb8-cec1295501a6",
   "metadata": {},
   "source": [
    "## Data Cleaning and Preparation"
   ]
  },
  {
   "cell_type": "markdown",
   "id": "36f778a1-0e52-474e-8af7-c6689edebe51",
   "metadata": {},
   "source": [
    "We will first remove the essay columns since it is difficult to extract valueable information from these columns. In addition, we will remove the last online column. "
   ]
  },
  {
   "cell_type": "code",
   "execution_count": 3,
   "id": "5fc06f8b-047e-49ef-8096-313badea4ac4",
   "metadata": {},
   "outputs": [],
   "source": [
    "# Removing essay columns\n",
    "df = df.drop(columns = ['essay0', 'essay1', 'essay2', 'essay3', 'essay4', 'essay5', 'essay6', 'essay7', 'essay8', 'essay9', 'last_online'])"
   ]
  },
  {
   "cell_type": "markdown",
   "id": "527db54b-5516-406d-91ca-d894cefafb6f",
   "metadata": {},
   "source": [
    "### Dealing with Null Values"
   ]
  },
  {
   "cell_type": "markdown",
   "id": "87a9e9eb-e7ec-4eb0-ae21-d55f9b31081f",
   "metadata": {},
   "source": [
    "We will use forward filling to replace null values with the previous non-null value. "
   ]
  },
  {
   "cell_type": "code",
   "execution_count": 4,
   "id": "357adc05-f026-4eed-bacc-45f7e24ae86e",
   "metadata": {},
   "outputs": [
    {
     "data": {
      "text/plain": [
       "column name\n",
       "age            False\n",
       "body_type       True\n",
       "diet            True\n",
       "drinks          True\n",
       "drugs           True\n",
       "education       True\n",
       "ethnicity       True\n",
       "height          True\n",
       "income         False\n",
       "job             True\n",
       "location       False\n",
       "offspring       True\n",
       "orientation    False\n",
       "pets            True\n",
       "religion        True\n",
       "sex            False\n",
       "sign            True\n",
       "smokes          True\n",
       "speaks          True\n",
       "status         False\n",
       "dtype: bool"
      ]
     },
     "execution_count": 4,
     "metadata": {},
     "output_type": "execute_result"
    }
   ],
   "source": [
    "# Finding columns that contain null values\n",
    "null_columns = df.isnull().any(axis = 0).rename_axis('column name')\n",
    "null_columns"
   ]
  },
  {
   "cell_type": "code",
   "execution_count": 5,
   "id": "b5d0e168-eaee-40d9-ba48-36a2b28fcc5c",
   "metadata": {},
   "outputs": [],
   "source": [
    "# Forward filling\n",
    "ffill_columns = np.array(df.drop(columns = ['age', 'income', 'location', 'orientation', 'sex', 'status']).columns)\n",
    "\n",
    "for i in ffill_columns:\n",
    "    df[i].fillna(method = 'ffill', inplace = True)"
   ]
  },
  {
   "cell_type": "markdown",
   "id": "f11fb7c0-c54c-44d5-98aa-6cec6611cde8",
   "metadata": {},
   "source": [
    "For the offspring and sign columns, there are values with typos in them so we will correct them."
   ]
  },
  {
   "cell_type": "code",
   "execution_count": 6,
   "id": "45f87863-54af-4a64-a603-04fbd42dc4aa",
   "metadata": {},
   "outputs": [],
   "source": [
    "# Replacing sub-substrings\n",
    "df.offspring = df.offspring.str.replace('doesn&rsquo;t', 'does not', regex = False)\n",
    "df.sign = df.sign.str.replace('doesn&rsquo;t', 'does not', regex = False)\n",
    "df.sign = df.sign.str.replace('it&rsquo;s', 'it is', regex = False)"
   ]
  },
  {
   "cell_type": "markdown",
   "id": "e2cd0da4-7402-41e2-8d92-b1fee71f01e6",
   "metadata": {},
   "source": [
    "## Feature Engineering"
   ]
  },
  {
   "cell_type": "markdown",
   "id": "77e499a0-50fb-4da6-a387-1e46b38164be",
   "metadata": {},
   "source": [
    "### Frequency Encoding"
   ]
  },
  {
   "cell_type": "markdown",
   "id": "e32607d3-630c-4ba8-9d37-8551cb1c5aff",
   "metadata": {},
   "source": [
    "Now, we will perform feature engineering on several columns. Firstly, we will use frequency encoding on columns that have numerous meaningful values. This preserves valueable info and reduces dimensionality during model fitting. "
   ]
  },
  {
   "cell_type": "markdown",
   "id": "63c05815-36c7-491c-a999-5cf11e3501a5",
   "metadata": {},
   "source": [
    "#### Body Type"
   ]
  },
  {
   "cell_type": "code",
   "execution_count": 7,
   "id": "665c37b2-3045-4223-8d33-fed037e5f83f",
   "metadata": {},
   "outputs": [
    {
     "data": {
      "text/plain": [
       "body_type\n",
       "average           16085\n",
       "fit               13911\n",
       "athletic          12952\n",
       "thin               5161\n",
       "curvy              4322\n",
       "a little extra     2882\n",
       "skinny             1948\n",
       "full figured       1106\n",
       "overweight          499\n",
       "jacked              473\n",
       "used up             392\n",
       "rather not say      215\n",
       "Name: count, dtype: int64"
      ]
     },
     "execution_count": 7,
     "metadata": {},
     "output_type": "execute_result"
    }
   ],
   "source": [
    "# Initial body type value count\n",
    "df.body_type.value_counts()"
   ]
  },
  {
   "cell_type": "code",
   "execution_count": 8,
   "id": "49130617-62d0-4dd1-8d07-12244a91149a",
   "metadata": {},
   "outputs": [],
   "source": [
    "# Frequency encoding \n",
    "frequency_map_body = df['body_type'].value_counts().to_dict()\n",
    "df['encoded_body_type'] = df['body_type'].map(frequency_map_body)"
   ]
  },
  {
   "cell_type": "markdown",
   "id": "7552ed8c-7311-45cb-8d78-b4748d5eec26",
   "metadata": {},
   "source": [
    "#### Ethnicity"
   ]
  },
  {
   "cell_type": "code",
   "execution_count": 9,
   "id": "bd23b461-1a61-454a-b4ad-a33ebc1768be",
   "metadata": {},
   "outputs": [
    {
     "data": {
      "text/plain": [
       "ethnicity\n",
       "white               36282\n",
       "asian                6763\n",
       "hispanic / latin     3103\n",
       "black                2226\n",
       "other                1886\n",
       "Name: count, dtype: int64"
      ]
     },
     "execution_count": 9,
     "metadata": {},
     "output_type": "execute_result"
    }
   ],
   "source": [
    "# Initial ethnicity value count\n",
    "df.ethnicity.value_counts().head()"
   ]
  },
  {
   "cell_type": "code",
   "execution_count": 10,
   "id": "fc845afc-e3be-4fe9-973a-11871d5eec01",
   "metadata": {},
   "outputs": [],
   "source": [
    "# Frequency encoding\n",
    "frequency_map_ethnicity = df['ethnicity'].value_counts().to_dict()\n",
    "df['encoded_ethnicity'] = df['ethnicity'].map(frequency_map_ethnicity)"
   ]
  },
  {
   "cell_type": "markdown",
   "id": "2aeeff22-1862-4dcc-8981-82ebc1c73215",
   "metadata": {},
   "source": [
    "#### Offspring"
   ]
  },
  {
   "cell_type": "code",
   "execution_count": 11,
   "id": "614003ae-8183-4129-b753-7a73fca324d3",
   "metadata": {},
   "outputs": [
    {
     "data": {
      "text/html": [
       "<div>\n",
       "<style scoped>\n",
       "    .dataframe tbody tr th:only-of-type {\n",
       "        vertical-align: middle;\n",
       "    }\n",
       "\n",
       "    .dataframe tbody tr th {\n",
       "        vertical-align: top;\n",
       "    }\n",
       "\n",
       "    .dataframe thead th {\n",
       "        text-align: right;\n",
       "    }\n",
       "</style>\n",
       "<table border=\"1\" class=\"dataframe\">\n",
       "  <thead>\n",
       "    <tr style=\"text-align: right;\">\n",
       "      <th></th>\n",
       "      <th>offspring</th>\n",
       "      <th>count</th>\n",
       "    </tr>\n",
       "  </thead>\n",
       "  <tbody>\n",
       "    <tr>\n",
       "      <th>0</th>\n",
       "      <td>does not have kids</td>\n",
       "      <td>18403</td>\n",
       "    </tr>\n",
       "    <tr>\n",
       "      <th>1</th>\n",
       "      <td>does not have kids, but might want them</td>\n",
       "      <td>9479</td>\n",
       "    </tr>\n",
       "    <tr>\n",
       "      <th>2</th>\n",
       "      <td>does not have kids, but wants them</td>\n",
       "      <td>9048</td>\n",
       "    </tr>\n",
       "    <tr>\n",
       "      <th>3</th>\n",
       "      <td>does not want kids</td>\n",
       "      <td>7189</td>\n",
       "    </tr>\n",
       "    <tr>\n",
       "      <th>4</th>\n",
       "      <td>has kids</td>\n",
       "      <td>4590</td>\n",
       "    </tr>\n",
       "    <tr>\n",
       "      <th>5</th>\n",
       "      <td>has a kid</td>\n",
       "      <td>4573</td>\n",
       "    </tr>\n",
       "    <tr>\n",
       "      <th>6</th>\n",
       "      <td>does not have kids, and does not want any</td>\n",
       "      <td>2737</td>\n",
       "    </tr>\n",
       "    <tr>\n",
       "      <th>7</th>\n",
       "      <td>has kids, but does not want more</td>\n",
       "      <td>1133</td>\n",
       "    </tr>\n",
       "    <tr>\n",
       "      <th>8</th>\n",
       "      <td>has a kid, but does not want more</td>\n",
       "      <td>657</td>\n",
       "    </tr>\n",
       "    <tr>\n",
       "      <th>9</th>\n",
       "      <td>has a kid, and might want more</td>\n",
       "      <td>582</td>\n",
       "    </tr>\n",
       "    <tr>\n",
       "      <th>10</th>\n",
       "      <td>wants kids</td>\n",
       "      <td>532</td>\n",
       "    </tr>\n",
       "    <tr>\n",
       "      <th>11</th>\n",
       "      <td>might want kids</td>\n",
       "      <td>502</td>\n",
       "    </tr>\n",
       "    <tr>\n",
       "      <th>12</th>\n",
       "      <td>has kids, and might want more</td>\n",
       "      <td>274</td>\n",
       "    </tr>\n",
       "    <tr>\n",
       "      <th>13</th>\n",
       "      <td>has a kid, and wants more</td>\n",
       "      <td>167</td>\n",
       "    </tr>\n",
       "    <tr>\n",
       "      <th>14</th>\n",
       "      <td>has kids, and wants more</td>\n",
       "      <td>80</td>\n",
       "    </tr>\n",
       "  </tbody>\n",
       "</table>\n",
       "</div>"
      ],
      "text/plain": [
       "                                    offspring  count\n",
       "0                          does not have kids  18403\n",
       "1     does not have kids, but might want them   9479\n",
       "2          does not have kids, but wants them   9048\n",
       "3                          does not want kids   7189\n",
       "4                                    has kids   4590\n",
       "5                                   has a kid   4573\n",
       "6   does not have kids, and does not want any   2737\n",
       "7            has kids, but does not want more   1133\n",
       "8           has a kid, but does not want more    657\n",
       "9              has a kid, and might want more    582\n",
       "10                                 wants kids    532\n",
       "11                            might want kids    502\n",
       "12              has kids, and might want more    274\n",
       "13                  has a kid, and wants more    167\n",
       "14                   has kids, and wants more     80"
      ]
     },
     "execution_count": 11,
     "metadata": {},
     "output_type": "execute_result"
    }
   ],
   "source": [
    "# Initial offspring value count\n",
    "df.offspring.value_counts().reset_index()"
   ]
  },
  {
   "cell_type": "code",
   "execution_count": 12,
   "id": "461d83fe-6116-4776-b0d5-9cebb43f6b41",
   "metadata": {},
   "outputs": [],
   "source": [
    "# Frequency encoding\n",
    "frequency_map_offspring = df['offspring'].value_counts().to_dict()\n",
    "df['encoded_offspring'] = df['offspring'].map(frequency_map_offspring)"
   ]
  },
  {
   "cell_type": "markdown",
   "id": "09b25726-ae9b-4166-85b0-9a4796c039ae",
   "metadata": {},
   "source": [
    "### Location"
   ]
  },
  {
   "cell_type": "markdown",
   "id": "8601fcc5-9cac-4c24-8da8-725bbdd4787a",
   "metadata": {},
   "source": [
    "For location, we will narrow our location to individuals in the California area first before performing frequency encoding. "
   ]
  },
  {
   "cell_type": "code",
   "execution_count": 13,
   "id": "6083c436-2b24-4f88-9324-9a0b67b05056",
   "metadata": {},
   "outputs": [
    {
     "data": {
      "text/html": [
       "<div>\n",
       "<style scoped>\n",
       "    .dataframe tbody tr th:only-of-type {\n",
       "        vertical-align: middle;\n",
       "    }\n",
       "\n",
       "    .dataframe tbody tr th {\n",
       "        vertical-align: top;\n",
       "    }\n",
       "\n",
       "    .dataframe thead th {\n",
       "        text-align: right;\n",
       "    }\n",
       "</style>\n",
       "<table border=\"1\" class=\"dataframe\">\n",
       "  <thead>\n",
       "    <tr style=\"text-align: right;\">\n",
       "      <th></th>\n",
       "      <th>location</th>\n",
       "      <th>count</th>\n",
       "    </tr>\n",
       "  </thead>\n",
       "  <tbody>\n",
       "    <tr>\n",
       "      <th>0</th>\n",
       "      <td>san francisco, california</td>\n",
       "      <td>31064</td>\n",
       "    </tr>\n",
       "    <tr>\n",
       "      <th>1</th>\n",
       "      <td>oakland, california</td>\n",
       "      <td>7214</td>\n",
       "    </tr>\n",
       "    <tr>\n",
       "      <th>2</th>\n",
       "      <td>berkeley, california</td>\n",
       "      <td>4212</td>\n",
       "    </tr>\n",
       "    <tr>\n",
       "      <th>3</th>\n",
       "      <td>san mateo, california</td>\n",
       "      <td>1331</td>\n",
       "    </tr>\n",
       "    <tr>\n",
       "      <th>4</th>\n",
       "      <td>palo alto, california</td>\n",
       "      <td>1064</td>\n",
       "    </tr>\n",
       "  </tbody>\n",
       "</table>\n",
       "</div>"
      ],
      "text/plain": [
       "                    location  count\n",
       "0  san francisco, california  31064\n",
       "1        oakland, california   7214\n",
       "2       berkeley, california   4212\n",
       "3      san mateo, california   1331\n",
       "4      palo alto, california   1064"
      ]
     },
     "execution_count": 13,
     "metadata": {},
     "output_type": "execute_result"
    }
   ],
   "source": [
    "# Initial location value count\n",
    "df.location.value_counts().reset_index().head()"
   ]
  },
  {
   "cell_type": "code",
   "execution_count": 14,
   "id": "ee77a1f9-bc5a-4e8d-a7fa-6ce94b63fa9d",
   "metadata": {},
   "outputs": [],
   "source": [
    "# Filtering location to california only\n",
    "df = df[df.location.str.contains('california')]\n",
    "\n",
    "# Removing unnecessary string\n",
    "df.location = df.location.str.replace(', california', '', regex = False)\n",
    "\n",
    "# Frequency encoding\n",
    "frequency_map_location = df.location.value_counts().to_dict()\n",
    "df['encoded_location'] = df.location.map(frequency_map_location)"
   ]
  },
  {
   "cell_type": "markdown",
   "id": "532966ce-6fde-4806-966a-d82e6c84a3de",
   "metadata": {},
   "source": [
    "### Reducing categories"
   ]
  },
  {
   "cell_type": "markdown",
   "id": "a745c713-00c6-465a-9cc9-6f0cd99306d9",
   "metadata": {},
   "source": [
    "Next, we will reduce the number of categories in certain columns into only a few meaningful groups. This simplifies the model by reducing complexity and improves interpretability when model fitting. "
   ]
  },
  {
   "cell_type": "markdown",
   "id": "e8dae031-21fc-4371-9710-23312b77319e",
   "metadata": {},
   "source": [
    "### Education"
   ]
  },
  {
   "cell_type": "code",
   "execution_count": 15,
   "id": "74ee686f-9291-4f22-afeb-6e23dc14b6e7",
   "metadata": {},
   "outputs": [
    {
     "data": {
      "text/html": [
       "<div>\n",
       "<style scoped>\n",
       "    .dataframe tbody tr th:only-of-type {\n",
       "        vertical-align: middle;\n",
       "    }\n",
       "\n",
       "    .dataframe tbody tr th {\n",
       "        vertical-align: top;\n",
       "    }\n",
       "\n",
       "    .dataframe thead th {\n",
       "        text-align: right;\n",
       "    }\n",
       "</style>\n",
       "<table border=\"1\" class=\"dataframe\">\n",
       "  <thead>\n",
       "    <tr style=\"text-align: right;\">\n",
       "      <th></th>\n",
       "      <th>education</th>\n",
       "      <th>count</th>\n",
       "    </tr>\n",
       "  </thead>\n",
       "  <tbody>\n",
       "    <tr>\n",
       "      <th>0</th>\n",
       "      <td>graduated from college/university</td>\n",
       "      <td>26915</td>\n",
       "    </tr>\n",
       "    <tr>\n",
       "      <th>1</th>\n",
       "      <td>graduated from masters program</td>\n",
       "      <td>10002</td>\n",
       "    </tr>\n",
       "    <tr>\n",
       "      <th>2</th>\n",
       "      <td>working on college/university</td>\n",
       "      <td>6456</td>\n",
       "    </tr>\n",
       "    <tr>\n",
       "      <th>3</th>\n",
       "      <td>working on masters program</td>\n",
       "      <td>1859</td>\n",
       "    </tr>\n",
       "    <tr>\n",
       "      <th>4</th>\n",
       "      <td>graduated from two-year college</td>\n",
       "      <td>1721</td>\n",
       "    </tr>\n",
       "  </tbody>\n",
       "</table>\n",
       "</div>"
      ],
      "text/plain": [
       "                           education  count\n",
       "0  graduated from college/university  26915\n",
       "1     graduated from masters program  10002\n",
       "2      working on college/university   6456\n",
       "3         working on masters program   1859\n",
       "4    graduated from two-year college   1721"
      ]
     },
     "execution_count": 15,
     "metadata": {},
     "output_type": "execute_result"
    }
   ],
   "source": [
    "# Initial education value count\n",
    "df.education.value_counts().reset_index().head()"
   ]
  },
  {
   "cell_type": "code",
   "execution_count": 16,
   "id": "40d01632-1245-4c7c-a03c-3820e369b6d3",
   "metadata": {},
   "outputs": [
    {
     "data": {
      "text/plain": [
       "education\n",
       "college/university    35391\n",
       "masters program       12164\n",
       "two-year college       3389\n",
       "ph.d program           2708\n",
       "high school            1937\n",
       "space camp             1918\n",
       "law school             1587\n",
       "med school              761\n",
       "Name: count, dtype: int64"
      ]
     },
     "execution_count": 16,
     "metadata": {},
     "output_type": "execute_result"
    }
   ],
   "source": [
    "# Removing unnecessary substrings\n",
    "df.education = df.education.str.replace('graduated from ', '', regex = False)\n",
    "df.education = df.education.str.replace('working on ', '', regex = False)\n",
    "df.education = df.education.str.replace('dropped out of ', '', regex = False)\n",
    "df.education.value_counts()"
   ]
  },
  {
   "cell_type": "markdown",
   "id": "72bfb3bc-8d2b-4d32-b3ca-4cecad77c74f",
   "metadata": {},
   "source": [
    "### Diet"
   ]
  },
  {
   "cell_type": "code",
   "execution_count": 17,
   "id": "a6e3bf22-337d-4eda-a421-79c4bb87740b",
   "metadata": {},
   "outputs": [
    {
     "data": {
      "text/html": [
       "<div>\n",
       "<style scoped>\n",
       "    .dataframe tbody tr th:only-of-type {\n",
       "        vertical-align: middle;\n",
       "    }\n",
       "\n",
       "    .dataframe tbody tr th {\n",
       "        vertical-align: top;\n",
       "    }\n",
       "\n",
       "    .dataframe thead th {\n",
       "        text-align: right;\n",
       "    }\n",
       "</style>\n",
       "<table border=\"1\" class=\"dataframe\">\n",
       "  <thead>\n",
       "    <tr style=\"text-align: right;\">\n",
       "      <th></th>\n",
       "      <th>diet</th>\n",
       "      <th>count</th>\n",
       "    </tr>\n",
       "  </thead>\n",
       "  <tbody>\n",
       "    <tr>\n",
       "      <th>0</th>\n",
       "      <td>mostly anything</td>\n",
       "      <td>27704</td>\n",
       "    </tr>\n",
       "    <tr>\n",
       "      <th>1</th>\n",
       "      <td>anything</td>\n",
       "      <td>10523</td>\n",
       "    </tr>\n",
       "    <tr>\n",
       "      <th>2</th>\n",
       "      <td>strictly anything</td>\n",
       "      <td>8690</td>\n",
       "    </tr>\n",
       "    <tr>\n",
       "      <th>3</th>\n",
       "      <td>mostly vegetarian</td>\n",
       "      <td>5736</td>\n",
       "    </tr>\n",
       "    <tr>\n",
       "      <th>4</th>\n",
       "      <td>mostly other</td>\n",
       "      <td>1685</td>\n",
       "    </tr>\n",
       "    <tr>\n",
       "      <th>5</th>\n",
       "      <td>strictly vegetarian</td>\n",
       "      <td>1507</td>\n",
       "    </tr>\n",
       "    <tr>\n",
       "      <th>6</th>\n",
       "      <td>vegetarian</td>\n",
       "      <td>1098</td>\n",
       "    </tr>\n",
       "    <tr>\n",
       "      <th>7</th>\n",
       "      <td>strictly other</td>\n",
       "      <td>790</td>\n",
       "    </tr>\n",
       "    <tr>\n",
       "      <th>8</th>\n",
       "      <td>other</td>\n",
       "      <td>613</td>\n",
       "    </tr>\n",
       "    <tr>\n",
       "      <th>9</th>\n",
       "      <td>mostly vegan</td>\n",
       "      <td>561</td>\n",
       "    </tr>\n",
       "    <tr>\n",
       "      <th>10</th>\n",
       "      <td>strictly vegan</td>\n",
       "      <td>387</td>\n",
       "    </tr>\n",
       "    <tr>\n",
       "      <th>11</th>\n",
       "      <td>vegan</td>\n",
       "      <td>241</td>\n",
       "    </tr>\n",
       "    <tr>\n",
       "      <th>12</th>\n",
       "      <td>mostly kosher</td>\n",
       "      <td>144</td>\n",
       "    </tr>\n",
       "    <tr>\n",
       "      <th>13</th>\n",
       "      <td>mostly halal</td>\n",
       "      <td>87</td>\n",
       "    </tr>\n",
       "    <tr>\n",
       "      <th>14</th>\n",
       "      <td>strictly kosher</td>\n",
       "      <td>26</td>\n",
       "    </tr>\n",
       "    <tr>\n",
       "      <th>15</th>\n",
       "      <td>strictly halal</td>\n",
       "      <td>24</td>\n",
       "    </tr>\n",
       "    <tr>\n",
       "      <th>16</th>\n",
       "      <td>kosher</td>\n",
       "      <td>20</td>\n",
       "    </tr>\n",
       "    <tr>\n",
       "      <th>17</th>\n",
       "      <td>halal</td>\n",
       "      <td>19</td>\n",
       "    </tr>\n",
       "  </tbody>\n",
       "</table>\n",
       "</div>"
      ],
      "text/plain": [
       "                   diet  count\n",
       "0       mostly anything  27704\n",
       "1              anything  10523\n",
       "2     strictly anything   8690\n",
       "3     mostly vegetarian   5736\n",
       "4          mostly other   1685\n",
       "5   strictly vegetarian   1507\n",
       "6            vegetarian   1098\n",
       "7        strictly other    790\n",
       "8                 other    613\n",
       "9          mostly vegan    561\n",
       "10       strictly vegan    387\n",
       "11                vegan    241\n",
       "12        mostly kosher    144\n",
       "13         mostly halal     87\n",
       "14      strictly kosher     26\n",
       "15       strictly halal     24\n",
       "16               kosher     20\n",
       "17                halal     19"
      ]
     },
     "execution_count": 17,
     "metadata": {},
     "output_type": "execute_result"
    }
   ],
   "source": [
    "# Initial diet value count\n",
    "df.diet.value_counts().reset_index()"
   ]
  },
  {
   "cell_type": "code",
   "execution_count": 18,
   "id": "a5736ba1-bf5e-4ee9-afc6-09fe1427c313",
   "metadata": {},
   "outputs": [
    {
     "data": {
      "text/plain": [
       "diet\n",
       "anything      46917\n",
       "vegetarian     8341\n",
       "other          3088\n",
       "vegan          1189\n",
       "kosher          190\n",
       "halal           130\n",
       "Name: count, dtype: int64"
      ]
     },
     "execution_count": 18,
     "metadata": {},
     "output_type": "execute_result"
    }
   ],
   "source": [
    "# Removing unnecessary substrings\n",
    "df.diet = df.diet.str.replace('mostly ', '', regex = False)\n",
    "df.diet = df.diet.str.replace('strictly ', '', regex = False)\n",
    "df.diet.value_counts()"
   ]
  },
  {
   "cell_type": "markdown",
   "id": "3e6d3d63-fcc9-4b94-8401-89670d07d47b",
   "metadata": {},
   "source": [
    "### Religion"
   ]
  },
  {
   "cell_type": "code",
   "execution_count": 19,
   "id": "c5a09b7c-0007-43e6-91ea-ce42eac93612",
   "metadata": {},
   "outputs": [
    {
     "data": {
      "text/html": [
       "<div>\n",
       "<style scoped>\n",
       "    .dataframe tbody tr th:only-of-type {\n",
       "        vertical-align: middle;\n",
       "    }\n",
       "\n",
       "    .dataframe tbody tr th {\n",
       "        vertical-align: top;\n",
       "    }\n",
       "\n",
       "    .dataframe thead th {\n",
       "        text-align: right;\n",
       "    }\n",
       "</style>\n",
       "<table border=\"1\" class=\"dataframe\">\n",
       "  <thead>\n",
       "    <tr style=\"text-align: right;\">\n",
       "      <th></th>\n",
       "      <th>religion</th>\n",
       "      <th>count</th>\n",
       "    </tr>\n",
       "  </thead>\n",
       "  <tbody>\n",
       "    <tr>\n",
       "      <th>0</th>\n",
       "      <td>agnosticism</td>\n",
       "      <td>4111</td>\n",
       "    </tr>\n",
       "    <tr>\n",
       "      <th>1</th>\n",
       "      <td>other</td>\n",
       "      <td>4040</td>\n",
       "    </tr>\n",
       "    <tr>\n",
       "      <th>2</th>\n",
       "      <td>agnosticism but not too serious about it</td>\n",
       "      <td>3901</td>\n",
       "    </tr>\n",
       "    <tr>\n",
       "      <th>3</th>\n",
       "      <td>agnosticism and laughing about it</td>\n",
       "      <td>3700</td>\n",
       "    </tr>\n",
       "    <tr>\n",
       "      <th>4</th>\n",
       "      <td>catholicism but not too serious about it</td>\n",
       "      <td>3528</td>\n",
       "    </tr>\n",
       "  </tbody>\n",
       "</table>\n",
       "</div>"
      ],
      "text/plain": [
       "                                   religion  count\n",
       "0                               agnosticism   4111\n",
       "1                                     other   4040\n",
       "2  agnosticism but not too serious about it   3901\n",
       "3         agnosticism and laughing about it   3700\n",
       "4  catholicism but not too serious about it   3528"
      ]
     },
     "execution_count": 19,
     "metadata": {},
     "output_type": "execute_result"
    }
   ],
   "source": [
    "# Initial religion value count\n",
    "df.religion.value_counts().reset_index().head()"
   ]
  },
  {
   "cell_type": "code",
   "execution_count": 20,
   "id": "7efe04fc-c560-4da8-ba81-ac77d28ca01b",
   "metadata": {},
   "outputs": [],
   "source": [
    "# Replacing unnecessary substrings\n",
    "df.religion = df.religion.str.replace('but not too serious about it', '', regex = False)\n",
    "df.religion = df.religion.str.replace('and laughing about it', '', regex = False)\n",
    "df.religion = df.religion.str.replace('and somewhat serious about it', '', regex = False)\n",
    "df.religion = df.religion.str.replace('and very serious about it', '', regex = False)\n",
    "\n",
    "# Removing white spaces \n",
    "df.religion = df.religion.str.strip()"
   ]
  },
  {
   "cell_type": "markdown",
   "id": "0b2e9fe1-6654-4102-8ca9-870d0c86149e",
   "metadata": {},
   "source": [
    "### Sign"
   ]
  },
  {
   "cell_type": "code",
   "execution_count": 21,
   "id": "e56017f7-c0ac-4864-9f95-43800244ae18",
   "metadata": {},
   "outputs": [
    {
     "data": {
      "text/html": [
       "<div>\n",
       "<style scoped>\n",
       "    .dataframe tbody tr th:only-of-type {\n",
       "        vertical-align: middle;\n",
       "    }\n",
       "\n",
       "    .dataframe tbody tr th {\n",
       "        vertical-align: top;\n",
       "    }\n",
       "\n",
       "    .dataframe thead th {\n",
       "        text-align: right;\n",
       "    }\n",
       "</style>\n",
       "<table border=\"1\" class=\"dataframe\">\n",
       "  <thead>\n",
       "    <tr style=\"text-align: right;\">\n",
       "      <th></th>\n",
       "      <th>sign</th>\n",
       "      <th>count</th>\n",
       "    </tr>\n",
       "  </thead>\n",
       "  <tbody>\n",
       "    <tr>\n",
       "      <th>0</th>\n",
       "      <td>scorpio and it is fun to think about</td>\n",
       "      <td>2171</td>\n",
       "    </tr>\n",
       "    <tr>\n",
       "      <th>1</th>\n",
       "      <td>gemini and it is fun to think about</td>\n",
       "      <td>2154</td>\n",
       "    </tr>\n",
       "    <tr>\n",
       "      <th>2</th>\n",
       "      <td>leo and it is fun to think about</td>\n",
       "      <td>2065</td>\n",
       "    </tr>\n",
       "    <tr>\n",
       "      <th>3</th>\n",
       "      <td>libra and it is fun to think about</td>\n",
       "      <td>2010</td>\n",
       "    </tr>\n",
       "    <tr>\n",
       "      <th>4</th>\n",
       "      <td>taurus and it is fun to think about</td>\n",
       "      <td>1980</td>\n",
       "    </tr>\n",
       "  </tbody>\n",
       "</table>\n",
       "</div>"
      ],
      "text/plain": [
       "                                   sign  count\n",
       "0  scorpio and it is fun to think about   2171\n",
       "1   gemini and it is fun to think about   2154\n",
       "2      leo and it is fun to think about   2065\n",
       "3    libra and it is fun to think about   2010\n",
       "4   taurus and it is fun to think about   1980"
      ]
     },
     "execution_count": 21,
     "metadata": {},
     "output_type": "execute_result"
    }
   ],
   "source": [
    "# Initial sign value count\n",
    "df.sign.value_counts().reset_index().head()"
   ]
  },
  {
   "cell_type": "code",
   "execution_count": 22,
   "id": "15cf9457-23e6-4550-bbcd-b1e06653122e",
   "metadata": {},
   "outputs": [],
   "source": [
    "# Replacing unnecessary substrings\n",
    "df.sign = df.sign.str.replace(' but it does not matter', '', regex = False)\n",
    "df.sign = df.sign.str.replace(' and it matters a lot', '', regex = False)\n",
    "df.sign = df.sign.str.replace(' and it is fun to think about', '', regex = False)"
   ]
  },
  {
   "cell_type": "markdown",
   "id": "cc369bd5-de6c-455a-856c-b2b78ed7cc1c",
   "metadata": {},
   "source": [
    "### Height"
   ]
  },
  {
   "cell_type": "code",
   "execution_count": 23,
   "id": "dbd82aa3-ee33-4828-867a-8106b72c281a",
   "metadata": {},
   "outputs": [
    {
     "data": {
      "image/png": "[encoded data removed]",
      "text/plain": [
       "<Figure size 640x480 with 1 Axes>"
      ]
     },
     "metadata": {},
     "output_type": "display_data"
    }
   ],
   "source": [
    "sns.histplot(data = df, x = 'height', hue = 'status', bins = 30)\n",
    "plt.show()"
   ]
  },
  {
   "cell_type": "code",
   "execution_count": 24,
   "id": "6a1d6c92-a18a-47fe-96fc-af4aee8b3782",
   "metadata": {},
   "outputs": [
    {
     "data": {
      "text/html": [
       "<div>\n",
       "<style scoped>\n",
       "    .dataframe tbody tr th:only-of-type {\n",
       "        vertical-align: middle;\n",
       "    }\n",
       "\n",
       "    .dataframe tbody tr th {\n",
       "        vertical-align: top;\n",
       "    }\n",
       "\n",
       "    .dataframe thead th {\n",
       "        text-align: right;\n",
       "    }\n",
       "</style>\n",
       "<table border=\"1\" class=\"dataframe\">\n",
       "  <thead>\n",
       "    <tr style=\"text-align: right;\">\n",
       "      <th></th>\n",
       "      <th>height</th>\n",
       "      <th>count</th>\n",
       "    </tr>\n",
       "  </thead>\n",
       "  <tbody>\n",
       "    <tr>\n",
       "      <th>41</th>\n",
       "      <td>1.0</td>\n",
       "      <td>1</td>\n",
       "    </tr>\n",
       "    <tr>\n",
       "      <th>55</th>\n",
       "      <td>3.0</td>\n",
       "      <td>1</td>\n",
       "    </tr>\n",
       "    <tr>\n",
       "      <th>59</th>\n",
       "      <td>4.0</td>\n",
       "      <td>1</td>\n",
       "    </tr>\n",
       "    <tr>\n",
       "      <th>52</th>\n",
       "      <td>6.0</td>\n",
       "      <td>1</td>\n",
       "    </tr>\n",
       "    <tr>\n",
       "      <th>56</th>\n",
       "      <td>8.0</td>\n",
       "      <td>1</td>\n",
       "    </tr>\n",
       "    <tr>\n",
       "      <th>46</th>\n",
       "      <td>9.0</td>\n",
       "      <td>1</td>\n",
       "    </tr>\n",
       "    <tr>\n",
       "      <th>44</th>\n",
       "      <td>26.0</td>\n",
       "      <td>1</td>\n",
       "    </tr>\n",
       "    <tr>\n",
       "      <th>28</th>\n",
       "      <td>36.0</td>\n",
       "      <td>11</td>\n",
       "    </tr>\n",
       "    <tr>\n",
       "      <th>38</th>\n",
       "      <td>37.0</td>\n",
       "      <td>2</td>\n",
       "    </tr>\n",
       "    <tr>\n",
       "      <th>53</th>\n",
       "      <td>42.0</td>\n",
       "      <td>1</td>\n",
       "    </tr>\n",
       "  </tbody>\n",
       "</table>\n",
       "</div>"
      ],
      "text/plain": [
       "    height  count\n",
       "41     1.0      1\n",
       "55     3.0      1\n",
       "59     4.0      1\n",
       "52     6.0      1\n",
       "56     8.0      1\n",
       "46     9.0      1\n",
       "44    26.0      1\n",
       "28    36.0     11\n",
       "38    37.0      2\n",
       "53    42.0      1"
      ]
     },
     "execution_count": 24,
     "metadata": {},
     "output_type": "execute_result"
    }
   ],
   "source": [
    "# Initial height value count\n",
    "heights = df.height.value_counts().reset_index().sort_values(by = 'height', ascending = True).head(10)\n",
    "heights"
   ]
  },
  {
   "cell_type": "markdown",
   "id": "152ce9c5-7b62-4d58-871f-c5e64b5a9b0e",
   "metadata": {},
   "source": [
    "There seems to be some outliers in the height column. We will replace these values with the mode value. "
   ]
  },
  {
   "cell_type": "code",
   "execution_count": 25,
   "id": "f4065766-2e0a-4aad-a66e-29cc7441f16b",
   "metadata": {},
   "outputs": [],
   "source": [
    "# Replacing outliers\n",
    "height_to_replace = [1,3,4,6,8,9,26]\n",
    "\n",
    "for height in height_to_replace:\n",
    "    df.height = df.height.replace({height:df.height.mode()[0]})"
   ]
  },
  {
   "cell_type": "markdown",
   "id": "76d6a396-473c-4448-ad7a-2b440177bddd",
   "metadata": {},
   "source": [
    "### Job & Income"
   ]
  },
  {
   "cell_type": "code",
   "execution_count": 26,
   "id": "848e9498-fa3d-4c59-bd92-2392e22fe708",
   "metadata": {},
   "outputs": [
    {
     "data": {
      "text/html": [
       "<div>\n",
       "<style scoped>\n",
       "    .dataframe tbody tr th:only-of-type {\n",
       "        vertical-align: middle;\n",
       "    }\n",
       "\n",
       "    .dataframe tbody tr th {\n",
       "        vertical-align: top;\n",
       "    }\n",
       "\n",
       "    .dataframe thead th {\n",
       "        text-align: right;\n",
       "    }\n",
       "</style>\n",
       "<table border=\"1\" class=\"dataframe\">\n",
       "  <thead>\n",
       "    <tr style=\"text-align: right;\">\n",
       "      <th></th>\n",
       "      <th>income</th>\n",
       "      <th>count</th>\n",
       "    </tr>\n",
       "  </thead>\n",
       "  <tbody>\n",
       "    <tr>\n",
       "      <th>0</th>\n",
       "      <td>-1</td>\n",
       "      <td>48366</td>\n",
       "    </tr>\n",
       "    <tr>\n",
       "      <th>1</th>\n",
       "      <td>20000</td>\n",
       "      <td>2946</td>\n",
       "    </tr>\n",
       "    <tr>\n",
       "      <th>2</th>\n",
       "      <td>100000</td>\n",
       "      <td>1621</td>\n",
       "    </tr>\n",
       "    <tr>\n",
       "      <th>3</th>\n",
       "      <td>80000</td>\n",
       "      <td>1111</td>\n",
       "    </tr>\n",
       "    <tr>\n",
       "      <th>4</th>\n",
       "      <td>30000</td>\n",
       "      <td>1047</td>\n",
       "    </tr>\n",
       "    <tr>\n",
       "      <th>5</th>\n",
       "      <td>40000</td>\n",
       "      <td>1003</td>\n",
       "    </tr>\n",
       "    <tr>\n",
       "      <th>6</th>\n",
       "      <td>50000</td>\n",
       "      <td>975</td>\n",
       "    </tr>\n",
       "    <tr>\n",
       "      <th>7</th>\n",
       "      <td>60000</td>\n",
       "      <td>733</td>\n",
       "    </tr>\n",
       "    <tr>\n",
       "      <th>8</th>\n",
       "      <td>70000</td>\n",
       "      <td>707</td>\n",
       "    </tr>\n",
       "    <tr>\n",
       "      <th>9</th>\n",
       "      <td>150000</td>\n",
       "      <td>629</td>\n",
       "    </tr>\n",
       "    <tr>\n",
       "      <th>10</th>\n",
       "      <td>1000000</td>\n",
       "      <td>521</td>\n",
       "    </tr>\n",
       "    <tr>\n",
       "      <th>11</th>\n",
       "      <td>250000</td>\n",
       "      <td>149</td>\n",
       "    </tr>\n",
       "    <tr>\n",
       "      <th>12</th>\n",
       "      <td>500000</td>\n",
       "      <td>47</td>\n",
       "    </tr>\n",
       "  </tbody>\n",
       "</table>\n",
       "</div>"
      ],
      "text/plain": [
       "     income  count\n",
       "0        -1  48366\n",
       "1     20000   2946\n",
       "2    100000   1621\n",
       "3     80000   1111\n",
       "4     30000   1047\n",
       "5     40000   1003\n",
       "6     50000    975\n",
       "7     60000    733\n",
       "8     70000    707\n",
       "9    150000    629\n",
       "10  1000000    521\n",
       "11   250000    149\n",
       "12   500000     47"
      ]
     },
     "execution_count": 26,
     "metadata": {},
     "output_type": "execute_result"
    }
   ],
   "source": [
    "# Initial income value count\n",
    "df.income.value_counts().reset_index()"
   ]
  },
  {
   "cell_type": "markdown",
   "id": "e82c2d7f-5370-4679-8791-633f699e26f8",
   "metadata": {},
   "source": [
    "We will replace individuals with -1 income to 0. "
   ]
  },
  {
   "cell_type": "code",
   "execution_count": 27,
   "id": "6330b0af-401d-432e-a828-b8c023770050",
   "metadata": {},
   "outputs": [],
   "source": [
    "# Replacing -1 to 0 \n",
    "df.income.replace({-1:0}, inplace = True)"
   ]
  },
  {
   "cell_type": "code",
   "execution_count": 28,
   "id": "fcfd318e-578e-41a1-b01e-81f1c86db3fc",
   "metadata": {},
   "outputs": [
    {
     "data": {
      "text/html": [
       "<div>\n",
       "<style scoped>\n",
       "    .dataframe tbody tr th:only-of-type {\n",
       "        vertical-align: middle;\n",
       "    }\n",
       "\n",
       "    .dataframe tbody tr th {\n",
       "        vertical-align: top;\n",
       "    }\n",
       "\n",
       "    .dataframe thead th {\n",
       "        text-align: right;\n",
       "    }\n",
       "</style>\n",
       "<table border=\"1\" class=\"dataframe\">\n",
       "  <thead>\n",
       "    <tr style=\"text-align: right;\">\n",
       "      <th></th>\n",
       "      <th>age</th>\n",
       "      <th>body_type</th>\n",
       "      <th>diet</th>\n",
       "      <th>drinks</th>\n",
       "      <th>drugs</th>\n",
       "      <th>education</th>\n",
       "      <th>ethnicity</th>\n",
       "      <th>height</th>\n",
       "      <th>income</th>\n",
       "      <th>job</th>\n",
       "      <th>...</th>\n",
       "      <th>religion</th>\n",
       "      <th>sex</th>\n",
       "      <th>sign</th>\n",
       "      <th>smokes</th>\n",
       "      <th>speaks</th>\n",
       "      <th>status</th>\n",
       "      <th>encoded_body_type</th>\n",
       "      <th>encoded_ethnicity</th>\n",
       "      <th>encoded_offspring</th>\n",
       "      <th>encoded_location</th>\n",
       "    </tr>\n",
       "  </thead>\n",
       "  <tbody>\n",
       "    <tr>\n",
       "      <th>121</th>\n",
       "      <td>50</td>\n",
       "      <td>fit</td>\n",
       "      <td>anything</td>\n",
       "      <td>socially</td>\n",
       "      <td>never</td>\n",
       "      <td>two-year college</td>\n",
       "      <td>white</td>\n",
       "      <td>75.0</td>\n",
       "      <td>0</td>\n",
       "      <td>unemployed</td>\n",
       "      <td>...</td>\n",
       "      <td>christianity</td>\n",
       "      <td>m</td>\n",
       "      <td>gemini</td>\n",
       "      <td>no</td>\n",
       "      <td>english (fluently), tagalog (poorly)</td>\n",
       "      <td>single</td>\n",
       "      <td>13911</td>\n",
       "      <td>36282</td>\n",
       "      <td>4590</td>\n",
       "      <td>558</td>\n",
       "    </tr>\n",
       "    <tr>\n",
       "      <th>488</th>\n",
       "      <td>24</td>\n",
       "      <td>average</td>\n",
       "      <td>anything</td>\n",
       "      <td>socially</td>\n",
       "      <td>never</td>\n",
       "      <td>college/university</td>\n",
       "      <td>white</td>\n",
       "      <td>72.0</td>\n",
       "      <td>20000</td>\n",
       "      <td>unemployed</td>\n",
       "      <td>...</td>\n",
       "      <td>buddhism</td>\n",
       "      <td>f</td>\n",
       "      <td>taurus</td>\n",
       "      <td>no</td>\n",
       "      <td>english (fluently), spanish (okay)</td>\n",
       "      <td>single</td>\n",
       "      <td>16085</td>\n",
       "      <td>36282</td>\n",
       "      <td>9048</td>\n",
       "      <td>31064</td>\n",
       "    </tr>\n",
       "    <tr>\n",
       "      <th>489</th>\n",
       "      <td>49</td>\n",
       "      <td>average</td>\n",
       "      <td>anything</td>\n",
       "      <td>socially</td>\n",
       "      <td>never</td>\n",
       "      <td>college/university</td>\n",
       "      <td>white</td>\n",
       "      <td>70.0</td>\n",
       "      <td>0</td>\n",
       "      <td>unemployed</td>\n",
       "      <td>...</td>\n",
       "      <td>atheism</td>\n",
       "      <td>m</td>\n",
       "      <td>cancer</td>\n",
       "      <td>no</td>\n",
       "      <td>english</td>\n",
       "      <td>single</td>\n",
       "      <td>16085</td>\n",
       "      <td>36282</td>\n",
       "      <td>9048</td>\n",
       "      <td>7214</td>\n",
       "    </tr>\n",
       "    <tr>\n",
       "      <th>701</th>\n",
       "      <td>28</td>\n",
       "      <td>average</td>\n",
       "      <td>vegetarian</td>\n",
       "      <td>socially</td>\n",
       "      <td>sometimes</td>\n",
       "      <td>two-year college</td>\n",
       "      <td>asian</td>\n",
       "      <td>67.0</td>\n",
       "      <td>0</td>\n",
       "      <td>unemployed</td>\n",
       "      <td>...</td>\n",
       "      <td>agnosticism</td>\n",
       "      <td>m</td>\n",
       "      <td>aries</td>\n",
       "      <td>yes</td>\n",
       "      <td>english (fluently), chinese (fluently), thai (...</td>\n",
       "      <td>single</td>\n",
       "      <td>16085</td>\n",
       "      <td>6763</td>\n",
       "      <td>1133</td>\n",
       "      <td>31064</td>\n",
       "    </tr>\n",
       "    <tr>\n",
       "      <th>937</th>\n",
       "      <td>23</td>\n",
       "      <td>average</td>\n",
       "      <td>vegetarian</td>\n",
       "      <td>rarely</td>\n",
       "      <td>sometimes</td>\n",
       "      <td>two-year college</td>\n",
       "      <td>white</td>\n",
       "      <td>71.0</td>\n",
       "      <td>1000000</td>\n",
       "      <td>unemployed</td>\n",
       "      <td>...</td>\n",
       "      <td>agnosticism</td>\n",
       "      <td>m</td>\n",
       "      <td>gemini</td>\n",
       "      <td>no</td>\n",
       "      <td>english</td>\n",
       "      <td>available</td>\n",
       "      <td>16085</td>\n",
       "      <td>36282</td>\n",
       "      <td>2737</td>\n",
       "      <td>7214</td>\n",
       "    </tr>\n",
       "  </tbody>\n",
       "</table>\n",
       "<p>5 rows × 24 columns</p>\n",
       "</div>"
      ],
      "text/plain": [
       "     age body_type        diet    drinks      drugs           education  \\\n",
       "121   50       fit    anything  socially      never    two-year college   \n",
       "488   24   average    anything  socially      never  college/university   \n",
       "489   49   average    anything  socially      never  college/university   \n",
       "701   28   average  vegetarian  socially  sometimes    two-year college   \n",
       "937   23   average  vegetarian    rarely  sometimes    two-year college   \n",
       "\n",
       "    ethnicity  height   income         job  ...      religion sex    sign  \\\n",
       "121     white    75.0        0  unemployed  ...  christianity   m  gemini   \n",
       "488     white    72.0    20000  unemployed  ...      buddhism   f  taurus   \n",
       "489     white    70.0        0  unemployed  ...       atheism   m  cancer   \n",
       "701     asian    67.0        0  unemployed  ...   agnosticism   m   aries   \n",
       "937     white    71.0  1000000  unemployed  ...   agnosticism   m  gemini   \n",
       "\n",
       "    smokes                                             speaks     status  \\\n",
       "121     no               english (fluently), tagalog (poorly)     single   \n",
       "488     no                 english (fluently), spanish (okay)     single   \n",
       "489     no                                            english     single   \n",
       "701    yes  english (fluently), chinese (fluently), thai (...     single   \n",
       "937     no                                            english  available   \n",
       "\n",
       "    encoded_body_type encoded_ethnicity encoded_offspring encoded_location  \n",
       "121             13911             36282              4590              558  \n",
       "488             16085             36282              9048            31064  \n",
       "489             16085             36282              9048             7214  \n",
       "701             16085              6763              1133            31064  \n",
       "937             16085             36282              2737             7214  \n",
       "\n",
       "[5 rows x 24 columns]"
      ]
     },
     "execution_count": 28,
     "metadata": {},
     "output_type": "execute_result"
    }
   ],
   "source": [
    "df[df.job == 'unemployed'].head()"
   ]
  },
  {
   "cell_type": "markdown",
   "id": "8d372a4f-a117-4bd3-a046-0f6cd4798ed6",
   "metadata": {},
   "source": [
    "There are individuals who are unemployed and have an income more than 0. We will replace their incomes to 0 as well. "
   ]
  },
  {
   "cell_type": "code",
   "execution_count": 29,
   "id": "fd62ace4-eef3-4c24-99c0-3042d6c75906",
   "metadata": {},
   "outputs": [],
   "source": [
    "df.loc[df['job'] == 'unemployed', 'income'] = 0"
   ]
  },
  {
   "cell_type": "markdown",
   "id": "6b595883-220a-4f26-be55-7d5e21d474b7",
   "metadata": {},
   "source": [
    "### Language"
   ]
  },
  {
   "cell_type": "code",
   "execution_count": 30,
   "id": "478d7d82-f9fd-4e54-82e3-0c518436bd12",
   "metadata": {},
   "outputs": [
    {
     "data": {
      "text/plain": [
       "speaks\n",
       "english                                   21813\n",
       "english (fluently)                         6628\n",
       "english (fluently), spanish (poorly)       2058\n",
       "english (fluently), spanish (okay)         1919\n",
       "english (fluently), spanish (fluently)     1288\n",
       "english, spanish                            859\n",
       "english (fluently), french (poorly)         756\n",
       "english, spanish (okay)                     654\n",
       "english, spanish (poorly)                   610\n",
       "english (fluently), chinese (fluently)      534\n",
       "Name: count, dtype: int64"
      ]
     },
     "execution_count": 30,
     "metadata": {},
     "output_type": "execute_result"
    }
   ],
   "source": [
    "# Initial speaks value count \n",
    "df.speaks.value_counts().head(10)"
   ]
  },
  {
   "cell_type": "code",
   "execution_count": 31,
   "id": "775eb528-4a3a-4259-aa3e-a4609908a4ce",
   "metadata": {},
   "outputs": [],
   "source": [
    "# Removing unnecessary substrings\n",
    "df.speaks = df.speaks.str.replace(' (fluently)', '', regex = False)\n",
    "df.speaks = df.speaks.str.replace(' (poorly)', '', regex = False)\n",
    "df.speaks = df.speaks.str.replace(' (okay)', '', regex = False)"
   ]
  },
  {
   "cell_type": "code",
   "execution_count": 32,
   "id": "c4d8393e-8eb4-4c51-b6f1-85322fd9db94",
   "metadata": {},
   "outputs": [
    {
     "data": {
      "text/plain": [
       "speaks_count\n",
       "1    29057\n",
       "2    17225\n",
       "3     8669\n",
       "4     3242\n",
       "5     1662\n",
       "Name: count, dtype: int64"
      ]
     },
     "execution_count": 32,
     "metadata": {},
     "output_type": "execute_result"
    }
   ],
   "source": [
    "# Changing values to number of languages spoken by individuals\n",
    "df['speaks_count'] = df['speaks'].str.count(',') + 1\n",
    "df.speaks_count.value_counts()"
   ]
  },
  {
   "cell_type": "markdown",
   "id": "937ae40e-cff1-48de-a449-b0b29022f5ec",
   "metadata": {},
   "source": [
    "## Model Selection and Evaluation"
   ]
  },
  {
   "cell_type": "markdown",
   "id": "52281977-f6c4-4169-ad02-618a7cd7a5c6",
   "metadata": {},
   "source": [
    "### Feature Importances"
   ]
  },
  {
   "cell_type": "code",
   "execution_count": 33,
   "id": "435554a9-f7d4-4cc7-9276-cb6fc11bb8dc",
   "metadata": {},
   "outputs": [],
   "source": [
    "# Feature and target variables\n",
    "X = df.drop(columns = ['status', 'ethnicity', 'offspring', 'speaks', 'location', 'speaks'])\n",
    "y = df.status\n",
    "\n",
    "# Separating columns by data types\n",
    "cat_cols = ['body_type', 'diet', 'drinks', 'drugs', 'education', 'job', 'orientation', \n",
    "            'pets', 'religion', 'sex', 'sign', 'smokes']\n",
    "freq_cols = ['encoded_ethnicity', 'encoded_offspring', 'encoded_location']\n",
    "num_vals = ['income', 'height', 'speaks_count']\n",
    "\n",
    "# Preprocessing \n",
    "preprocessing = ColumnTransformer(\n",
    "    transformers = [\n",
    "        ('cat', OneHotEncoder(sparse = False, drop = 'first'), cat_cols),\n",
    "        ('num', StandardScaler(), num_vals),\n",
    "        ('freq', 'passthrough', freq_cols)\n",
    "    ]\n",
    ")"
   ]
  },
  {
   "cell_type": "code",
   "execution_count": 34,
   "id": "fa29128d-b4c6-46aa-b0a8-d529762c2543",
   "metadata": {},
   "outputs": [],
   "source": [
    "# Apply the transformations to the training data\n",
    "X_preprocessed = preprocessing.fit_transform(X)\n",
    "X_preprocessed = pd.DataFrame(X_preprocessed, columns = preprocessing.get_feature_names_out())\n",
    "\n",
    "# Split the data into train and test sets\n",
    "x_train_processed, x_test_processed, y_train_processed, y_test_processed = train_test_split(X_preprocessed, y, test_size=0.2, random_state=42)"
   ]
  },
  {
   "cell_type": "code",
   "execution_count": 35,
   "id": "128f3fd8-41cb-438c-8826-0a525c7346e6",
   "metadata": {},
   "outputs": [
    {
     "data": {
      "text/html": [
       "<style>#sk-container-id-1 {color: black;}#sk-container-id-1 pre{padding: 0;}#sk-container-id-1 div.sk-toggleable {background-color: white;}#sk-container-id-1 label.sk-toggleable__label {cursor: pointer;display: block;width: 100%;margin-bottom: 0;padding: 0.3em;box-sizing: border-box;text-align: center;}#sk-container-id-1 label.sk-toggleable__label-arrow:before {content: \"▸\";float: left;margin-right: 0.25em;color: #696969;}#sk-container-id-1 label.sk-toggleable__label-arrow:hover:before {color: black;}#sk-container-id-1 div.sk-estimator:hover label.sk-toggleable__label-arrow:before {color: black;}#sk-container-id-1 div.sk-toggleable__content {max-height: 0;max-width: 0;overflow: hidden;text-align: left;background-color: #f0f8ff;}#sk-container-id-1 div.sk-toggleable__content pre {margin: 0.2em;color: black;border-radius: 0.25em;background-color: #f0f8ff;}#sk-container-id-1 input.sk-toggleable__control:checked~div.sk-toggleable__content {max-height: 200px;max-width: 100%;overflow: auto;}#sk-container-id-1 input.sk-toggleable__control:checked~label.sk-toggleable__label-arrow:before {content: \"▾\";}#sk-container-id-1 div.sk-estimator input.sk-toggleable__control:checked~label.sk-toggleable__label {background-color: #d4ebff;}#sk-container-id-1 div.sk-label input.sk-toggleable__control:checked~label.sk-toggleable__label {background-color: #d4ebff;}#sk-container-id-1 input.sk-hidden--visually {border: 0;clip: rect(1px 1px 1px 1px);clip: rect(1px, 1px, 1px, 1px);height: 1px;margin: -1px;overflow: hidden;padding: 0;position: absolute;width: 1px;}#sk-container-id-1 div.sk-estimator {font-family: monospace;background-color: #f0f8ff;border: 1px dotted black;border-radius: 0.25em;box-sizing: border-box;margin-bottom: 0.5em;}#sk-container-id-1 div.sk-estimator:hover {background-color: #d4ebff;}#sk-container-id-1 div.sk-parallel-item::after {content: \"\";width: 100%;border-bottom: 1px solid gray;flex-grow: 1;}#sk-container-id-1 div.sk-label:hover label.sk-toggleable__label {background-color: #d4ebff;}#sk-container-id-1 div.sk-serial::before {content: \"\";position: absolute;border-left: 1px solid gray;box-sizing: border-box;top: 0;bottom: 0;left: 50%;z-index: 0;}#sk-container-id-1 div.sk-serial {display: flex;flex-direction: column;align-items: center;background-color: white;padding-right: 0.2em;padding-left: 0.2em;position: relative;}#sk-container-id-1 div.sk-item {position: relative;z-index: 1;}#sk-container-id-1 div.sk-parallel {display: flex;align-items: stretch;justify-content: center;background-color: white;position: relative;}#sk-container-id-1 div.sk-item::before, #sk-container-id-1 div.sk-parallel-item::before {content: \"\";position: absolute;border-left: 1px solid gray;box-sizing: border-box;top: 0;bottom: 0;left: 50%;z-index: -1;}#sk-container-id-1 div.sk-parallel-item {display: flex;flex-direction: column;z-index: 1;position: relative;background-color: white;}#sk-container-id-1 div.sk-parallel-item:first-child::after {align-self: flex-end;width: 50%;}#sk-container-id-1 div.sk-parallel-item:last-child::after {align-self: flex-start;width: 50%;}#sk-container-id-1 div.sk-parallel-item:only-child::after {width: 0;}#sk-container-id-1 div.sk-dashed-wrapped {border: 1px dashed gray;margin: 0 0.4em 0.5em 0.4em;box-sizing: border-box;padding-bottom: 0.4em;background-color: white;}#sk-container-id-1 div.sk-label label {font-family: monospace;font-weight: bold;display: inline-block;line-height: 1.2em;}#sk-container-id-1 div.sk-label-container {text-align: center;}#sk-container-id-1 div.sk-container {/* jupyter's `normalize.less` sets `[hidden] { display: none; }` but bootstrap.min.css set `[hidden] { display: none !important; }` so we also need the `!important` here to be able to override the default hidden behavior on the sphinx rendered scikit-learn.org. See: https://github.com/scikit-learn/scikit-learn/issues/21755 */display: inline-block !important;position: relative;}#sk-container-id-1 div.sk-text-repr-fallback {display: none;}</style><div id=\"sk-container-id-1\" class=\"sk-top-container\"><div class=\"sk-text-repr-fallback\"><pre>RandomForestClassifier(class_weight=&#x27;balanced&#x27;, random_state=42)</pre><b>In a Jupyter environment, please rerun this cell to show the HTML representation or trust the notebook. <br />On GitHub, the HTML representation is unable to render, please try loading this page with nbviewer.org.</b></div><div class=\"sk-container\" hidden><div class=\"sk-item\"><div class=\"sk-estimator sk-toggleable\"><input class=\"sk-toggleable__control sk-hidden--visually\" id=\"sk-estimator-id-1\" type=\"checkbox\" checked><label for=\"sk-estimator-id-1\" class=\"sk-toggleable__label sk-toggleable__label-arrow\">RandomForestClassifier</label><div class=\"sk-toggleable__content\"><pre>RandomForestClassifier(class_weight=&#x27;balanced&#x27;, random_state=42)</pre></div></div></div></div></div>"
      ],
      "text/plain": [
       "RandomForestClassifier(class_weight='balanced', random_state=42)"
      ]
     },
     "execution_count": 35,
     "metadata": {},
     "output_type": "execute_result"
    }
   ],
   "source": [
    "# Initialising RandomForestClaasifier model\n",
    "classifier = RandomForestClassifier(class_weight='balanced', random_state = 42)\n",
    "classifier.fit(x_train_processed, y_train_processed)"
   ]
  },
  {
   "cell_type": "markdown",
   "id": "399f6aa2-d221-48b1-a7e0-8f58d61c7f98",
   "metadata": {},
   "source": [
    "There is a high class imbalance in this dataset where the majority class ('single') has a much higher ratio compared to the minority class. Hence, we will use a 'balanced' class weight for our model. "
   ]
  },
  {
   "cell_type": "code",
   "execution_count": 36,
   "id": "83d8087d-33f1-428c-b4bb-0385065e832e",
   "metadata": {},
   "outputs": [
    {
     "name": "stdout",
     "output_type": "stream",
     "text": [
      "                                    feature  importance\n",
      "91                              num__height    0.074783\n",
      "94                  freq__encoded_offspring    0.060009\n",
      "95                   freq__encoded_location    0.059061\n",
      "92                        num__speaks_count    0.052306\n",
      "93                  freq__encoded_ethnicity    0.045679\n",
      "90                              num__income    0.027254\n",
      "51                cat__orientation_straight    0.020286\n",
      "65      cat__pets_likes dogs and likes cats    0.019121\n",
      "32  cat__job_computer / hardware / software    0.018972\n",
      "1                    cat__body_type_average    0.018085\n",
      "22                     cat__drugs_sometimes    0.017847\n",
      "81                         cat__sign_pisces    0.017808\n",
      "19                     cat__drinks_socially    0.017740\n",
      "74                               cat__sex_m    0.017133\n",
      "3                        cat__body_type_fit    0.016665\n"
     ]
    }
   ],
   "source": [
    "# Get feature importances\n",
    "importances = classifier.feature_importances_\n",
    "\n",
    "# Create a DataFrame to view feature importances\n",
    "feature_importances = pd.DataFrame({'feature': x_train_processed.columns, 'importance': importances})\n",
    "\n",
    "# Sort by importance\n",
    "feature_importances = feature_importances.sort_values(by='importance', ascending=False)\n",
    "\n",
    "# Print features and importances\n",
    "print(feature_importances.head(15))"
   ]
  },
  {
   "cell_type": "markdown",
   "id": "c3f183e1-d2a8-4d10-9f83-2728dff8fa6b",
   "metadata": {},
   "source": [
    "### Predictions"
   ]
  },
  {
   "cell_type": "code",
   "execution_count": 37,
   "id": "62abd530-1b30-4472-a0dd-95a4f5b212cd",
   "metadata": {},
   "outputs": [
    {
     "name": "stdout",
     "output_type": "stream",
     "text": [
      "Train Score: 0.9998955809873862\n",
      "Test Score: 0.9305822404143347\n"
     ]
    }
   ],
   "source": [
    "# Predicting outcome using testing data \n",
    "y_pred = classifier.predict(x_test_processed)\n",
    "\n",
    "# Classifier score\n",
    "train_score = classifier.score(x_train_processed, y_train_processed)\n",
    "test_score = classifier.score(x_test_processed, y_test_processed)\n",
    "print(f'Train Score: {train_score}')\n",
    "print(f'Test Score: {test_score}')"
   ]
  },
  {
   "cell_type": "markdown",
   "id": "57c8f0ae-3a1c-4220-9903-ae80feed46bc",
   "metadata": {},
   "source": [
    "## Model Validation"
   ]
  },
  {
   "cell_type": "markdown",
   "id": "dc0385d3-bd34-42e9-a6a2-13c4e99ea896",
   "metadata": {},
   "source": [
    "We will validate our classification model using k-fold cross validation by splitting the training data into 5 folds and calculating the average accuracy of each fold. We will also use hyperparameter tuning to find the best hyperparameters for our model."
   ]
  },
  {
   "cell_type": "markdown",
   "id": "a633f114-89d7-46cd-8488-e5b6f3227b85",
   "metadata": {},
   "source": [
    "#### K-Fold Cross-Validation"
   ]
  },
  {
   "cell_type": "code",
   "execution_count": 38,
   "id": "d760439f-2138-454a-a6ef-7628c32c2ac6",
   "metadata": {},
   "outputs": [
    {
     "name": "stdout",
     "output_type": "stream",
     "text": [
      "Cross-Validation Accuracy: 0.9287026954459344\n"
     ]
    }
   ],
   "source": [
    "# Performing k-fold cross validation\n",
    "scores = cross_val_score(classifier, x_train_processed, y_train_processed, cv=5, scoring='accuracy')\n",
    "\n",
    "# Printing average score \n",
    "print(\"Cross-Validation Accuracy:\", scores.mean())"
   ]
  },
  {
   "cell_type": "markdown",
   "id": "6d123ada-76e5-40ce-9b27-3570bfd89f8c",
   "metadata": {},
   "source": [
    "From our 5-fold cross validation, we managed to get an accuracy of approximately 93%, which signifies that our model's performance is good. "
   ]
  },
  {
   "cell_type": "markdown",
   "id": "a0b2d4a6-268c-497e-b97d-a28fbb5bcee3",
   "metadata": {},
   "source": [
    "#### Hyperparameter Tuning"
   ]
  },
  {
   "cell_type": "code",
   "execution_count": 39,
   "id": "147c161f-d08c-4e82-99ec-e46e6ca06a2e",
   "metadata": {},
   "outputs": [
    {
     "name": "stdout",
     "output_type": "stream",
     "text": [
      "Best Parameters: {'max_depth': None, 'n_estimators': 50}\n",
      "Best Score: 0.9287026954459344\n"
     ]
    }
   ],
   "source": [
    "# Define parameter grid\n",
    "param_grid = {\n",
    "    'n_estimators': [20, 50, 100],\n",
    "    'max_depth': [None, 10, 20],\n",
    "}\n",
    "\n",
    "# Perform grid search\n",
    "grid_search = GridSearchCV(estimator=classifier, param_grid=param_grid, cv=5, scoring='accuracy')\n",
    "grid_search.fit(x_train_processed, y_train_processed)\n",
    "\n",
    "# Best parameters and score\n",
    "print(\"Best Parameters:\", grid_search.best_params_)\n",
    "print(\"Best Score:\", grid_search.best_score_)"
   ]
  },
  {
   "cell_type": "markdown",
   "id": "1d5254b5-a131-44ec-a879-e47a1653754a",
   "metadata": {},
   "source": [
    "## Pipeline"
   ]
  },
  {
   "cell_type": "markdown",
   "id": "253b8e6c-5330-4c9f-9a11-645c94477352",
   "metadata": {},
   "source": [
    "Lastly, we will convert our workflow into a pipeline to streamline our code and ensure that it is flexible for alterations without affecting the rest of the code if required again in the future."
   ]
  },
  {
   "cell_type": "code",
   "execution_count": 41,
   "id": "2106e4e0-dd07-495c-8844-a0dbe2b01a8e",
   "metadata": {},
   "outputs": [],
   "source": [
    "# Feature and target variables\n",
    "X = df.drop(columns = ['status', 'ethnicity', 'offspring', 'speaks', 'location', 'speaks'])\n",
    "y = df.status\n",
    "\n",
    "# Separating columns by data types\n",
    "cat_cols = X.select_dtypes(include = 'object').columns\n",
    "freq_cols = ['encoded_ethnicity', 'encoded_offspring', 'encoded_location']\n",
    "num_vals = ['income', 'height', 'speaks_count']\n",
    "\n",
    "# Train-test split\n",
    "x_train, x_test, y_train, y_test = train_test_split(X, y, test_size = 0.2, random_state = 42)\n",
    "\n",
    "# Preprocessing \n",
    "pipeline_preprocessing = ColumnTransformer(\n",
    "    transformers = [\n",
    "        ('cat', OneHotEncoder(sparse = False, drop = 'first'), cat_cols),\n",
    "        ('num', StandardScaler(), num_vals),\n",
    "        ('freq', 'passthrough', freq_cols)\n",
    "    ]\n",
    ")\n",
    "\n",
    "# Initialise classifier\n",
    "pipeline_classifier = RandomForestClassifier(class_weight='balanced', random_state = 42)\n",
    "\n",
    "# Initialise pipeline\n",
    "pipeline = Pipeline([('preprocess', pipeline_preprocessing), ('classification', pipeline_classifier)])"
   ]
  },
  {
   "cell_type": "code",
   "execution_count": 42,
   "id": "b55bf36b-90b3-40cb-a1c0-793403a4f235",
   "metadata": {},
   "outputs": [
    {
     "name": "stdout",
     "output_type": "stream",
     "text": [
      "Train Score: 0.9998955809873862\n",
      "Test Score: 0.9305822404143347\n"
     ]
    }
   ],
   "source": [
    "# Fitting model and making predictions\n",
    "pipeline.fit(x_train, y_train)\n",
    "y_pred = pipeline.predict(x_test)\n",
    "\n",
    "# Pipeline score\n",
    "train_score = pipeline.score(x_train, y_train)\n",
    "test_score = pipeline.score(x_test, y_test)\n",
    "print(f'Train Score: {train_score}')\n",
    "print(f'Test Score: {test_score}')"
   ]
  },
  {
   "cell_type": "markdown",
   "id": "aba90e26-d0f1-45dc-92e5-8a9207c9165f",
   "metadata": {},
   "source": [
    "## Conclusion"
   ]
  },
  {
   "cell_type": "markdown",
   "id": "e52bdce4-eb4f-4a68-bff7-d5d7cd46c69b",
   "metadata": {},
   "source": [
    "This project explores a unique dataset that contains user information on the OKCupid website. The objective of this project is to develop a machine learning model that can predict the relationship status of these users based on their information. After cleaning the data and performing feature engineering, we fitted the dataset to a Random Forest Classifier model and evaluated its performance. Fortunately, the model performed really well with the dataset. We also created a pipeline to automate our workflow and make it more efficient for future use. "
   ]
  }
 ],
 "metadata": {
  "kernelspec": {
   "display_name": "Python 3 (ipykernel)",
   "language": "python",
   "name": "python3"
  },
  "language_info": {
   "codemirror_mode": {
    "name": "ipython",
    "version": 3
   },
   "file_extension": ".py",
   "mimetype": "text/x-python",
   "name": "python",
   "nbconvert_exporter": "python",
   "pygments_lexer": "ipython3",
   "version": "3.10.14"
  }
 },
 "nbformat": 4,
 "nbformat_minor": 5
}
