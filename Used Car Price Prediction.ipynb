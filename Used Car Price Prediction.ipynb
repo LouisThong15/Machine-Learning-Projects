{
 "cells": [
  {
   "cell_type": "markdown",
   "id": "c6cd4e1a-4019-4ccc-a094-1f5181162dd4",
   "metadata": {},
   "source": [
    "# Prediction of Used Car Prices - ML/AI Career Path Portfolio Project"
   ]
  },
  {
   "cell_type": "markdown",
   "id": "d234c86e-7ba3-4715-a05c-684799a5d320",
   "metadata": {},
   "source": [
    "This project focuses on a dataset that contains information of used cars from the year 1974 to 2024 such as its brand, type and model. The purpose of this project is to use machine learning algorithms and machine learning pipelines to predict used car prices. \n",
    "\n",
    "The original dataset was provided by Kaggle and modified by a user from Kaggle (https://www.kaggle.com/datasets/anthonytherrien/extended-dataset-for-used-car-prices-regressiont). The user had generated values using OpenAI's GPT-4o-mini for additional data points to provide more insights and potentially improve model performance. Despite these synthetic data points, the accuracy of these data points were maintained and can be assumed to replicate real-world scenarios. We will be using Python and its libraries to complete this project."
   ]
  },
  {
   "cell_type": "markdown",
   "id": "d23ff641-bad2-4e0c-a9aa-c5c9aa278530",
   "metadata": {},
   "source": [
    "## Goal of project"
   ]
  },
  {
   "cell_type": "markdown",
   "id": "be442e77-f94c-4d3c-b05d-ebfe5f34b0e8",
   "metadata": {},
   "source": [
    "1. Apply machine learning algorithms to a dataset and perform predictive analysis \n",
    "2. Create a ML pipeline to automate ML workflow\n",
    "3. Achieve a root mean squared error as close to 0 as possible"
   ]
  },
  {
   "cell_type": "markdown",
   "id": "23f9ab9e-9e93-45b8-a57d-aace5effc108",
   "metadata": {},
   "source": [
    "## Import Libraries"
   ]
  },
  {
   "cell_type": "code",
   "execution_count": 233,
   "id": "ecce5b92-6a72-4117-ae7d-6fafc1207d61",
   "metadata": {},
   "outputs": [],
   "source": [
    "import warnings\n",
    "warnings.simplefilter(action='ignore', category=FutureWarning)\n",
    "import numpy as np\n",
    "from matplotlib import pyplot as plt \n",
    "import seaborn as sns\n",
    "import pandas as pd\n",
    "from sklearn.model_selection import GridSearchCV, train_test_split, RandomizedSearchCV, cross_val_score\n",
    "from sklearn.linear_model import LinearRegression, Lasso, Ridge\n",
    "from sklearn.impute import SimpleImputer\n",
    "from sklearn.pipeline import Pipeline\n",
    "from sklearn.preprocessing import LabelEncoder, StandardScaler, OneHotEncoder\n",
    "from sklearn.metrics import mean_squared_error, r2_score \n",
    "from sklearn.neighbors import KNeighborsRegressor \n",
    "from sklearn.compose import ColumnTransformer\n",
    "from sklearn.ensemble import RandomForestRegressor, GradientBoostingRegressor\n",
    "from sklearn.feature_selection import SelectKBest, mutual_info_regression"
   ]
  },
  {
   "cell_type": "markdown",
   "id": "d4e371a8-c370-4645-b601-527b627ae5b3",
   "metadata": {},
   "source": [
    "## Load and Inspect Data"
   ]
  },
  {
   "cell_type": "code",
   "execution_count": 234,
   "id": "6f027446-7d5b-436e-a418-e301037909de",
   "metadata": {},
   "outputs": [],
   "source": [
    "test_set = pd.read_csv('test.csv')\n",
    "train_set = pd.read_csv('train.csv')"
   ]
  },
  {
   "cell_type": "code",
   "execution_count": 235,
   "id": "513758c9-c29c-4c1e-b7cd-2a383a266ccd",
   "metadata": {},
   "outputs": [
    {
     "name": "stdout",
     "output_type": "stream",
     "text": [
      "<class 'pandas.core.frame.DataFrame'>\n",
      "RangeIndex: 188533 entries, 0 to 188532\n",
      "Data columns (total 13 columns):\n",
      " #   Column        Non-Null Count   Dtype \n",
      "---  ------        --------------   ----- \n",
      " 0   id            188533 non-null  int64 \n",
      " 1   brand         188533 non-null  object\n",
      " 2   model         188533 non-null  object\n",
      " 3   model_year    188533 non-null  int64 \n",
      " 4   milage        188533 non-null  int64 \n",
      " 5   fuel_type     183450 non-null  object\n",
      " 6   engine        188533 non-null  object\n",
      " 7   transmission  188533 non-null  object\n",
      " 8   ext_col       188533 non-null  object\n",
      " 9   int_col       188533 non-null  object\n",
      " 10  accident      186081 non-null  object\n",
      " 11  clean_title   167114 non-null  object\n",
      " 12  price         188533 non-null  int64 \n",
      "dtypes: int64(4), object(9)\n",
      "memory usage: 18.7+ MB\n"
     ]
    },
    {
     "data": {
      "text/html": [
       "<div>\n",
       "<style scoped>\n",
       "    .dataframe tbody tr th:only-of-type {\n",
       "        vertical-align: middle;\n",
       "    }\n",
       "\n",
       "    .dataframe tbody tr th {\n",
       "        vertical-align: top;\n",
       "    }\n",
       "\n",
       "    .dataframe thead th {\n",
       "        text-align: right;\n",
       "    }\n",
       "</style>\n",
       "<table border=\"1\" class=\"dataframe\">\n",
       "  <thead>\n",
       "    <tr style=\"text-align: right;\">\n",
       "      <th></th>\n",
       "      <th>id</th>\n",
       "      <th>brand</th>\n",
       "      <th>model</th>\n",
       "      <th>model_year</th>\n",
       "      <th>milage</th>\n",
       "      <th>fuel_type</th>\n",
       "      <th>engine</th>\n",
       "      <th>transmission</th>\n",
       "      <th>ext_col</th>\n",
       "      <th>int_col</th>\n",
       "      <th>accident</th>\n",
       "      <th>clean_title</th>\n",
       "      <th>price</th>\n",
       "    </tr>\n",
       "  </thead>\n",
       "  <tbody>\n",
       "    <tr>\n",
       "      <th>0</th>\n",
       "      <td>0</td>\n",
       "      <td>MINI</td>\n",
       "      <td>Cooper S Base</td>\n",
       "      <td>2007</td>\n",
       "      <td>213000</td>\n",
       "      <td>Gasoline</td>\n",
       "      <td>172.0HP 1.6L 4 Cylinder Engine Gasoline Fuel</td>\n",
       "      <td>A/T</td>\n",
       "      <td>Yellow</td>\n",
       "      <td>Gray</td>\n",
       "      <td>None reported</td>\n",
       "      <td>Yes</td>\n",
       "      <td>4200</td>\n",
       "    </tr>\n",
       "    <tr>\n",
       "      <th>1</th>\n",
       "      <td>1</td>\n",
       "      <td>Lincoln</td>\n",
       "      <td>LS V8</td>\n",
       "      <td>2002</td>\n",
       "      <td>143250</td>\n",
       "      <td>Gasoline</td>\n",
       "      <td>252.0HP 3.9L 8 Cylinder Engine Gasoline Fuel</td>\n",
       "      <td>A/T</td>\n",
       "      <td>Silver</td>\n",
       "      <td>Beige</td>\n",
       "      <td>At least 1 accident or damage reported</td>\n",
       "      <td>Yes</td>\n",
       "      <td>4999</td>\n",
       "    </tr>\n",
       "    <tr>\n",
       "      <th>2</th>\n",
       "      <td>2</td>\n",
       "      <td>Chevrolet</td>\n",
       "      <td>Silverado 2500 LT</td>\n",
       "      <td>2002</td>\n",
       "      <td>136731</td>\n",
       "      <td>E85 Flex Fuel</td>\n",
       "      <td>320.0HP 5.3L 8 Cylinder Engine Flex Fuel Capab...</td>\n",
       "      <td>A/T</td>\n",
       "      <td>Blue</td>\n",
       "      <td>Gray</td>\n",
       "      <td>None reported</td>\n",
       "      <td>Yes</td>\n",
       "      <td>13900</td>\n",
       "    </tr>\n",
       "    <tr>\n",
       "      <th>3</th>\n",
       "      <td>3</td>\n",
       "      <td>Genesis</td>\n",
       "      <td>G90 5.0 Ultimate</td>\n",
       "      <td>2017</td>\n",
       "      <td>19500</td>\n",
       "      <td>Gasoline</td>\n",
       "      <td>420.0HP 5.0L 8 Cylinder Engine Gasoline Fuel</td>\n",
       "      <td>Transmission w/Dual Shift Mode</td>\n",
       "      <td>Black</td>\n",
       "      <td>Black</td>\n",
       "      <td>None reported</td>\n",
       "      <td>Yes</td>\n",
       "      <td>45000</td>\n",
       "    </tr>\n",
       "    <tr>\n",
       "      <th>4</th>\n",
       "      <td>4</td>\n",
       "      <td>Mercedes-Benz</td>\n",
       "      <td>Metris Base</td>\n",
       "      <td>2021</td>\n",
       "      <td>7388</td>\n",
       "      <td>Gasoline</td>\n",
       "      <td>208.0HP 2.0L 4 Cylinder Engine Gasoline Fuel</td>\n",
       "      <td>7-Speed A/T</td>\n",
       "      <td>Black</td>\n",
       "      <td>Beige</td>\n",
       "      <td>None reported</td>\n",
       "      <td>Yes</td>\n",
       "      <td>97500</td>\n",
       "    </tr>\n",
       "  </tbody>\n",
       "</table>\n",
       "</div>"
      ],
      "text/plain": [
       "   id          brand              model  model_year  milage      fuel_type  \\\n",
       "0   0           MINI      Cooper S Base        2007  213000       Gasoline   \n",
       "1   1        Lincoln              LS V8        2002  143250       Gasoline   \n",
       "2   2      Chevrolet  Silverado 2500 LT        2002  136731  E85 Flex Fuel   \n",
       "3   3        Genesis   G90 5.0 Ultimate        2017   19500       Gasoline   \n",
       "4   4  Mercedes-Benz        Metris Base        2021    7388       Gasoline   \n",
       "\n",
       "                                              engine  \\\n",
       "0       172.0HP 1.6L 4 Cylinder Engine Gasoline Fuel   \n",
       "1       252.0HP 3.9L 8 Cylinder Engine Gasoline Fuel   \n",
       "2  320.0HP 5.3L 8 Cylinder Engine Flex Fuel Capab...   \n",
       "3       420.0HP 5.0L 8 Cylinder Engine Gasoline Fuel   \n",
       "4       208.0HP 2.0L 4 Cylinder Engine Gasoline Fuel   \n",
       "\n",
       "                     transmission ext_col int_col  \\\n",
       "0                             A/T  Yellow    Gray   \n",
       "1                             A/T  Silver   Beige   \n",
       "2                             A/T    Blue    Gray   \n",
       "3  Transmission w/Dual Shift Mode   Black   Black   \n",
       "4                     7-Speed A/T   Black   Beige   \n",
       "\n",
       "                                 accident clean_title  price  \n",
       "0                           None reported         Yes   4200  \n",
       "1  At least 1 accident or damage reported         Yes   4999  \n",
       "2                           None reported         Yes  13900  \n",
       "3                           None reported         Yes  45000  \n",
       "4                           None reported         Yes  97500  "
      ]
     },
     "execution_count": 235,
     "metadata": {},
     "output_type": "execute_result"
    }
   ],
   "source": [
    "train_set.info()\n",
    "train_set.head()"
   ]
  },
  {
   "cell_type": "markdown",
   "id": "a42aaffd-bc43-4bde-a7ac-7a88a120ebdf",
   "metadata": {},
   "source": [
    "The dataset contains 188533 rows and 13 columns containing information on various used cars. It seems that all of the columns except 'fuel_type', 'clean_title' and 'accident' do not have null values.\n",
    "\n",
    "Here's a quick summary of the columns:\n",
    "\n",
    "- **id**: The identification number of the vehicle.\n",
    "- **brand**: The manufacturer of the vehicle.\n",
    "- **model**: The specific model of the vehicle produced by the brand. \n",
    "- **milage**: The milage of the vehicle. \n",
    "- **fuel_type**: The type of fuel the vehicles run on, whether it's gasoline, diesel, electric, or hybrid.\n",
    "- **engine**: The engine specifications of the vehicle.\n",
    "- **transmission**: The transmission type, whether automatic, manual, or another variant.\n",
    "- **ext_col**: The exterior color of the vehicle.\n",
    "- **int_col**: The interior color of the vehicle.\n",
    "- **accident**: The vehicle's history of accidents or damages.\n",
    "- **clean_title**: The availability of a clean title.\n",
    "- **price**: The listed prices for the vehicle."
   ]
  },
  {
   "cell_type": "markdown",
   "id": "8b45e686-1433-4328-9c1f-db037becc071",
   "metadata": {},
   "source": [
    "## Data Cleaning and Preparation"
   ]
  },
  {
   "cell_type": "markdown",
   "id": "f9b15c72-556f-4c74-af20-222fcc2d9a9f",
   "metadata": {},
   "source": [
    "### Training Set"
   ]
  },
  {
   "cell_type": "markdown",
   "id": "f5ce97e9-1ade-4498-a308-96e79362f99a",
   "metadata": {},
   "source": [
    "#### Fuel Type"
   ]
  },
  {
   "cell_type": "markdown",
   "id": "9f4809eb-3d17-4997-8280-001e1615300b",
   "metadata": {},
   "source": [
    "Firstly, we will deal with the 'fuel_type' column."
   ]
  },
  {
   "cell_type": "code",
   "execution_count": 236,
   "id": "fd0a30f4-aa36-46f3-a19a-2af5938899f5",
   "metadata": {},
   "outputs": [
    {
     "data": {
      "text/plain": [
       "array(['Gasoline', 'E85 Flex Fuel', nan, 'Hybrid', 'Diesel',\n",
       "       'Plug-In Hybrid', '–', 'not supported'], dtype=object)"
      ]
     },
     "execution_count": 236,
     "metadata": {},
     "output_type": "execute_result"
    }
   ],
   "source": [
    "train_set.fuel_type.unique()"
   ]
  },
  {
   "cell_type": "code",
   "execution_count": 237,
   "id": "5c5b08b1-4bb9-454f-a336-2a51c80048a6",
   "metadata": {},
   "outputs": [
    {
     "data": {
      "text/plain": [
       "fuel_type\n",
       "Gasoline          165940\n",
       "Hybrid              6832\n",
       "E85 Flex Fuel       5406\n",
       "Diesel              3955\n",
       "–                    781\n",
       "Plug-In Hybrid       521\n",
       "not supported         15\n",
       "Name: count, dtype: int64"
      ]
     },
     "execution_count": 237,
     "metadata": {},
     "output_type": "execute_result"
    }
   ],
   "source": [
    "train_set.fuel_type.value_counts()"
   ]
  },
  {
   "cell_type": "markdown",
   "id": "ddc2e7be-cc8f-4b71-8f79-a5adbb381eec",
   "metadata": {},
   "source": [
    "Since gasoline vehicles are the most common, we will replace the '-', 'not supported' and null values with 'Gasoline'."
   ]
  },
  {
   "cell_type": "code",
   "execution_count": 238,
   "id": "a7b86a89-edc4-4a7b-9dc0-81c14695326f",
   "metadata": {},
   "outputs": [],
   "source": [
    "train_set['fuel_type'].replace(['–','not supported'], 'Gasoline', inplace = True)\n",
    "train_set['fuel_type'].fillna('Gasoline', inplace = True)\n",
    "train_set['fuel_type'].replace('Plug-In Hybrid', 'Hybrid', inplace = True)"
   ]
  },
  {
   "cell_type": "code",
   "execution_count": 239,
   "id": "6dd87c39-c64c-4bd2-99b9-a9c368d7f76d",
   "metadata": {},
   "outputs": [
    {
     "data": {
      "text/plain": [
       "fuel_type\n",
       "Gasoline         171819\n",
       "Hybrid             7353\n",
       "E85 Flex Fuel      5406\n",
       "Diesel             3955\n",
       "Name: count, dtype: int64"
      ]
     },
     "execution_count": 239,
     "metadata": {},
     "output_type": "execute_result"
    }
   ],
   "source": [
    "train_set.fuel_type.value_counts()"
   ]
  },
  {
   "cell_type": "markdown",
   "id": "95a38c86-9e21-46a0-a3a1-0ea6ecc349a1",
   "metadata": {},
   "source": [
    "#### Clean Title"
   ]
  },
  {
   "cell_type": "markdown",
   "id": "15ae6656-b666-42e3-9d7a-14a2809fd29c",
   "metadata": {},
   "source": [
    "Next, we will make the 'clean_title' into a binary field by replacing 'Yes' with 1 and the null values with 0."
   ]
  },
  {
   "cell_type": "code",
   "execution_count": 240,
   "id": "6aa3cfc7-7e0f-4b3d-8bd7-24e5856a0e24",
   "metadata": {},
   "outputs": [
    {
     "data": {
      "text/plain": [
       "array(['Yes', nan], dtype=object)"
      ]
     },
     "execution_count": 240,
     "metadata": {},
     "output_type": "execute_result"
    }
   ],
   "source": [
    "train_set.clean_title.unique()"
   ]
  },
  {
   "cell_type": "code",
   "execution_count": 241,
   "id": "20a79485-97e1-4ff2-84ff-d58ddf51731f",
   "metadata": {},
   "outputs": [],
   "source": [
    "train_set.clean_title.replace('Yes', 1, inplace = True)\n",
    "train_set.clean_title.fillna(0, inplace = True)"
   ]
  },
  {
   "cell_type": "markdown",
   "id": "83f77da0-d715-4c44-af6b-3c334ec45587",
   "metadata": {},
   "source": [
    "#### Accidents"
   ]
  },
  {
   "cell_type": "markdown",
   "id": "4aed7a80-de50-4679-9a71-89cb16664efa",
   "metadata": {},
   "source": [
    "Lastly, we will do the same with the 'accident' column."
   ]
  },
  {
   "cell_type": "code",
   "execution_count": 242,
   "id": "9383c3e5-0870-4b82-909b-31927b400960",
   "metadata": {},
   "outputs": [
    {
     "data": {
      "text/plain": [
       "array(['None reported', 'At least 1 accident or damage reported', nan],\n",
       "      dtype=object)"
      ]
     },
     "execution_count": 242,
     "metadata": {},
     "output_type": "execute_result"
    }
   ],
   "source": [
    "train_set.accident.unique()"
   ]
  },
  {
   "cell_type": "code",
   "execution_count": 243,
   "id": "b664d36e-1114-4b9e-93e2-8bed3a3460be",
   "metadata": {},
   "outputs": [],
   "source": [
    "train_set.accident.replace(['No', 'None reported'], 0, inplace=True)\n",
    "train_set.accident.replace('At least 1 accident or damage reported', 1, inplace=True)\n",
    "train_set.accident.fillna(0, inplace=True)"
   ]
  },
  {
   "cell_type": "markdown",
   "id": "fc2b55dd-1542-4e45-9e4d-65c9d7277458",
   "metadata": {},
   "source": [
    "#### Engine"
   ]
  },
  {
   "cell_type": "code",
   "execution_count": 244,
   "id": "eceac61e-8947-46f2-9529-cdbac0ca8ee2",
   "metadata": {},
   "outputs": [
    {
     "data": {
      "text/plain": [
       "array(['172.0HP 1.6L 4 Cylinder Engine Gasoline Fuel',\n",
       "       '252.0HP 3.9L 8 Cylinder Engine Gasoline Fuel',\n",
       "       '320.0HP 5.3L 8 Cylinder Engine Flex Fuel Capability', ...,\n",
       "       '78.0HP 1.2L 3 Cylinder Engine Gasoline Fuel',\n",
       "       '139.0HP 1.6L 4 Cylinder Engine Plug-In Electric/Gas',\n",
       "       '313.0HP 2.0L 4 Cylinder Engine Plug-In Electric/Gas'],\n",
       "      dtype=object)"
      ]
     },
     "execution_count": 244,
     "metadata": {},
     "output_type": "execute_result"
    }
   ],
   "source": [
    "train_set.engine.unique()"
   ]
  },
  {
   "cell_type": "markdown",
   "id": "f211a553-5834-48d1-9e61-5377a5ffcdd3",
   "metadata": {},
   "source": [
    "### Testing Set"
   ]
  },
  {
   "cell_type": "code",
   "execution_count": 245,
   "id": "d0e42b81-da51-48f5-a6b1-923a833af9b3",
   "metadata": {},
   "outputs": [
    {
     "name": "stdout",
     "output_type": "stream",
     "text": [
      "<class 'pandas.core.frame.DataFrame'>\n",
      "RangeIndex: 125690 entries, 0 to 125689\n",
      "Data columns (total 12 columns):\n",
      " #   Column        Non-Null Count   Dtype \n",
      "---  ------        --------------   ----- \n",
      " 0   id            125690 non-null  int64 \n",
      " 1   brand         125690 non-null  object\n",
      " 2   model         125690 non-null  object\n",
      " 3   model_year    125690 non-null  int64 \n",
      " 4   milage        125690 non-null  int64 \n",
      " 5   fuel_type     122307 non-null  object\n",
      " 6   engine        125690 non-null  object\n",
      " 7   transmission  125690 non-null  object\n",
      " 8   ext_col       125690 non-null  object\n",
      " 9   int_col       125690 non-null  object\n",
      " 10  accident      124058 non-null  object\n",
      " 11  clean_title   111451 non-null  object\n",
      "dtypes: int64(3), object(9)\n",
      "memory usage: 11.5+ MB\n"
     ]
    },
    {
     "data": {
      "text/html": [
       "<div>\n",
       "<style scoped>\n",
       "    .dataframe tbody tr th:only-of-type {\n",
       "        vertical-align: middle;\n",
       "    }\n",
       "\n",
       "    .dataframe tbody tr th {\n",
       "        vertical-align: top;\n",
       "    }\n",
       "\n",
       "    .dataframe thead th {\n",
       "        text-align: right;\n",
       "    }\n",
       "</style>\n",
       "<table border=\"1\" class=\"dataframe\">\n",
       "  <thead>\n",
       "    <tr style=\"text-align: right;\">\n",
       "      <th></th>\n",
       "      <th>id</th>\n",
       "      <th>brand</th>\n",
       "      <th>model</th>\n",
       "      <th>model_year</th>\n",
       "      <th>milage</th>\n",
       "      <th>fuel_type</th>\n",
       "      <th>engine</th>\n",
       "      <th>transmission</th>\n",
       "      <th>ext_col</th>\n",
       "      <th>int_col</th>\n",
       "      <th>accident</th>\n",
       "      <th>clean_title</th>\n",
       "    </tr>\n",
       "  </thead>\n",
       "  <tbody>\n",
       "    <tr>\n",
       "      <th>0</th>\n",
       "      <td>188533</td>\n",
       "      <td>Land</td>\n",
       "      <td>Rover LR2 Base</td>\n",
       "      <td>2015</td>\n",
       "      <td>98000</td>\n",
       "      <td>Gasoline</td>\n",
       "      <td>240.0HP 2.0L 4 Cylinder Engine Gasoline Fuel</td>\n",
       "      <td>6-Speed A/T</td>\n",
       "      <td>White</td>\n",
       "      <td>Beige</td>\n",
       "      <td>None reported</td>\n",
       "      <td>Yes</td>\n",
       "    </tr>\n",
       "    <tr>\n",
       "      <th>1</th>\n",
       "      <td>188534</td>\n",
       "      <td>Land</td>\n",
       "      <td>Rover Defender SE</td>\n",
       "      <td>2020</td>\n",
       "      <td>9142</td>\n",
       "      <td>Hybrid</td>\n",
       "      <td>395.0HP 3.0L Straight 6 Cylinder Engine Gasoli...</td>\n",
       "      <td>8-Speed A/T</td>\n",
       "      <td>Silver</td>\n",
       "      <td>Black</td>\n",
       "      <td>None reported</td>\n",
       "      <td>Yes</td>\n",
       "    </tr>\n",
       "    <tr>\n",
       "      <th>2</th>\n",
       "      <td>188535</td>\n",
       "      <td>Ford</td>\n",
       "      <td>Expedition Limited</td>\n",
       "      <td>2022</td>\n",
       "      <td>28121</td>\n",
       "      <td>Gasoline</td>\n",
       "      <td>3.5L V6 24V PDI DOHC Twin Turbo</td>\n",
       "      <td>10-Speed Automatic</td>\n",
       "      <td>White</td>\n",
       "      <td>Ebony</td>\n",
       "      <td>None reported</td>\n",
       "      <td>NaN</td>\n",
       "    </tr>\n",
       "    <tr>\n",
       "      <th>3</th>\n",
       "      <td>188536</td>\n",
       "      <td>Audi</td>\n",
       "      <td>A6 2.0T Sport</td>\n",
       "      <td>2016</td>\n",
       "      <td>61258</td>\n",
       "      <td>Gasoline</td>\n",
       "      <td>2.0 Liter TFSI</td>\n",
       "      <td>Automatic</td>\n",
       "      <td>Silician Yellow</td>\n",
       "      <td>Black</td>\n",
       "      <td>None reported</td>\n",
       "      <td>NaN</td>\n",
       "    </tr>\n",
       "    <tr>\n",
       "      <th>4</th>\n",
       "      <td>188537</td>\n",
       "      <td>Audi</td>\n",
       "      <td>A6 2.0T Premium Plus</td>\n",
       "      <td>2018</td>\n",
       "      <td>59000</td>\n",
       "      <td>Gasoline</td>\n",
       "      <td>252.0HP 2.0L 4 Cylinder Engine Gasoline Fuel</td>\n",
       "      <td>A/T</td>\n",
       "      <td>Gray</td>\n",
       "      <td>Black</td>\n",
       "      <td>None reported</td>\n",
       "      <td>Yes</td>\n",
       "    </tr>\n",
       "  </tbody>\n",
       "</table>\n",
       "</div>"
      ],
      "text/plain": [
       "       id brand                 model  model_year  milage fuel_type  \\\n",
       "0  188533  Land        Rover LR2 Base        2015   98000  Gasoline   \n",
       "1  188534  Land     Rover Defender SE        2020    9142    Hybrid   \n",
       "2  188535  Ford    Expedition Limited        2022   28121  Gasoline   \n",
       "3  188536  Audi         A6 2.0T Sport        2016   61258  Gasoline   \n",
       "4  188537  Audi  A6 2.0T Premium Plus        2018   59000  Gasoline   \n",
       "\n",
       "                                              engine        transmission  \\\n",
       "0       240.0HP 2.0L 4 Cylinder Engine Gasoline Fuel         6-Speed A/T   \n",
       "1  395.0HP 3.0L Straight 6 Cylinder Engine Gasoli...         8-Speed A/T   \n",
       "2                    3.5L V6 24V PDI DOHC Twin Turbo  10-Speed Automatic   \n",
       "3                                     2.0 Liter TFSI           Automatic   \n",
       "4       252.0HP 2.0L 4 Cylinder Engine Gasoline Fuel                 A/T   \n",
       "\n",
       "           ext_col int_col       accident clean_title  \n",
       "0            White   Beige  None reported         Yes  \n",
       "1           Silver   Black  None reported         Yes  \n",
       "2            White   Ebony  None reported         NaN  \n",
       "3  Silician Yellow   Black  None reported         NaN  \n",
       "4             Gray   Black  None reported         Yes  "
      ]
     },
     "execution_count": 245,
     "metadata": {},
     "output_type": "execute_result"
    }
   ],
   "source": [
    "test_set.info()\n",
    "test_set.head()"
   ]
  },
  {
   "cell_type": "markdown",
   "id": "1ed17330-e238-4c49-81ca-3e8ba6317b46",
   "metadata": {},
   "source": [
    "It seems that the 'fuel_type', 'accident' and 'clean_title' columns have null values, similarly to the training dataset. We will deal with these values the same way as in the training set."
   ]
  },
  {
   "cell_type": "markdown",
   "id": "2149b78b-da28-4196-aa89-34bf12343a8b",
   "metadata": {},
   "source": [
    "#### Fuel Type"
   ]
  },
  {
   "cell_type": "code",
   "execution_count": 276,
   "id": "2988fdf5-eea3-438f-a537-12e4194c8510",
   "metadata": {},
   "outputs": [],
   "source": [
    "test_set['fuel_type'].replace(['–','not supported'], 'Gasoline', inplace = True)\n",
    "test_set['fuel_type'].fillna('Gasoline', inplace = True)\n",
    "test_set['fuel_type'].replace('Plug-In Hybrid', 'Hybrid', inplace = True)"
   ]
  },
  {
   "cell_type": "markdown",
   "id": "7699f092-fdf8-4028-a13d-9388aa282b8d",
   "metadata": {},
   "source": [
    "#### Clean Title"
   ]
  },
  {
   "cell_type": "code",
   "execution_count": 247,
   "id": "b60a2d5f-c1d4-49a8-8128-d4aefcc1cdd8",
   "metadata": {},
   "outputs": [],
   "source": [
    "test_set.clean_title.replace('Yes', 1, inplace = True)\n",
    "test_set.clean_title.fillna(0, inplace = True)"
   ]
  },
  {
   "cell_type": "markdown",
   "id": "b987af08-73e4-4355-a804-7cad54ce57c2",
   "metadata": {},
   "source": [
    "#### Accidents"
   ]
  },
  {
   "cell_type": "code",
   "execution_count": 248,
   "id": "c90f8b66-4796-4544-a1bd-7e81248efa7d",
   "metadata": {},
   "outputs": [],
   "source": [
    "test_set.accident.replace(['No', 'None reported'], 0, inplace=True)\n",
    "test_set.accident.replace('At least 1 accident or damage reported', 1, inplace=True)\n",
    "test_set.accident.fillna(0, inplace=True)"
   ]
  },
  {
   "cell_type": "markdown",
   "id": "cb091090-1300-42f7-8f03-686e8fa78945",
   "metadata": {},
   "source": [
    "### Transmission Type"
   ]
  },
  {
   "cell_type": "markdown",
   "id": "10c2afb6-7df0-45c5-9376-65ea82e326a4",
   "metadata": {},
   "source": [
    "There are a lot of transmission types in the training and testing dataset. We will categorise them into 4 different types; Automatic, Manual, CVT, Dual Shift and Others."
   ]
  },
  {
   "cell_type": "code",
   "execution_count": 249,
   "id": "42a356e2-38d6-44ba-b555-1b665e99da49",
   "metadata": {},
   "outputs": [
    {
     "data": {
      "text/plain": [
       "array(['6-Speed A/T', '8-Speed A/T', '10-Speed Automatic', 'Automatic',\n",
       "       'A/T', 'Transmission w/Dual Shift Mode', '6-Speed Automatic',\n",
       "       '7-Speed A/T', '5-Speed M/T', '8-Speed Automatic', '9-Speed A/T',\n",
       "       '10-Speed A/T', '9-Speed Automatic', '5-Speed Automatic',\n",
       "       'Automatic CVT', '6-Speed M/T', 'CVT Transmission',\n",
       "       'Transmission Overdrive Switch', 'M/T', '7-Speed Automatic',\n",
       "       '5-Speed A/T', '1-Speed A/T', '7-Speed Automatic with Auto-Shift',\n",
       "       '4-Speed A/T', '9-Speed Automatic with Auto-Shift',\n",
       "       '8-Speed Automatic with Auto-Shift', 'Variable',\n",
       "       '10-Speed Automatic with Overdrive', '1-Speed Automatic',\n",
       "       '7-Speed M/T', '6-Speed Manual', '2-Speed Automatic', 'F',\n",
       "       '2-Speed A/T', '4-Speed Automatic',\n",
       "       '6-Speed Automatic with Auto-Shift', '2', '6 Speed Mt',\n",
       "       '7-Speed Manual', '–', '8-Speed Manual', 'Manual',\n",
       "       '6-Speed Electronically Controlled Automatic with O',\n",
       "       '8-SPEED A/T', '7-Speed', '7-Speed DCT Automatic', '8-SPEED AT',\n",
       "       'Single-Speed Fixed Gear', '6 Speed At/Mt', 'CVT-F', '6-Speed',\n",
       "       'SCHEDULED FOR OR IN PRODUCTION'], dtype=object)"
      ]
     },
     "execution_count": 249,
     "metadata": {},
     "output_type": "execute_result"
    }
   ],
   "source": [
    "test_set.transmission.unique()"
   ]
  },
  {
   "cell_type": "code",
   "execution_count": 250,
   "id": "2316da5a-e744-4bb8-97cb-b25c327939a1",
   "metadata": {},
   "outputs": [],
   "source": [
    "auto = ['Auto', 'A/T', 'SCHEDULED', '–', 'F', 'AT', '2', '7-Speed', '6-Speed']\n",
    "manual = ['Manual', 'M/T', 'MT', 'Mt']\n",
    "\n",
    "def transmission(type):\n",
    "    if any(x in type for x in auto):\n",
    "        return 'Automatic'\n",
    "    elif any(x in type for x in manual):\n",
    "        return 'Manual'\n",
    "    elif 'CVT' in type or 'Variable' in type:\n",
    "        return 'CVT' \n",
    "    elif 'Dual Shift' in type:\n",
    "        return 'Dual Shift Mode'\n",
    "    elif 'Overdrive' in type:\n",
    "        return 'Overdrive Switch'\n",
    "    else:\n",
    "        return 'Others'\n",
    "\n",
    "def speed(type):\n",
    "    for speed in range(1,11):\n",
    "        if str(speed) in type:\n",
    "            return speed \n",
    "    \n",
    "train_set['transmission_type'] = train_set.transmission.apply(transmission)\n",
    "test_set['transmission_type'] = test_set.transmission.apply(transmission)"
   ]
  },
  {
   "cell_type": "code",
   "execution_count": 251,
   "id": "248c70bf-9313-4350-a212-f5b1d5672ced",
   "metadata": {},
   "outputs": [
    {
     "data": {
      "text/plain": [
       "transmission_type\n",
       "Automatic           163366\n",
       "Dual Shift Mode      19255\n",
       "Manual                3700\n",
       "CVT                   2056\n",
       "Overdrive Switch       156\n",
       "Name: count, dtype: int64"
      ]
     },
     "execution_count": 251,
     "metadata": {},
     "output_type": "execute_result"
    }
   ],
   "source": [
    "train_set.transmission_type.value_counts()"
   ]
  },
  {
   "cell_type": "markdown",
   "id": "4c5981e1-8519-473a-9386-315e918f5428",
   "metadata": {},
   "source": [
    "### Brand"
   ]
  },
  {
   "cell_type": "markdown",
   "id": "9e7d468a-9e8b-4d71-90ad-d3c969c3c1f7",
   "metadata": {},
   "source": [
    "We will perform frequency encoding on the 'brand' column since there are a lot of brands."
   ]
  },
  {
   "cell_type": "code",
   "execution_count": 293,
   "id": "f7c31771-a384-4d58-9d3c-95f83d294972",
   "metadata": {},
   "outputs": [],
   "source": [
    "frequency_encoding_train = train_set['brand'].value_counts().to_dict()\n",
    "train_set['encoded_brand'] = train_set['brand'].map(frequency_encoding)\n",
    "\n",
    "frequency_encoding_test = test_set['brand'].value_counts().to_dict()\n",
    "test_set['encoded_brand'] = test_set['brand'].map(frequency_encoding_test)"
   ]
  },
  {
   "cell_type": "markdown",
   "id": "c6d3a446-9c76-42fc-89cc-da026507f368",
   "metadata": {},
   "source": [
    "### Horsepower"
   ]
  },
  {
   "cell_type": "code",
   "execution_count": 283,
   "id": "f6a9a630-cc76-437d-b253-5d70bafb391f",
   "metadata": {},
   "outputs": [],
   "source": [
    "# Extracting horsepower from 'engine' column\n",
    "train_set['horsepower'] = train_set['engine'].str.extract(r'(\\d+\\.?\\d*)HP').astype(float)\n",
    "test_set['horsepower'] = test_set['engine'].str.extract(r'(\\d+\\.?\\d*)HP').astype(float)\n",
    "\n",
    "# Filling null values with mode value\n",
    "train_set['horsepower'].fillna(train_set['horsepower'].mode()[0], inplace=True)\n",
    "test_set['horsepower'].fillna(test_set['horsepower'].mode()[0], inplace=True)"
   ]
  },
  {
   "cell_type": "markdown",
   "id": "54188b4f-63b9-4353-9c0e-dc6ab198f9ae",
   "metadata": {
    "jp-MarkdownHeadingCollapsed": true
   },
   "source": [
    "### Finding Correlations or Outliers"
   ]
  },
  {
   "cell_type": "code",
   "execution_count": 257,
   "id": "478c491d-29c3-454d-b321-fc4b49489084",
   "metadata": {},
   "outputs": [
    {
     "data": {
      "image/png": "[encoded data removed]",
      "text/plain": [
       "<Figure size 640x480 with 1 Axes>"
      ]
     },
     "metadata": {},
     "output_type": "display_data"
    }
   ],
   "source": [
    "sns.histplot(data = train_set, x = 'milage')\n",
    "plt.show()"
   ]
  },
  {
   "cell_type": "code",
   "execution_count": 258,
   "id": "01aace88-96c6-4a4c-9380-f8793a2377a5",
   "metadata": {},
   "outputs": [
    {
     "data": {
      "image/png": "[encoded data removed]",
      "text/plain": [
       "<Figure size 640x480 with 1 Axes>"
      ]
     },
     "metadata": {},
     "output_type": "display_data"
    }
   ],
   "source": [
    "sns.histplot(data = train_set, x = 'price')\n",
    "plt.show()"
   ]
  },
  {
   "cell_type": "markdown",
   "id": "5e0a114e-7bf8-4b11-a3d5-f1d43d2953e6",
   "metadata": {},
   "source": [
    "## Pipeline"
   ]
  },
  {
   "cell_type": "code",
   "execution_count": 260,
   "id": "a6e9b797-e9c6-4ece-92ae-1f8ab97cfdb5",
   "metadata": {},
   "outputs": [],
   "source": [
    "columns = ['encoded_brand', 'model_year', 'milage', 'fuel_type', 'accident', 'transmission_type', 'horsepower']\n",
    "y = train_set.price\n",
    "X = train_set[columns]"
   ]
  },
  {
   "cell_type": "code",
   "execution_count": 261,
   "id": "a15bbe50-5fa9-4d93-bc9f-e49bad1033f3",
   "metadata": {},
   "outputs": [],
   "source": [
    "feature_cols = ['encoded_brand', 'model_year', 'milage', 'horsepower']\n",
    "X = train_set[feature_cols]\n",
    "y = train_set.price\n",
    "\n",
    "# Separate column types\n",
    "num_cols = X.select_dtypes(include=['int64', 'float64']).columns.drop('encoded_brand')\n",
    "cat_cols = X.select_dtypes(include=['object', 'category']).columns\n",
    "bin_cols = X.columns[(X.nunique() == 2)]  # Columns with only two unique values (binary)\n",
    "freq_cols = 'encoded_brand'\n",
    "\n",
    "# Preprocessing pipeline\n",
    "preprocessor = ColumnTransformer(\n",
    "    transformers=[\n",
    "        ('num', StandardScaler(), num_cols),  # Scale numerical columns\n",
    "        ('cat', OneHotEncoder(drop='first', sparse=False), cat_cols),  # One-Hot Encode categorical columns\n",
    "        ('bin', 'passthrough', bin_cols),  # Keep binary columns as they are\n",
    "        ('freq', 'passthrough', [freq_cols])\n",
    "    ])"
   ]
  },
  {
   "cell_type": "markdown",
   "id": "caf9736b-21c6-43a1-86a7-2e788402f64a",
   "metadata": {
    "jp-MarkdownHeadingCollapsed": true
   },
   "source": [
    "## Feature Importances"
   ]
  },
  {
   "cell_type": "code",
   "execution_count": 262,
   "id": "3a428e3f-190f-4830-b184-e840fde064d1",
   "metadata": {},
   "outputs": [],
   "source": [
    "# Apply the transformations to the training data\n",
    "X_preprocessed = preprocessor.fit_transform(X)\n",
    "X_preprocessed = pd.DataFrame(X_preprocessed, columns=preprocessor.get_feature_names_out())\n",
    "\n",
    "# Split the data into train and test sets\n",
    "x_train_processed, x_test_processed, y_train_processed, y_test_processed = train_test_split(X_preprocessed, y, test_size=0.2, random_state=42)"
   ]
  },
  {
   "cell_type": "code",
   "execution_count": 263,
   "id": "43e07071-d926-4ea9-9a6e-48ea32e151fc",
   "metadata": {},
   "outputs": [
    {
     "data": {
      "text/html": [
       "<style>#sk-container-id-5 {color: black;}#sk-container-id-5 pre{padding: 0;}#sk-container-id-5 div.sk-toggleable {background-color: white;}#sk-container-id-5 label.sk-toggleable__label {cursor: pointer;display: block;width: 100%;margin-bottom: 0;padding: 0.3em;box-sizing: border-box;text-align: center;}#sk-container-id-5 label.sk-toggleable__label-arrow:before {content: \"▸\";float: left;margin-right: 0.25em;color: #696969;}#sk-container-id-5 label.sk-toggleable__label-arrow:hover:before {color: black;}#sk-container-id-5 div.sk-estimator:hover label.sk-toggleable__label-arrow:before {color: black;}#sk-container-id-5 div.sk-toggleable__content {max-height: 0;max-width: 0;overflow: hidden;text-align: left;background-color: #f0f8ff;}#sk-container-id-5 div.sk-toggleable__content pre {margin: 0.2em;color: black;border-radius: 0.25em;background-color: #f0f8ff;}#sk-container-id-5 input.sk-toggleable__control:checked~div.sk-toggleable__content {max-height: 200px;max-width: 100%;overflow: auto;}#sk-container-id-5 input.sk-toggleable__control:checked~label.sk-toggleable__label-arrow:before {content: \"▾\";}#sk-container-id-5 div.sk-estimator input.sk-toggleable__control:checked~label.sk-toggleable__label {background-color: #d4ebff;}#sk-container-id-5 div.sk-label input.sk-toggleable__control:checked~label.sk-toggleable__label {background-color: #d4ebff;}#sk-container-id-5 input.sk-hidden--visually {border: 0;clip: rect(1px 1px 1px 1px);clip: rect(1px, 1px, 1px, 1px);height: 1px;margin: -1px;overflow: hidden;padding: 0;position: absolute;width: 1px;}#sk-container-id-5 div.sk-estimator {font-family: monospace;background-color: #f0f8ff;border: 1px dotted black;border-radius: 0.25em;box-sizing: border-box;margin-bottom: 0.5em;}#sk-container-id-5 div.sk-estimator:hover {background-color: #d4ebff;}#sk-container-id-5 div.sk-parallel-item::after {content: \"\";width: 100%;border-bottom: 1px solid gray;flex-grow: 1;}#sk-container-id-5 div.sk-label:hover label.sk-toggleable__label {background-color: #d4ebff;}#sk-container-id-5 div.sk-serial::before {content: \"\";position: absolute;border-left: 1px solid gray;box-sizing: border-box;top: 0;bottom: 0;left: 50%;z-index: 0;}#sk-container-id-5 div.sk-serial {display: flex;flex-direction: column;align-items: center;background-color: white;padding-right: 0.2em;padding-left: 0.2em;position: relative;}#sk-container-id-5 div.sk-item {position: relative;z-index: 1;}#sk-container-id-5 div.sk-parallel {display: flex;align-items: stretch;justify-content: center;background-color: white;position: relative;}#sk-container-id-5 div.sk-item::before, #sk-container-id-5 div.sk-parallel-item::before {content: \"\";position: absolute;border-left: 1px solid gray;box-sizing: border-box;top: 0;bottom: 0;left: 50%;z-index: -1;}#sk-container-id-5 div.sk-parallel-item {display: flex;flex-direction: column;z-index: 1;position: relative;background-color: white;}#sk-container-id-5 div.sk-parallel-item:first-child::after {align-self: flex-end;width: 50%;}#sk-container-id-5 div.sk-parallel-item:last-child::after {align-self: flex-start;width: 50%;}#sk-container-id-5 div.sk-parallel-item:only-child::after {width: 0;}#sk-container-id-5 div.sk-dashed-wrapped {border: 1px dashed gray;margin: 0 0.4em 0.5em 0.4em;box-sizing: border-box;padding-bottom: 0.4em;background-color: white;}#sk-container-id-5 div.sk-label label {font-family: monospace;font-weight: bold;display: inline-block;line-height: 1.2em;}#sk-container-id-5 div.sk-label-container {text-align: center;}#sk-container-id-5 div.sk-container {/* jupyter's `normalize.less` sets `[hidden] { display: none; }` but bootstrap.min.css set `[hidden] { display: none !important; }` so we also need the `!important` here to be able to override the default hidden behavior on the sphinx rendered scikit-learn.org. See: https://github.com/scikit-learn/scikit-learn/issues/21755 */display: inline-block !important;position: relative;}#sk-container-id-5 div.sk-text-repr-fallback {display: none;}</style><div id=\"sk-container-id-5\" class=\"sk-top-container\"><div class=\"sk-text-repr-fallback\"><pre>RandomForestRegressor(random_state=0)</pre><b>In a Jupyter environment, please rerun this cell to show the HTML representation or trust the notebook. <br />On GitHub, the HTML representation is unable to render, please try loading this page with nbviewer.org.</b></div><div class=\"sk-container\" hidden><div class=\"sk-item\"><div class=\"sk-estimator sk-toggleable\"><input class=\"sk-toggleable__control sk-hidden--visually\" id=\"sk-estimator-id-41\" type=\"checkbox\" checked><label for=\"sk-estimator-id-41\" class=\"sk-toggleable__label sk-toggleable__label-arrow\">RandomForestRegressor</label><div class=\"sk-toggleable__content\"><pre>RandomForestRegressor(random_state=0)</pre></div></div></div></div></div>"
      ],
      "text/plain": [
       "RandomForestRegressor(random_state=0)"
      ]
     },
     "execution_count": 263,
     "metadata": {},
     "output_type": "execute_result"
    }
   ],
   "source": [
    "# Initialize the RandomForestRegressor\n",
    "rf = RandomForestRegressor(n_estimators=100, random_state=0)\n",
    "\n",
    "# Fit the model to the training data\n",
    "rf.fit(x_train_processed, y_train_processed)"
   ]
  },
  {
   "cell_type": "code",
   "execution_count": 264,
   "id": "63e65b3c-2d42-4e7b-be54-e0b908fca570",
   "metadata": {},
   "outputs": [
    {
     "name": "stdout",
     "output_type": "stream",
     "text": [
      "               feature  importance\n",
      "1          num__milage    0.559173\n",
      "0      num__model_year    0.174559\n",
      "2      num__horsepower    0.135306\n",
      "3  freq__encoded_brand    0.130963\n"
     ]
    }
   ],
   "source": [
    "# Get feature importances\n",
    "importances = rf.feature_importances_\n",
    "\n",
    "# Create a DataFrame to view feature importances\n",
    "feature_importances = pd.DataFrame({'feature': x_train_processed.columns, 'importance': importances})\n",
    "\n",
    "# Sort by importance\n",
    "feature_importances = feature_importances.sort_values(by='importance', ascending=False)\n",
    "\n",
    "# Print the top 10 most important features\n",
    "print(feature_importances.head(15))"
   ]
  },
  {
   "cell_type": "code",
   "execution_count": 265,
   "id": "f47abc41-3164-45ba-9d5a-9bbf152cbb69",
   "metadata": {},
   "outputs": [],
   "source": [
    "# plt.figure(figsize=(6, 4))\n",
    "# sns.barplot(x='importance', y='feature', data=feature_importances.head(20))\n",
    "# plt.title('Top 10 Feature Importances from RandomForestRegressor')\n",
    "# plt.show()"
   ]
  },
  {
   "cell_type": "code",
   "execution_count": 266,
   "id": "722016eb-3066-4a94-acd5-e48e64883030",
   "metadata": {},
   "outputs": [],
   "source": [
    "# Select the top 10 most important features\n",
    "# top_features = feature_importances['feature'].head(15)\n",
    "# X_train_top = x_train[top_features]\n",
    "# X_test_top = x_test[top_features]"
   ]
  },
  {
   "cell_type": "markdown",
   "id": "08d102aa-6cc6-4711-b57c-93993ed950a8",
   "metadata": {},
   "source": [
    "## Training Model"
   ]
  },
  {
   "cell_type": "markdown",
   "id": "b429afe4-96bb-4e6f-a524-7232c410cfbc",
   "metadata": {
    "jp-MarkdownHeadingCollapsed": true
   },
   "source": [
    "### GridSearchCV"
   ]
  },
  {
   "cell_type": "code",
   "execution_count": 267,
   "id": "ad401729-dfb2-44e7-801e-a743eafe7743",
   "metadata": {},
   "outputs": [],
   "source": [
    "# # Train the RandomForestRegressor again with the selected top features\n",
    "# rf_top = RandomForestRegressor(random_state = 0)\n",
    "\n",
    "# param_grid = {\n",
    "#     'n_estimators': [50,100,200],              \n",
    "#     'max_depth': [10, 20, None],\n",
    "#     'bootstrap': [True, False]                   \n",
    "# }\n",
    "\n",
    "# gs = GridSearchCV(estimator = rf_top, param_grid=param_grid, cv=3, n_jobs=-1, scoring='neg_mean_squared_error')\n",
    "# gs.fit(x_train, y_train)\n",
    "\n",
    "# best_rf = gs.best_estimator_\n",
    "\n",
    "# # Evaluate the model on the test set\n",
    "# y_pred = best_rf.predict(X_test_top)"
   ]
  },
  {
   "cell_type": "code",
   "execution_count": 268,
   "id": "c2a3171f-0754-4ed5-9b02-2d94631965cb",
   "metadata": {},
   "outputs": [],
   "source": [
    "# Calculate performance metrics\n",
    "# mse = mean_squared_error(y_test, y_pred)\n",
    "# print(f'Mean Squared Error: {mse}')\n",
    "\n",
    "# # acc_score = rf_top.score(y_test, y_pred)\n",
    "# print(f'Accuracy Score: {acc_score}')"
   ]
  },
  {
   "cell_type": "markdown",
   "id": "f325f7c5-2a2c-4dc4-9b99-18b0d7685be7",
   "metadata": {},
   "source": [
    "### Fitting model"
   ]
  },
  {
   "cell_type": "code",
   "execution_count": 271,
   "id": "25b64da9-f49b-4bf6-a45a-633a05c11768",
   "metadata": {},
   "outputs": [],
   "source": [
    "# Split the data into train and test sets\n",
    "x_train, x_test, y_train, y_test = train_test_split(X, y, test_size=0.3, random_state=42)\n",
    "\n",
    "pipeline = Pipeline([('preprocess', preprocessor), ('regressor', GradientBoostingRegressor(random_state = 0, \n",
    "                                                                                       n_estimators = 300,\n",
    "                                                                                       max_depth=5, min_samples_leaf=4,  # Increase min samples per leaf\n",
    "                                                                                       min_samples_split=5  # Increase min samples per split\n",
    "                                                                                        ))])"
   ]
  },
  {
   "cell_type": "code",
   "execution_count": 272,
   "id": "5291fe88-c35e-4962-b14b-9b543b93487e",
   "metadata": {},
   "outputs": [
    {
     "name": "stdout",
     "output_type": "stream",
     "text": [
      "Train Score: 0.2763705940492488\n",
      "Test Score: 0.14139727080314024\n",
      "Root Mean Squared Error: 67335.94436133509\n"
     ]
    }
   ],
   "source": [
    "pipeline.fit(x_train, y_train)\n",
    "\n",
    "# Fit the pipeline on the training data and predict on the test data\n",
    "y_pred = pipeline.predict(x_test)\n",
    "\n",
    "#Pipeline score\n",
    "train_score = pipeline.score(x_train, y_train)\n",
    "test_score = pipeline.score(x_test, y_test)\n",
    "print(f'Train Score: {train_score}')\n",
    "print(f'Test Score: {test_score}')\n",
    "\n",
    "# Mean squared error score\n",
    "mse = mean_squared_error(y_test, y_pred)\n",
    "rmse = mse**(1/2)\n",
    "print(f'Root Mean Squared Error: {rmse}')"
   ]
  },
  {
   "cell_type": "markdown",
   "id": "e551da96-8bf7-43d1-9a4f-4f7edd440b88",
   "metadata": {
    "jp-MarkdownHeadingCollapsed": true
   },
   "source": [
    "### Stacking"
   ]
  },
  {
   "cell_type": "code",
   "execution_count": 273,
   "id": "7cecd48a-b088-4798-be8c-d059032af323",
   "metadata": {},
   "outputs": [],
   "source": [
    "from mlxtend.regressor import StackingRegressor\n",
    "from sklearn.ensemble import RandomForestRegressor, GradientBoostingRegressor\n",
    "from sklearn.neighbors import KNeighborsRegressor\n",
    "from sklearn.linear_model import LinearRegression\n",
    "from sklearn.metrics import mean_squared_error\n",
    "\n",
    "# Define base models\n",
    "rf = RandomForestRegressor(n_estimators=300, max_depth=5, min_samples_leaf=3, random_state=0)\n",
    "gbr = GradientBoostingRegressor(n_estimators=200, random_state=0)\n",
    "knn = KNeighborsRegressor(n_neighbors=5)\n",
    "\n",
    "# Define meta-model\n",
    "meta_model = LinearRegression()\n",
    "\n",
    "# Create Stacking Regressor\n",
    "stacking_regressor = StackingRegressor(\n",
    "    regressors=[rf, gbr, knn],  # Base models\n",
    "    meta_regressor=meta_model  # Meta-model\n",
    ")"
   ]
  },
  {
   "cell_type": "code",
   "execution_count": 275,
   "id": "4fa945c3-fcf1-4862-a857-e2c3ad347782",
   "metadata": {},
   "outputs": [
    {
     "name": "stdout",
     "output_type": "stream",
     "text": [
      "Train Score: 0.29892424729819145\n",
      "Test Score: -0.0032623514126708386\n",
      "Root Mean Squared Error: 67335.94436133509\n"
     ]
    }
   ],
   "source": [
    "pipeline = Pipeline([('preprocess', preprocessor), ('regressor', stacking_regressor)])\n",
    "\n",
    "# Fit the stacking model on the training data\n",
    "pipeline.fit(x_train, y_train)\n",
    "\n",
    "#Pipeline score\n",
    "train_score = pipeline.score(x_train, y_train)\n",
    "test_score = pipeline.score(x_test, y_test)\n",
    "print(f'Train Score: {train_score}')\n",
    "print(f'Test Score: {test_score}')\n",
    "\n",
    "# Mean squared error score\n",
    "mse = mean_squared_error(y_test, y_pred)\n",
    "rmse = mse**(1/2)\n",
    "print(f'Root Mean Squared Error: {rmse}')"
   ]
  },
  {
   "cell_type": "markdown",
   "id": "03d079c1-fe8e-4618-a954-07ffa391acfb",
   "metadata": {
    "jp-MarkdownHeadingCollapsed": true
   },
   "source": [
    "### RandomizedSearchCV"
   ]
  },
  {
   "cell_type": "code",
   "execution_count": 226,
   "id": "557746a8-588f-4128-aa09-510cebe153a3",
   "metadata": {},
   "outputs": [],
   "source": [
    "# param_grid = {\n",
    "#     'regressor__n_estimators': [100, 200],\n",
    "# }\n",
    "\n",
    "# # Grid search using previous pipeline\n",
    "# rsv = GridSearchCV(estimator=pipeline, param_grid = param_grid, cv=2, scoring='neg_mean_squared_error')"
   ]
  },
  {
   "cell_type": "code",
   "execution_count": 227,
   "id": "19eb3d43-daa8-438b-82a7-b615c90ec5dc",
   "metadata": {
    "scrolled": true
   },
   "outputs": [],
   "source": [
    "# Fit rsv using training data and print best score\n",
    "# rsv.fit(x_train, y_train)\n",
    "\n",
    "# best_rf = rsv.best_estimator_\n",
    "\n",
    "# # Evaluate the model on the test set\n",
    "# y_pred = best_rf.predict(X_test_top)"
   ]
  },
  {
   "cell_type": "code",
   "execution_count": 228,
   "id": "09c5c825-e8a7-4212-881b-03af1b0406dd",
   "metadata": {},
   "outputs": [],
   "source": [
    "# Calculate performance metrics\n",
    "# mse = mean_squared_error(y_test, y_pred)\n",
    "# print(f'Mean Squared Error: {mse}')\n",
    "\n",
    "# acc_score = rf_top.score(y_test, y_pred)\n",
    "# print(f'Accuracy Score: {acc_score}')"
   ]
  },
  {
   "cell_type": "markdown",
   "id": "cbbca91a-1b6f-404b-9fdd-500f8313fb5c",
   "metadata": {},
   "source": [
    "## Testing model"
   ]
  },
  {
   "cell_type": "code",
   "execution_count": 363,
   "id": "61cfcc8e-7188-497e-809c-5d737532585c",
   "metadata": {},
   "outputs": [],
   "source": [
    "# Predicting car price\n",
    "test = test_set[feature_cols]\n",
    "y_pred_test = pipeline.predict(test)\n",
    "price_test = pd.Series(y_pred_test)"
   ]
  },
  {
   "cell_type": "code",
   "execution_count": 365,
   "id": "cbef8b5a-a281-4dec-a933-ad0915058697",
   "metadata": {},
   "outputs": [
    {
     "data": {
      "text/html": [
       "<div>\n",
       "<style scoped>\n",
       "    .dataframe tbody tr th:only-of-type {\n",
       "        vertical-align: middle;\n",
       "    }\n",
       "\n",
       "    .dataframe tbody tr th {\n",
       "        vertical-align: top;\n",
       "    }\n",
       "\n",
       "    .dataframe thead th {\n",
       "        text-align: right;\n",
       "    }\n",
       "</style>\n",
       "<table border=\"1\" class=\"dataframe\">\n",
       "  <thead>\n",
       "    <tr style=\"text-align: right;\">\n",
       "      <th></th>\n",
       "      <th>id</th>\n",
       "      <th>price</th>\n",
       "    </tr>\n",
       "  </thead>\n",
       "  <tbody>\n",
       "    <tr>\n",
       "      <th>0</th>\n",
       "      <td>188533</td>\n",
       "      <td>17320.242390</td>\n",
       "    </tr>\n",
       "    <tr>\n",
       "      <th>1</th>\n",
       "      <td>188534</td>\n",
       "      <td>91450.567364</td>\n",
       "    </tr>\n",
       "    <tr>\n",
       "      <th>2</th>\n",
       "      <td>188535</td>\n",
       "      <td>67691.926926</td>\n",
       "    </tr>\n",
       "    <tr>\n",
       "      <th>3</th>\n",
       "      <td>188536</td>\n",
       "      <td>29194.017180</td>\n",
       "    </tr>\n",
       "    <tr>\n",
       "      <th>4</th>\n",
       "      <td>188537</td>\n",
       "      <td>29780.586920</td>\n",
       "    </tr>\n",
       "  </tbody>\n",
       "</table>\n",
       "</div>"
      ],
      "text/plain": [
       "       id         price\n",
       "0  188533  17320.242390\n",
       "1  188534  91450.567364\n",
       "2  188535  67691.926926\n",
       "3  188536  29194.017180\n",
       "4  188537  29780.586920"
      ]
     },
     "execution_count": 365,
     "metadata": {},
     "output_type": "execute_result"
    }
   ],
   "source": [
    "# Combining car id and predicted price \n",
    "car_id = test_set.id\n",
    "final_df = pd.concat([car_id, price_test], axis = 1)\n",
    "\n",
    "# Renaming columns\n",
    "final_df.rename(columns = {0:'price'}, inplace = True)\n",
    "final_df.head()"
   ]
  },
  {
   "cell_type": "code",
   "execution_count": 367,
   "id": "72c4e984-ef84-45de-a935-fbf3ad3ba4de",
   "metadata": {},
   "outputs": [],
   "source": [
    "import os\n",
    "path = r'C:\\Users\\user\\Downloads'\n",
    "final_df.to_csv(os.path.join(path,r'predicted_car_prices.csv'))"
   ]
  }
 ],
 "metadata": {
  "kernelspec": {
   "display_name": "Python 3 (ipykernel)",
   "language": "python",
   "name": "python3"
  },
  "language_info": {
   "codemirror_mode": {
    "name": "ipython",
    "version": 3
   },
   "file_extension": ".py",
   "mimetype": "text/x-python",
   "name": "python",
   "nbconvert_exporter": "python",
   "pygments_lexer": "ipython3",
   "version": "3.10.14"
  }
 },
 "nbformat": 4,
 "nbformat_minor": 5
}
